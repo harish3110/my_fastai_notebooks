{
 "cells": [
  {
   "cell_type": "markdown",
   "metadata": {
    "colab_type": "text",
    "id": "fb_sQ0119Ap0"
   },
   "source": [
    "# Sentiment Analysis using Transformer\n",
    "> Using HuggingFace pretrained transformer models\n",
    ">>Reference: https://www.ntentional.com/nlp/training%20technique/classification/2020/04/17/fasthugs_seq_classification.html"
   ]
  },
  {
   "cell_type": "code",
   "execution_count": 1,
   "metadata": {
    "colab": {
     "base_uri": "https://localhost:8080/",
     "height": 121
    },
    "colab_type": "code",
    "executionInfo": {
     "elapsed": 12874,
     "status": "ok",
     "timestamp": 1590060226818,
     "user": {
      "displayName": "Harish Vadlamani",
      "photoUrl": "https://lh3.googleusercontent.com/a-/AOh14GjvtEs9ilUiox4zq4735m_LYCl9UMPSdSRbubWz-A=s64",
      "userId": "12704981055162716897"
     },
     "user_tz": -330
    },
    "id": "B0Xj_iwx5KR-",
    "outputId": "3878484e-4ab5-4385-826f-4797383b3cf9"
   },
   "outputs": [
    {
     "name": "stdout",
     "output_type": "stream",
     "text": [
      "\u001b[K     |████████████████████████████████| 194kB 2.8MB/s \n",
      "\u001b[K     |████████████████████████████████| 645kB 2.9MB/s \n",
      "\u001b[K     |████████████████████████████████| 3.8MB 14.1MB/s \n",
      "\u001b[K     |████████████████████████████████| 890kB 35.0MB/s \n",
      "\u001b[K     |████████████████████████████████| 1.1MB 46.4MB/s \n",
      "\u001b[?25h  Building wheel for sacremoses (setup.py) ... \u001b[?25l\u001b[?25hdone\n"
     ]
    }
   ],
   "source": [
    "!pip install fastai2 -q\n",
    "!pip install transformers -q"
   ]
  },
  {
   "cell_type": "code",
   "execution_count": null,
   "metadata": {
    "colab": {},
    "colab_type": "code",
    "id": "kyfJwBEf5VmV"
   },
   "outputs": [],
   "source": [
    "%reload_ext autoreload\n",
    "%autoreload 2\n",
    "import os\n",
    "# os.environ['CUDA_LAUNCH_BLOCKING'] = \"1\"\n",
    "\n",
    "from fastai2.basics import *\n",
    "from fastai2.text.all import *\n",
    "from fastai2.callback.all import *\n",
    "\n",
    "from transformers import AutoModelForSequenceClassification, AutoTokenizer, AutoConfig\n",
    "import json"
   ]
  },
  {
   "cell_type": "code",
   "execution_count": 3,
   "metadata": {
    "colab": {
     "base_uri": "https://localhost:8080/",
     "height": 17
    },
    "colab_type": "code",
    "executionInfo": {
     "elapsed": 21116,
     "status": "ok",
     "timestamp": 1590060235084,
     "user": {
      "displayName": "Harish Vadlamani",
      "photoUrl": "https://lh3.googleusercontent.com/a-/AOh14GjvtEs9ilUiox4zq4735m_LYCl9UMPSdSRbubWz-A=s64",
      "userId": "12704981055162716897"
     },
     "user_tz": -330
    },
    "id": "bKrulO325ZvY",
    "outputId": "c9e60eb5-3af8-434e-f5f0-c78f076facb2"
   },
   "outputs": [
    {
     "data": {
      "text/html": [],
      "text/plain": [
       "<IPython.core.display.HTML object>"
      ]
     },
     "metadata": {
      "tags": []
     },
     "output_type": "display_data"
    }
   ],
   "source": [
    "path = untar_data(URLs.IMDB_SAMPLE)\n",
    "model_path = Path('models')\n",
    "df = pd.read_csv(path/'texts.csv')"
   ]
  },
  {
   "cell_type": "code",
   "execution_count": null,
   "metadata": {
    "colab": {},
    "colab_type": "code",
    "id": "Q89QYBTr50u3"
   },
   "outputs": [],
   "source": [
    "class FastHugsTokenizer():\n",
    "    \"\"\" \n",
    "        transformer_tokenizer : takes the tokenizer that has been loaded from the tokenizer class\n",
    "        model_name : model type set by the user\n",
    "        max_seq_len : override default sequence length, typically 512 for bert-like models\n",
    "        sentence_pair : whether a single sentence (sequence) or pair of sentences are used\n",
    "    \"\"\"\n",
    "    def __init__(self, transformer_tokenizer=None, model_name = 'roberta', max_seq_len=None, \n",
    "                 sentence_pair=False, **kwargs): \n",
    "        self.tok, self.max_seq_len=transformer_tokenizer, max_seq_len\n",
    "        if self.max_seq_len:\n",
    "            if self.max_seq_len<=self.tok.max_len: \n",
    "                print('WARNING: max_seq_len is larger than the model default transformer_tokenizer.max_len')\n",
    "        if sentence_pair: self.max_seq_len=ifnone(max_seq_len, self.tok.max_len_sentences_pair) \n",
    "        else: self.max_seq_len=ifnone(max_seq_len, self.tok.max_len_single_sentence)\n",
    "        self.model_name = model_name\n",
    "        \n",
    "    def do_tokenize(self, o:str):\n",
    "        \"\"\"Limits the maximum sequence length and add the special tokens\"\"\"\n",
    "        CLS, SEP=self.tok.cls_token, self.tok.sep_token\n",
    "        \n",
    "        # Add prefix space, depending on model selected\n",
    "        if 'roberta' in model_name: tokens=self.tok.tokenize(o, add_prefix_space=True)[:self.max_seq_len]\n",
    "        else: tokens = self.tok.tokenize(o)[:self.max_seq_len]\n",
    "        \n",
    "        # order of 'tokens', 'SEP' and 'CLS'\n",
    "        if 'xlnet' in model_name: return tokens + [SEP] +  [CLS]\n",
    "        else: return [CLS] + tokens + [SEP]\n",
    "\n",
    "    def __call__(self, items): \n",
    "        for o in items: yield self.do_tokenize(o)"
   ]
  },
  {
   "cell_type": "code",
   "execution_count": null,
   "metadata": {
    "colab": {},
    "colab_type": "code",
    "id": "egJPmIoQ53C8"
   },
   "outputs": [],
   "source": [
    "class FastHugsModel(nn.Module):\n",
    "    'Inspired by https://www.kaggle.com/melissarajaram/roberta-fastai-huggingface-transformers/data'\n",
    "    def __init__(self, transformer_cls, config_dict, n_class, pretrained=True):\n",
    "        super(FastHugsModel, self).__init__()\n",
    "        self.config = config_dict  \n",
    "        self.config._num_labels = n_class\n",
    "        # load model\n",
    "        if pretrained: self.transformer = transformer_cls.from_pretrained(model_name, config=self.config)\n",
    "        else: self.transformer = transformer_cls.from_config(config=self.config)\n",
    "        \n",
    "    def forward(self, input_ids, attention_mask=None):\n",
    "        attention_mask = (input_ids!=1).type(input_ids.type()) \n",
    "        logits = self.transformer(input_ids, attention_mask = attention_mask)[0] \n",
    "        return logits"
   ]
  },
  {
   "cell_type": "markdown",
   "metadata": {
    "colab_type": "text",
    "id": "QWtyjzyH6jBx"
   },
   "source": [
    "### Hugging Face Model + Config:\n",
    "\n",
    "- `AutoModelForSequenceClassification` will define our model. When this is padded to the `FastHugsModel` class below then model will be instantiated and the weights downloaded (if you are using a pretrained model)\n",
    "- `AutoConfig` will define the model architecture and settings\n",
    "- `model_name` is the model architecture (and optionally model weights) you'd like to use.\n",
    "    - Models tested: `bert-base-uncased`, `roberta-base`, `distilbert-base-cased`, `albert-base-v2`\n",
    "    - You can find all of HuggingFace's models at [https://huggingface.co/models](https://huggingface.co/models), although not all of them are supported by `AutoModel`,`AutoConfig` and `AutoTokenizer`"
   ]
  },
  {
   "cell_type": "code",
   "execution_count": 6,
   "metadata": {
    "colab": {
     "base_uri": "https://localhost:8080/",
     "height": 66,
     "referenced_widgets": [
      "0e32ef806c964c49878c7b94c2c41774",
      "619b89ba1f7b4aadaf0dc8244e38d4c5",
      "2c3dc4b26ad746df94995c0ec48b9aca",
      "a2f2481855d740819c88371adc4cc54d",
      "d5d06203a56e456a8dc739ea36508ced",
      "33a5aef3b276471188a904e599271a54",
      "8dac9bd211ac4620b9a588924c60eabb",
      "0a7889ec6c0a4fa78c3f85b4607a8609"
     ]
    },
    "colab_type": "code",
    "executionInfo": {
     "elapsed": 21091,
     "status": "ok",
     "timestamp": 1590060235092,
     "user": {
      "displayName": "Harish Vadlamani",
      "photoUrl": "https://lh3.googleusercontent.com/a-/AOh14GjvtEs9ilUiox4zq4735m_LYCl9UMPSdSRbubWz-A=s64",
      "userId": "12704981055162716897"
     },
     "user_tz": -330
    },
    "id": "wEbpVHI56M95",
    "outputId": "ca6badf3-0a77-409f-c65d-f46d188c1e6e"
   },
   "outputs": [
    {
     "data": {
      "application/vnd.jupyter.widget-view+json": {
       "model_id": "0e32ef806c964c49878c7b94c2c41774",
       "version_major": 2,
       "version_minor": 0
      },
      "text/plain": [
       "HBox(children=(FloatProgress(value=0.0, description='Downloading', max=481.0, style=ProgressStyle(description_…"
      ]
     },
     "metadata": {
      "tags": []
     },
     "output_type": "display_data"
    },
    {
     "name": "stdout",
     "output_type": "stream",
     "text": [
      "\n"
     ]
    }
   ],
   "source": [
    "model_name = 'roberta-base' \n",
    "model_class = AutoModelForSequenceClassification\n",
    "config_dict = AutoConfig.from_pretrained(model_name)"
   ]
  },
  {
   "cell_type": "markdown",
   "metadata": {
    "colab_type": "text",
    "id": "Ej53TJM66nRu"
   },
   "source": [
    "### HuggingFace Tokenizer & Vocab:\n",
    "\n",
    "- `AutoTokenizer` will load our tokenizer and enable us grab our vocab\n",
    "\n",
    "fastai expects `vocab` to be a list, however HuggingFace's `get_vocab` returns a `token : index` dict. We need to convert this dict to a list to be able to use it in fastai"
   ]
  },
  {
   "cell_type": "code",
   "execution_count": 7,
   "metadata": {
    "colab": {
     "base_uri": "https://localhost:8080/",
     "height": 133,
     "referenced_widgets": [
      "eb7ecb4de2204b0780fc227cb85ea6cc",
      "dbd1c4ff990646bf8276daf012ff751f",
      "4d8ad93106274153bd7997a9f096be4a",
      "8ae6f4ccae454217a7441e307dc6f330",
      "5eec02398f4e40768689693f2837d25f",
      "2f59db4e21f44f4481bb9ea2f2167411",
      "fa751991e9a44d6da1db4576fa073424",
      "de178370e05f47f28ba5ab51b11a09cc",
      "c13ab613f9854e0f9e60c78bb1b10769",
      "975826f816a240878fc6380bba45c861",
      "74bd55b2325e4460ac842b1cfb194d12",
      "6f462555009349d9a2c4f8c8ff54e356",
      "0ca8b62c653d4563b7cc5ef029b7a9b7",
      "0391c617ae4849899c44ea870eeb07d1",
      "8211324815b64a3d830addc5edf17502",
      "53991bdbf7bd4037adeee60c4c1280b6"
     ]
    },
    "colab_type": "code",
    "executionInfo": {
     "elapsed": 22401,
     "status": "ok",
     "timestamp": 1590060236420,
     "user": {
      "displayName": "Harish Vadlamani",
      "photoUrl": "https://lh3.googleusercontent.com/a-/AOh14GjvtEs9ilUiox4zq4735m_LYCl9UMPSdSRbubWz-A=s64",
      "userId": "12704981055162716897"
     },
     "user_tz": -330
    },
    "id": "0Tp9VgHL6u8h",
    "outputId": "f6c445c4-ae0a-47d5-a791-95a9b10d3c50"
   },
   "outputs": [
    {
     "data": {
      "application/vnd.jupyter.widget-view+json": {
       "model_id": "eb7ecb4de2204b0780fc227cb85ea6cc",
       "version_major": 2,
       "version_minor": 0
      },
      "text/plain": [
       "HBox(children=(FloatProgress(value=0.0, description='Downloading', max=898823.0, style=ProgressStyle(descripti…"
      ]
     },
     "metadata": {
      "tags": []
     },
     "output_type": "display_data"
    },
    {
     "name": "stdout",
     "output_type": "stream",
     "text": [
      "\n"
     ]
    },
    {
     "data": {
      "application/vnd.jupyter.widget-view+json": {
       "model_id": "c13ab613f9854e0f9e60c78bb1b10769",
       "version_major": 2,
       "version_minor": 0
      },
      "text/plain": [
       "HBox(children=(FloatProgress(value=0.0, description='Downloading', max=456318.0, style=ProgressStyle(descripti…"
      ]
     },
     "metadata": {
      "tags": []
     },
     "output_type": "display_data"
    },
    {
     "name": "stdout",
     "output_type": "stream",
     "text": [
      "\n"
     ]
    },
    {
     "data": {
      "text/plain": [
       "50265"
      ]
     },
     "execution_count": 7,
     "metadata": {
      "tags": []
     },
     "output_type": "execute_result"
    }
   ],
   "source": [
    "tokenizer = AutoTokenizer.from_pretrained(model_name)\n",
    "tokenizer_vocab=tokenizer.get_vocab() \n",
    "tokenizer_vocab_ls = [k for k, v in sorted(tokenizer_vocab.items(), key=lambda item: item[1])]\n",
    "len(tokenizer_vocab_ls)"
   ]
  },
  {
   "cell_type": "code",
   "execution_count": 8,
   "metadata": {
    "colab": {
     "base_uri": "https://localhost:8080/",
     "height": 34
    },
    "colab_type": "code",
    "executionInfo": {
     "elapsed": 23372,
     "status": "ok",
     "timestamp": 1590060237414,
     "user": {
      "displayName": "Harish Vadlamani",
      "photoUrl": "https://lh3.googleusercontent.com/a-/AOh14GjvtEs9ilUiox4zq4735m_LYCl9UMPSdSRbubWz-A=s64",
      "userId": "12704981055162716897"
     },
     "user_tz": -330
    },
    "id": "a1nnUCiJ61D9",
    "outputId": "d1028a71-83cc-4acf-ddd2-e60640235a4d"
   },
   "outputs": [
    {
     "data": {
      "text/plain": [
       "['<s>', '<pad>', '</s>', '<unk>', '.', 'Ġthe', ',', 'Ġto', 'Ġand', 'Ġof']"
      ]
     },
     "execution_count": 8,
     "metadata": {
      "tags": []
     },
     "output_type": "execute_result"
    }
   ],
   "source": [
    "tokenizer_vocab_ls[:10]"
   ]
  },
  {
   "cell_type": "markdown",
   "metadata": {
    "colab_type": "text",
    "id": "OflxE_9H7IZX"
   },
   "source": [
    "### Model Splitter\n",
    "\n",
    "In order to be able to fine-tune our classifier head we need to first split the HuggingFace model's classifier head from the body. These functions are dependent on the specific architecture"
   ]
  },
  {
   "cell_type": "code",
   "execution_count": null,
   "metadata": {
    "colab": {},
    "colab_type": "code",
    "id": "YotK19YA7VVj"
   },
   "outputs": [],
   "source": [
    "from fastai2.basics import *\n",
    "\n",
    "def bert_cls_splitter(m):\n",
    "    \"Split the classifier head from the backbone\"\n",
    "    groups = [nn.Sequential(m.transformer.bert.embeddings,\n",
    "                m.transformer.bert.encoder.layer[0],\n",
    "                m.transformer.bert.encoder.layer[1],\n",
    "                m.transformer.bert.encoder.layer[2],\n",
    "                m.transformer.bert.encoder.layer[3],\n",
    "                m.transformer.bert.encoder.layer[4],\n",
    "                m.transformer.bert.encoder.layer[5],\n",
    "                m.transformer.bert.encoder.layer[6],\n",
    "                m.transformer.bert.encoder.layer[7],\n",
    "                m.transformer.bert.encoder.layer[8],\n",
    "                m.transformer.bert.encoder.layer[9],\n",
    "                m.transformer.bert.encoder.layer[10],\n",
    "                m.transformer.bert.encoder.layer[11],\n",
    "                m.transformer.bert.pooler)]\n",
    "    groups = L(groups + [m.transformer.classifier]) \n",
    "    return groups.map(params)\n",
    "\n",
    "\n",
    "def albert_cls_splitter(m):\n",
    "    groups = [nn.Sequential(m.transformer.albert.embeddings,\n",
    "                m.transformer.albert.encoder.embedding_hidden_mapping_in, \n",
    "                m.transformer.albert.encoder.albert_layer_groups,\n",
    "                m.transformer.albert.pooler)]\n",
    "    groups = L(groups + [m.transformer.classifier]) \n",
    "    return groups.map(params)\n",
    "\n",
    "\n",
    "def distilbert_cls_splitter(m):\n",
    "    groups = [nn.Sequential(m.transformer.distilbert.embeddings,\n",
    "                m.transformer.distilbert.transformer.layer[0], \n",
    "                m.transformer.distilbert.transformer.layer[1],\n",
    "                m.transformer.distilbert.transformer.layer[2],\n",
    "                m.transformer.distilbert.transformer.layer[3],\n",
    "                m.transformer.distilbert.transformer.layer[4],\n",
    "                m.transformer.distilbert.transformer.layer[5],\n",
    "                m.transformer.pre_classifier)]\n",
    "    groups = L(groups + [m.transformer.classifier]) \n",
    "    return groups.map(params)\n",
    "\n",
    "\n",
    "def roberta_cls_splitter(m):\n",
    "    \"Split the classifier head from the backbone\"\n",
    "    groups = [nn.Sequential(m.transformer.roberta.embeddings,\n",
    "                  m.transformer.roberta.encoder.layer[0],\n",
    "                  m.transformer.roberta.encoder.layer[1],\n",
    "                  m.transformer.roberta.encoder.layer[2],\n",
    "                  m.transformer.roberta.encoder.layer[3],\n",
    "                  m.transformer.roberta.encoder.layer[4],\n",
    "                  m.transformer.roberta.encoder.layer[5],\n",
    "                  m.transformer.roberta.encoder.layer[6],\n",
    "                  m.transformer.roberta.encoder.layer[7],\n",
    "                  m.transformer.roberta.encoder.layer[8],\n",
    "                  m.transformer.roberta.encoder.layer[9],\n",
    "                  m.transformer.roberta.encoder.layer[10],\n",
    "                  m.transformer.roberta.encoder.layer[11],\n",
    "                  m.transformer.roberta.pooler)]\n",
    "    groups = L(groups + [m.transformer.classifier])\n",
    "    return groups.map(params)\n",
    "\n",
    "splitters = {'bert_cls_splitter':bert_cls_splitter,\n",
    "            'albert_cls_splitter':albert_cls_splitter,\n",
    "            'distilbert_cls_splitter':distilbert_cls_splitter,\n",
    "            'roberta_cls_splitter':roberta_cls_splitter}"
   ]
  },
  {
   "cell_type": "code",
   "execution_count": null,
   "metadata": {
    "colab": {},
    "colab_type": "code",
    "id": "17b8MoMb7dii"
   },
   "outputs": [],
   "source": [
    "splitter_nm = model_name.split('-')[0] + '_cls_splitter'\n",
    "model_splitter = splitters[splitter_nm]"
   ]
  },
  {
   "cell_type": "markdown",
   "metadata": {
    "colab_type": "text",
    "id": "pF5PB8I87_Bb"
   },
   "source": [
    "### Creating a fastai tokenizer for learner based off HugginFace tokenizer:"
   ]
  },
  {
   "cell_type": "code",
   "execution_count": null,
   "metadata": {
    "colab": {},
    "colab_type": "code",
    "id": "1QK-XYQR7yVp"
   },
   "outputs": [],
   "source": [
    "max_seq_len = None  \n",
    "sentence_pair=False\n",
    "\n",
    "fasthugstok = partial(FastHugsTokenizer, transformer_tokenizer=tokenizer, model_name=model_name, \n",
    "                      max_seq_len=max_seq_len, sentence_pair=sentence_pair)"
   ]
  },
  {
   "cell_type": "code",
   "execution_count": null,
   "metadata": {
    "colab": {},
    "colab_type": "code",
    "id": "T1wgFeag7-VW"
   },
   "outputs": [],
   "source": [
    "fastai_tokenizer = Tokenizer.from_df(text_cols='text', res_col_name='text', tok_func=fasthugstok, rules=[])"
   ]
  },
  {
   "cell_type": "markdown",
   "metadata": {
    "colab_type": "text",
    "id": "T2FooM4K8LkO"
   },
   "source": [
    "### Padding:\n",
    "\n",
    "We need to make sure our padding is done correctly as some transformer models prefer padding on the left while others prefer it on the right. tokenizer.padding_side will tell us which side is correct. e.g., BERT, Roberta prefers padding to the right, so we set pad_first=False"
   ]
  },
  {
   "cell_type": "code",
   "execution_count": null,
   "metadata": {
    "colab": {},
    "colab_type": "code",
    "id": "FrqP1aX38Sy_"
   },
   "outputs": [],
   "source": [
    "def transformer_padding(tokenizer=None, max_seq_len=None, sentence_pair=False): \n",
    "    if tokenizer.padding_side == 'right': pad_first=False\n",
    "    else: pad_first=True\n",
    "    max_seq_len = ifnone(max_seq_len, tokenizer.max_len) \n",
    "    return partial(pad_input_chunk, pad_first=pad_first, pad_idx=tokenizer.pad_token_id, seq_len=max_seq_len)"
   ]
  },
  {
   "cell_type": "code",
   "execution_count": null,
   "metadata": {
    "colab": {},
    "colab_type": "code",
    "id": "WwWf34Rs8X6Z"
   },
   "outputs": [],
   "source": [
    "bs = 4\n",
    "padding=transformer_padding(tokenizer)"
   ]
  },
  {
   "cell_type": "markdown",
   "metadata": {
    "colab_type": "text",
    "id": "-RJ9th-N8lV8"
   },
   "source": [
    "### Dataloaders:"
   ]
  },
  {
   "cell_type": "code",
   "execution_count": 15,
   "metadata": {
    "colab": {
     "base_uri": "https://localhost:8080/",
     "height": 17
    },
    "colab_type": "code",
    "executionInfo": {
     "elapsed": 42263,
     "status": "ok",
     "timestamp": 1590060256375,
     "user": {
      "displayName": "Harish Vadlamani",
      "photoUrl": "https://lh3.googleusercontent.com/a-/AOh14GjvtEs9ilUiox4zq4735m_LYCl9UMPSdSRbubWz-A=s64",
      "userId": "12704981055162716897"
     },
     "user_tz": -330
    },
    "id": "An9MgSqx8cyK",
    "outputId": "400b9fda-b3f1-4cbe-ad43-6d04451c56b6"
   },
   "outputs": [
    {
     "data": {
      "text/html": [],
      "text/plain": [
       "<IPython.core.display.HTML object>"
      ]
     },
     "metadata": {
      "tags": []
     },
     "output_type": "display_data"
    }
   ],
   "source": [
    "dls = TextDataLoaders.from_df(df, text_col=\"text\", tok_tfm=fastai_tokenizer, text_vocab=tokenizer_vocab_ls,\n",
    "                              before_batch=[padding], label_col='label', valid_col='is_valid', bs=bs)"
   ]
  },
  {
   "cell_type": "code",
   "execution_count": 16,
   "metadata": {
    "colab": {
     "base_uri": "https://localhost:8080/",
     "height": 195
    },
    "colab_type": "code",
    "executionInfo": {
     "elapsed": 42258,
     "status": "ok",
     "timestamp": 1590060256379,
     "user": {
      "displayName": "Harish Vadlamani",
      "photoUrl": "https://lh3.googleusercontent.com/a-/AOh14GjvtEs9ilUiox4zq4735m_LYCl9UMPSdSRbubWz-A=s64",
      "userId": "12704981055162716897"
     },
     "user_tz": -330
    },
    "id": "CwlpEXNC8jSm",
    "outputId": "8665baff-4d7c-488b-e627-4f35617273e5"
   },
   "outputs": [
    {
     "data": {
      "text/html": [
       "<table border=\"1\" class=\"dataframe\">\n",
       "  <thead>\n",
       "    <tr style=\"text-align: right;\">\n",
       "      <th></th>\n",
       "      <th>text</th>\n",
       "      <th>category</th>\n",
       "    </tr>\n",
       "  </thead>\n",
       "  <tbody>\n",
       "    <tr>\n",
       "      <th>0</th>\n",
       "      <td>&lt;s&gt; ĠI Ġwas Ġfortunate Ġenough Ġto Ġmeet ĠGeorge ĠPal Ġ( and Ġstill Ġhave Ġmy ĠDS : TM OB Ġposter Ġaut ographed Ġby Ġhim ) Ġat Ġa Ġconvention Ġshortly Ġafter Ġthe Ġrelease , Ġand Ġasked Ġhim Ġwhy Ġhe Ġchose Ġto Ġdo Ġthe Ġfilm Ġ\" camp \". ĠBefore Ġhe Ġcould Ġanswer , Ġtwo Ġstudio Ġfl acks Ġintercepted Ġand Ġlect ured Ġme Ġon</td>\n",
       "      <td>negative</td>\n",
       "    </tr>\n",
       "    <tr>\n",
       "      <th>1</th>\n",
       "      <td>&lt;s&gt; ĠOh Ġdear Ġ. ĠYet Ġanother Ġexample Ġof Ġ\" ĠO ire land Ġ\" Ġand Ġreligion Ġ. ĠNo Ġdoubt Ġwe 'll Ġbe Ġseeing Ġsome Ġdepressing Ġnonsense Ġfeaturing Ġsome Ġ\" Ġhun ky Ġand Ġmach o Ġfreedom Ġfighters Ġ\" Ġfrom Ġthe ĠIRA Ġ. ĠWell Ġthat Ġwas Ġmy Ġinitial Ġreaction Ġwhen Ġthe Ġcredits Ġstarted Ġbut Ġjust Ġover Ġan Ġhour Ġand Ġa Ġhalf Ġlater ĠI</td>\n",
       "      <td>positive</td>\n",
       "    </tr>\n",
       "    <tr>\n",
       "      <th>2</th>\n",
       "      <td>&lt;s&gt; ĠAre Ġyou Ġfamiliar Ġwith Ġconcept Ġof Ġchildren 's Ġartwork ? ĠWhile Ġit Ġis Ġnot Ġthe Ġgreatest ĠPic asso Ġany Ġthree - year - old Ġhas Ġever Ġaccomplished Ġwith Ġtheir Ġfingers , Ġyou Ġencourage Ġthem Ġto Ġdo Ġmore . ĠIf Ġpainting Ġis Ġwhat Ġmakes Ġthem Ġhappy , Ġthere Ġshould Ġbe Ġno Ġreason Ġa Ġparent Ġshould Ġhold Ġthat Ġback Ġon Ġa</td>\n",
       "      <td>negative</td>\n",
       "    </tr>\n",
       "  </tbody>\n",
       "</table>"
      ],
      "text/plain": [
       "<IPython.core.display.HTML object>"
      ]
     },
     "metadata": {
      "tags": []
     },
     "output_type": "display_data"
    }
   ],
   "source": [
    "dls.show_batch(max_n=3, trunc_at=60)"
   ]
  },
  {
   "cell_type": "markdown",
   "metadata": {
    "colab_type": "text",
    "id": "ydIIrE2c8r5n"
   },
   "source": [
    "### Learner:"
   ]
  },
  {
   "cell_type": "code",
   "execution_count": null,
   "metadata": {
    "colab": {},
    "colab_type": "code",
    "id": "nER_GhQ48v2D"
   },
   "outputs": [],
   "source": [
    "opt_func = partial(Adam, decouple_wd=True)\n",
    "loss = LabelSmoothingCrossEntropy()\n",
    "\n",
    "fasthugs_model = FastHugsModel(transformer_cls=model_class, config_dict=config_dict, n_class=dls.c, pretrained=True)\n",
    "\n",
    "learn = Learner(dls, fasthugs_model, opt_func=opt_func, splitter=model_splitter, \n",
    "                loss_func=loss, metrics=[accuracy]).to_fp16()"
   ]
  },
  {
   "cell_type": "markdown",
   "metadata": {
    "colab_type": "text",
    "id": "2nHtAmya87jl"
   },
   "source": [
    "### Training:"
   ]
  },
  {
   "cell_type": "code",
   "execution_count": null,
   "metadata": {
    "colab": {},
    "colab_type": "code",
    "id": "C8vtID5g-DpG"
   },
   "outputs": [],
   "source": [
    "# Training only the classifer head\n",
    "learn.freeze_to(1)"
   ]
  },
  {
   "cell_type": "code",
   "execution_count": 19,
   "metadata": {
    "colab": {
     "base_uri": "https://localhost:8080/",
     "height": 1000
    },
    "colab_type": "code",
    "executionInfo": {
     "elapsed": 68249,
     "status": "ok",
     "timestamp": 1590060282401,
     "user": {
      "displayName": "Harish Vadlamani",
      "photoUrl": "https://lh3.googleusercontent.com/a-/AOh14GjvtEs9ilUiox4zq4735m_LYCl9UMPSdSRbubWz-A=s64",
      "userId": "12704981055162716897"
     },
     "user_tz": -330
    },
    "id": "squ5RiFK89vk",
    "outputId": "8cd8d0e1-95ff-4c9a-c6bc-9a0a959900f0"
   },
   "outputs": [
    {
     "data": {
      "text/plain": [
       "FastHugsModel (Input shape: ['4 x 512'])\n",
       "================================================================\n",
       "Layer (type)         Output Shape         Param #    Trainable \n",
       "================================================================\n",
       "Embedding            4 x 512 x 768        38,603,520 False     \n",
       "________________________________________________________________\n",
       "Embedding            4 x 512 x 768        394,752    False     \n",
       "________________________________________________________________\n",
       "Embedding            4 x 512 x 768        768        False     \n",
       "________________________________________________________________\n",
       "LayerNorm            4 x 512 x 768        1,536      False     \n",
       "________________________________________________________________\n",
       "Dropout              4 x 512 x 768        0          False     \n",
       "________________________________________________________________\n",
       "Linear               4 x 512 x 768        590,592    False     \n",
       "________________________________________________________________\n",
       "Linear               4 x 512 x 768        590,592    False     \n",
       "________________________________________________________________\n",
       "Linear               4 x 512 x 768        590,592    False     \n",
       "________________________________________________________________\n",
       "Dropout              4 x 12 x 512 x 512   0          False     \n",
       "________________________________________________________________\n",
       "Linear               4 x 512 x 768        590,592    False     \n",
       "________________________________________________________________\n",
       "LayerNorm            4 x 512 x 768        1,536      False     \n",
       "________________________________________________________________\n",
       "Dropout              4 x 512 x 768        0          False     \n",
       "________________________________________________________________\n",
       "Linear               4 x 512 x 3072       2,362,368  False     \n",
       "________________________________________________________________\n",
       "Linear               4 x 512 x 768        2,360,064  False     \n",
       "________________________________________________________________\n",
       "LayerNorm            4 x 512 x 768        1,536      False     \n",
       "________________________________________________________________\n",
       "Dropout              4 x 512 x 768        0          False     \n",
       "________________________________________________________________\n",
       "Linear               4 x 512 x 768        590,592    False     \n",
       "________________________________________________________________\n",
       "Linear               4 x 512 x 768        590,592    False     \n",
       "________________________________________________________________\n",
       "Linear               4 x 512 x 768        590,592    False     \n",
       "________________________________________________________________\n",
       "Dropout              4 x 12 x 512 x 512   0          False     \n",
       "________________________________________________________________\n",
       "Linear               4 x 512 x 768        590,592    False     \n",
       "________________________________________________________________\n",
       "LayerNorm            4 x 512 x 768        1,536      False     \n",
       "________________________________________________________________\n",
       "Dropout              4 x 512 x 768        0          False     \n",
       "________________________________________________________________\n",
       "Linear               4 x 512 x 3072       2,362,368  False     \n",
       "________________________________________________________________\n",
       "Linear               4 x 512 x 768        2,360,064  False     \n",
       "________________________________________________________________\n",
       "LayerNorm            4 x 512 x 768        1,536      False     \n",
       "________________________________________________________________\n",
       "Dropout              4 x 512 x 768        0          False     \n",
       "________________________________________________________________\n",
       "Linear               4 x 512 x 768        590,592    False     \n",
       "________________________________________________________________\n",
       "Linear               4 x 512 x 768        590,592    False     \n",
       "________________________________________________________________\n",
       "Linear               4 x 512 x 768        590,592    False     \n",
       "________________________________________________________________\n",
       "Dropout              4 x 12 x 512 x 512   0          False     \n",
       "________________________________________________________________\n",
       "Linear               4 x 512 x 768        590,592    False     \n",
       "________________________________________________________________\n",
       "LayerNorm            4 x 512 x 768        1,536      False     \n",
       "________________________________________________________________\n",
       "Dropout              4 x 512 x 768        0          False     \n",
       "________________________________________________________________\n",
       "Linear               4 x 512 x 3072       2,362,368  False     \n",
       "________________________________________________________________\n",
       "Linear               4 x 512 x 768        2,360,064  False     \n",
       "________________________________________________________________\n",
       "LayerNorm            4 x 512 x 768        1,536      False     \n",
       "________________________________________________________________\n",
       "Dropout              4 x 512 x 768        0          False     \n",
       "________________________________________________________________\n",
       "Linear               4 x 512 x 768        590,592    False     \n",
       "________________________________________________________________\n",
       "Linear               4 x 512 x 768        590,592    False     \n",
       "________________________________________________________________\n",
       "Linear               4 x 512 x 768        590,592    False     \n",
       "________________________________________________________________\n",
       "Dropout              4 x 12 x 512 x 512   0          False     \n",
       "________________________________________________________________\n",
       "Linear               4 x 512 x 768        590,592    False     \n",
       "________________________________________________________________\n",
       "LayerNorm            4 x 512 x 768        1,536      False     \n",
       "________________________________________________________________\n",
       "Dropout              4 x 512 x 768        0          False     \n",
       "________________________________________________________________\n",
       "Linear               4 x 512 x 3072       2,362,368  False     \n",
       "________________________________________________________________\n",
       "Linear               4 x 512 x 768        2,360,064  False     \n",
       "________________________________________________________________\n",
       "LayerNorm            4 x 512 x 768        1,536      False     \n",
       "________________________________________________________________\n",
       "Dropout              4 x 512 x 768        0          False     \n",
       "________________________________________________________________\n",
       "Linear               4 x 512 x 768        590,592    False     \n",
       "________________________________________________________________\n",
       "Linear               4 x 512 x 768        590,592    False     \n",
       "________________________________________________________________\n",
       "Linear               4 x 512 x 768        590,592    False     \n",
       "________________________________________________________________\n",
       "Dropout              4 x 12 x 512 x 512   0          False     \n",
       "________________________________________________________________\n",
       "Linear               4 x 512 x 768        590,592    False     \n",
       "________________________________________________________________\n",
       "LayerNorm            4 x 512 x 768        1,536      False     \n",
       "________________________________________________________________\n",
       "Dropout              4 x 512 x 768        0          False     \n",
       "________________________________________________________________\n",
       "Linear               4 x 512 x 3072       2,362,368  False     \n",
       "________________________________________________________________\n",
       "Linear               4 x 512 x 768        2,360,064  False     \n",
       "________________________________________________________________\n",
       "LayerNorm            4 x 512 x 768        1,536      False     \n",
       "________________________________________________________________\n",
       "Dropout              4 x 512 x 768        0          False     \n",
       "________________________________________________________________\n",
       "Linear               4 x 512 x 768        590,592    False     \n",
       "________________________________________________________________\n",
       "Linear               4 x 512 x 768        590,592    False     \n",
       "________________________________________________________________\n",
       "Linear               4 x 512 x 768        590,592    False     \n",
       "________________________________________________________________\n",
       "Dropout              4 x 12 x 512 x 512   0          False     \n",
       "________________________________________________________________\n",
       "Linear               4 x 512 x 768        590,592    False     \n",
       "________________________________________________________________\n",
       "LayerNorm            4 x 512 x 768        1,536      False     \n",
       "________________________________________________________________\n",
       "Dropout              4 x 512 x 768        0          False     \n",
       "________________________________________________________________\n",
       "Linear               4 x 512 x 3072       2,362,368  False     \n",
       "________________________________________________________________\n",
       "Linear               4 x 512 x 768        2,360,064  False     \n",
       "________________________________________________________________\n",
       "LayerNorm            4 x 512 x 768        1,536      False     \n",
       "________________________________________________________________\n",
       "Dropout              4 x 512 x 768        0          False     \n",
       "________________________________________________________________\n",
       "Linear               4 x 512 x 768        590,592    False     \n",
       "________________________________________________________________\n",
       "Linear               4 x 512 x 768        590,592    False     \n",
       "________________________________________________________________\n",
       "Linear               4 x 512 x 768        590,592    False     \n",
       "________________________________________________________________\n",
       "Dropout              4 x 12 x 512 x 512   0          False     \n",
       "________________________________________________________________\n",
       "Linear               4 x 512 x 768        590,592    False     \n",
       "________________________________________________________________\n",
       "LayerNorm            4 x 512 x 768        1,536      False     \n",
       "________________________________________________________________\n",
       "Dropout              4 x 512 x 768        0          False     \n",
       "________________________________________________________________\n",
       "Linear               4 x 512 x 3072       2,362,368  False     \n",
       "________________________________________________________________\n",
       "Linear               4 x 512 x 768        2,360,064  False     \n",
       "________________________________________________________________\n",
       "LayerNorm            4 x 512 x 768        1,536      False     \n",
       "________________________________________________________________\n",
       "Dropout              4 x 512 x 768        0          False     \n",
       "________________________________________________________________\n",
       "Linear               4 x 512 x 768        590,592    False     \n",
       "________________________________________________________________\n",
       "Linear               4 x 512 x 768        590,592    False     \n",
       "________________________________________________________________\n",
       "Linear               4 x 512 x 768        590,592    False     \n",
       "________________________________________________________________\n",
       "Dropout              4 x 12 x 512 x 512   0          False     \n",
       "________________________________________________________________\n",
       "Linear               4 x 512 x 768        590,592    False     \n",
       "________________________________________________________________\n",
       "LayerNorm            4 x 512 x 768        1,536      False     \n",
       "________________________________________________________________\n",
       "Dropout              4 x 512 x 768        0          False     \n",
       "________________________________________________________________\n",
       "Linear               4 x 512 x 3072       2,362,368  False     \n",
       "________________________________________________________________\n",
       "Linear               4 x 512 x 768        2,360,064  False     \n",
       "________________________________________________________________\n",
       "LayerNorm            4 x 512 x 768        1,536      False     \n",
       "________________________________________________________________\n",
       "Dropout              4 x 512 x 768        0          False     \n",
       "________________________________________________________________\n",
       "Linear               4 x 512 x 768        590,592    False     \n",
       "________________________________________________________________\n",
       "Linear               4 x 512 x 768        590,592    False     \n",
       "________________________________________________________________\n",
       "Linear               4 x 512 x 768        590,592    False     \n",
       "________________________________________________________________\n",
       "Dropout              4 x 12 x 512 x 512   0          False     \n",
       "________________________________________________________________\n",
       "Linear               4 x 512 x 768        590,592    False     \n",
       "________________________________________________________________\n",
       "LayerNorm            4 x 512 x 768        1,536      False     \n",
       "________________________________________________________________\n",
       "Dropout              4 x 512 x 768        0          False     \n",
       "________________________________________________________________\n",
       "Linear               4 x 512 x 3072       2,362,368  False     \n",
       "________________________________________________________________\n",
       "Linear               4 x 512 x 768        2,360,064  False     \n",
       "________________________________________________________________\n",
       "LayerNorm            4 x 512 x 768        1,536      False     \n",
       "________________________________________________________________\n",
       "Dropout              4 x 512 x 768        0          False     \n",
       "________________________________________________________________\n",
       "Linear               4 x 512 x 768        590,592    False     \n",
       "________________________________________________________________\n",
       "Linear               4 x 512 x 768        590,592    False     \n",
       "________________________________________________________________\n",
       "Linear               4 x 512 x 768        590,592    False     \n",
       "________________________________________________________________\n",
       "Dropout              4 x 12 x 512 x 512   0          False     \n",
       "________________________________________________________________\n",
       "Linear               4 x 512 x 768        590,592    False     \n",
       "________________________________________________________________\n",
       "LayerNorm            4 x 512 x 768        1,536      False     \n",
       "________________________________________________________________\n",
       "Dropout              4 x 512 x 768        0          False     \n",
       "________________________________________________________________\n",
       "Linear               4 x 512 x 3072       2,362,368  False     \n",
       "________________________________________________________________\n",
       "Linear               4 x 512 x 768        2,360,064  False     \n",
       "________________________________________________________________\n",
       "LayerNorm            4 x 512 x 768        1,536      False     \n",
       "________________________________________________________________\n",
       "Dropout              4 x 512 x 768        0          False     \n",
       "________________________________________________________________\n",
       "Linear               4 x 512 x 768        590,592    False     \n",
       "________________________________________________________________\n",
       "Linear               4 x 512 x 768        590,592    False     \n",
       "________________________________________________________________\n",
       "Linear               4 x 512 x 768        590,592    False     \n",
       "________________________________________________________________\n",
       "Dropout              4 x 12 x 512 x 512   0          False     \n",
       "________________________________________________________________\n",
       "Linear               4 x 512 x 768        590,592    False     \n",
       "________________________________________________________________\n",
       "LayerNorm            4 x 512 x 768        1,536      False     \n",
       "________________________________________________________________\n",
       "Dropout              4 x 512 x 768        0          False     \n",
       "________________________________________________________________\n",
       "Linear               4 x 512 x 3072       2,362,368  False     \n",
       "________________________________________________________________\n",
       "Linear               4 x 512 x 768        2,360,064  False     \n",
       "________________________________________________________________\n",
       "LayerNorm            4 x 512 x 768        1,536      False     \n",
       "________________________________________________________________\n",
       "Dropout              4 x 512 x 768        0          False     \n",
       "________________________________________________________________\n",
       "Linear               4 x 512 x 768        590,592    False     \n",
       "________________________________________________________________\n",
       "Linear               4 x 512 x 768        590,592    False     \n",
       "________________________________________________________________\n",
       "Linear               4 x 512 x 768        590,592    False     \n",
       "________________________________________________________________\n",
       "Dropout              4 x 12 x 512 x 512   0          False     \n",
       "________________________________________________________________\n",
       "Linear               4 x 512 x 768        590,592    False     \n",
       "________________________________________________________________\n",
       "LayerNorm            4 x 512 x 768        1,536      False     \n",
       "________________________________________________________________\n",
       "Dropout              4 x 512 x 768        0          False     \n",
       "________________________________________________________________\n",
       "Linear               4 x 512 x 3072       2,362,368  False     \n",
       "________________________________________________________________\n",
       "Linear               4 x 512 x 768        2,360,064  False     \n",
       "________________________________________________________________\n",
       "LayerNorm            4 x 512 x 768        1,536      False     \n",
       "________________________________________________________________\n",
       "Dropout              4 x 512 x 768        0          False     \n",
       "________________________________________________________________\n",
       "Linear               4 x 768              590,592    False     \n",
       "________________________________________________________________\n",
       "Tanh                 4 x 768              0          False     \n",
       "________________________________________________________________\n",
       "Linear               4 x 768              590,592    True      \n",
       "________________________________________________________________\n",
       "Dropout              4 x 768              0          False     \n",
       "________________________________________________________________\n",
       "Linear               4 x 2                1,538      True      \n",
       "________________________________________________________________\n",
       "\n",
       "Total params: 125,237,762\n",
       "Total trainable params: 592,130\n",
       "Total non-trainable params: 124,645,632\n",
       "\n",
       "Optimizer used: functools.partial(<function Adam at 0x7f85250827b8>, decouple_wd=True)\n",
       "Loss function: LabelSmoothingCrossEntropy()\n",
       "\n",
       "Model frozen up to parameter group number 1\n",
       "\n",
       "Callbacks:\n",
       "  - ModelToHalf\n",
       "  - TrainEvalCallback\n",
       "  - Recorder\n",
       "  - ProgressCallback\n",
       "  - MixedPrecision"
      ]
     },
     "execution_count": 19,
     "metadata": {
      "tags": []
     },
     "output_type": "execute_result"
    }
   ],
   "source": [
    "learn.summary()"
   ]
  },
  {
   "cell_type": "code",
   "execution_count": 20,
   "metadata": {
    "colab": {
     "base_uri": "https://localhost:8080/",
     "height": 1000
    },
    "colab_type": "code",
    "executionInfo": {
     "elapsed": 68235,
     "status": "ok",
     "timestamp": 1590060282404,
     "user": {
      "displayName": "Harish Vadlamani",
      "photoUrl": "https://lh3.googleusercontent.com/a-/AOh14GjvtEs9ilUiox4zq4735m_LYCl9UMPSdSRbubWz-A=s64",
      "userId": "12704981055162716897"
     },
     "user_tz": -330
    },
    "id": "kZF4NQC89hyK",
    "outputId": "60e99249-bc41-48b9-e865-be259b7b7535"
   },
   "outputs": [
    {
     "data": {
      "text/plain": [
       "FastHugsModel(\n",
       "  (transformer): RobertaForSequenceClassification(\n",
       "    (roberta): RobertaModel(\n",
       "      (embeddings): RobertaEmbeddings(\n",
       "        (word_embeddings): Embedding(50265, 768, padding_idx=1)\n",
       "        (position_embeddings): Embedding(514, 768, padding_idx=1)\n",
       "        (token_type_embeddings): Embedding(1, 768)\n",
       "        (LayerNorm): LayerNorm((768,), eps=1e-05, elementwise_affine=True)\n",
       "        (dropout): Dropout(p=0.1, inplace=False)\n",
       "      )\n",
       "      (encoder): BertEncoder(\n",
       "        (layer): ModuleList(\n",
       "          (0): BertLayer(\n",
       "            (attention): BertAttention(\n",
       "              (self): BertSelfAttention(\n",
       "                (query): Linear(in_features=768, out_features=768, bias=True)\n",
       "                (key): Linear(in_features=768, out_features=768, bias=True)\n",
       "                (value): Linear(in_features=768, out_features=768, bias=True)\n",
       "                (dropout): Dropout(p=0.1, inplace=False)\n",
       "              )\n",
       "              (output): BertSelfOutput(\n",
       "                (dense): Linear(in_features=768, out_features=768, bias=True)\n",
       "                (LayerNorm): LayerNorm((768,), eps=1e-05, elementwise_affine=True)\n",
       "                (dropout): Dropout(p=0.1, inplace=False)\n",
       "              )\n",
       "            )\n",
       "            (intermediate): BertIntermediate(\n",
       "              (dense): Linear(in_features=768, out_features=3072, bias=True)\n",
       "            )\n",
       "            (output): BertOutput(\n",
       "              (dense): Linear(in_features=3072, out_features=768, bias=True)\n",
       "              (LayerNorm): LayerNorm((768,), eps=1e-05, elementwise_affine=True)\n",
       "              (dropout): Dropout(p=0.1, inplace=False)\n",
       "            )\n",
       "          )\n",
       "          (1): BertLayer(\n",
       "            (attention): BertAttention(\n",
       "              (self): BertSelfAttention(\n",
       "                (query): Linear(in_features=768, out_features=768, bias=True)\n",
       "                (key): Linear(in_features=768, out_features=768, bias=True)\n",
       "                (value): Linear(in_features=768, out_features=768, bias=True)\n",
       "                (dropout): Dropout(p=0.1, inplace=False)\n",
       "              )\n",
       "              (output): BertSelfOutput(\n",
       "                (dense): Linear(in_features=768, out_features=768, bias=True)\n",
       "                (LayerNorm): LayerNorm((768,), eps=1e-05, elementwise_affine=True)\n",
       "                (dropout): Dropout(p=0.1, inplace=False)\n",
       "              )\n",
       "            )\n",
       "            (intermediate): BertIntermediate(\n",
       "              (dense): Linear(in_features=768, out_features=3072, bias=True)\n",
       "            )\n",
       "            (output): BertOutput(\n",
       "              (dense): Linear(in_features=3072, out_features=768, bias=True)\n",
       "              (LayerNorm): LayerNorm((768,), eps=1e-05, elementwise_affine=True)\n",
       "              (dropout): Dropout(p=0.1, inplace=False)\n",
       "            )\n",
       "          )\n",
       "          (2): BertLayer(\n",
       "            (attention): BertAttention(\n",
       "              (self): BertSelfAttention(\n",
       "                (query): Linear(in_features=768, out_features=768, bias=True)\n",
       "                (key): Linear(in_features=768, out_features=768, bias=True)\n",
       "                (value): Linear(in_features=768, out_features=768, bias=True)\n",
       "                (dropout): Dropout(p=0.1, inplace=False)\n",
       "              )\n",
       "              (output): BertSelfOutput(\n",
       "                (dense): Linear(in_features=768, out_features=768, bias=True)\n",
       "                (LayerNorm): LayerNorm((768,), eps=1e-05, elementwise_affine=True)\n",
       "                (dropout): Dropout(p=0.1, inplace=False)\n",
       "              )\n",
       "            )\n",
       "            (intermediate): BertIntermediate(\n",
       "              (dense): Linear(in_features=768, out_features=3072, bias=True)\n",
       "            )\n",
       "            (output): BertOutput(\n",
       "              (dense): Linear(in_features=3072, out_features=768, bias=True)\n",
       "              (LayerNorm): LayerNorm((768,), eps=1e-05, elementwise_affine=True)\n",
       "              (dropout): Dropout(p=0.1, inplace=False)\n",
       "            )\n",
       "          )\n",
       "          (3): BertLayer(\n",
       "            (attention): BertAttention(\n",
       "              (self): BertSelfAttention(\n",
       "                (query): Linear(in_features=768, out_features=768, bias=True)\n",
       "                (key): Linear(in_features=768, out_features=768, bias=True)\n",
       "                (value): Linear(in_features=768, out_features=768, bias=True)\n",
       "                (dropout): Dropout(p=0.1, inplace=False)\n",
       "              )\n",
       "              (output): BertSelfOutput(\n",
       "                (dense): Linear(in_features=768, out_features=768, bias=True)\n",
       "                (LayerNorm): LayerNorm((768,), eps=1e-05, elementwise_affine=True)\n",
       "                (dropout): Dropout(p=0.1, inplace=False)\n",
       "              )\n",
       "            )\n",
       "            (intermediate): BertIntermediate(\n",
       "              (dense): Linear(in_features=768, out_features=3072, bias=True)\n",
       "            )\n",
       "            (output): BertOutput(\n",
       "              (dense): Linear(in_features=3072, out_features=768, bias=True)\n",
       "              (LayerNorm): LayerNorm((768,), eps=1e-05, elementwise_affine=True)\n",
       "              (dropout): Dropout(p=0.1, inplace=False)\n",
       "            )\n",
       "          )\n",
       "          (4): BertLayer(\n",
       "            (attention): BertAttention(\n",
       "              (self): BertSelfAttention(\n",
       "                (query): Linear(in_features=768, out_features=768, bias=True)\n",
       "                (key): Linear(in_features=768, out_features=768, bias=True)\n",
       "                (value): Linear(in_features=768, out_features=768, bias=True)\n",
       "                (dropout): Dropout(p=0.1, inplace=False)\n",
       "              )\n",
       "              (output): BertSelfOutput(\n",
       "                (dense): Linear(in_features=768, out_features=768, bias=True)\n",
       "                (LayerNorm): LayerNorm((768,), eps=1e-05, elementwise_affine=True)\n",
       "                (dropout): Dropout(p=0.1, inplace=False)\n",
       "              )\n",
       "            )\n",
       "            (intermediate): BertIntermediate(\n",
       "              (dense): Linear(in_features=768, out_features=3072, bias=True)\n",
       "            )\n",
       "            (output): BertOutput(\n",
       "              (dense): Linear(in_features=3072, out_features=768, bias=True)\n",
       "              (LayerNorm): LayerNorm((768,), eps=1e-05, elementwise_affine=True)\n",
       "              (dropout): Dropout(p=0.1, inplace=False)\n",
       "            )\n",
       "          )\n",
       "          (5): BertLayer(\n",
       "            (attention): BertAttention(\n",
       "              (self): BertSelfAttention(\n",
       "                (query): Linear(in_features=768, out_features=768, bias=True)\n",
       "                (key): Linear(in_features=768, out_features=768, bias=True)\n",
       "                (value): Linear(in_features=768, out_features=768, bias=True)\n",
       "                (dropout): Dropout(p=0.1, inplace=False)\n",
       "              )\n",
       "              (output): BertSelfOutput(\n",
       "                (dense): Linear(in_features=768, out_features=768, bias=True)\n",
       "                (LayerNorm): LayerNorm((768,), eps=1e-05, elementwise_affine=True)\n",
       "                (dropout): Dropout(p=0.1, inplace=False)\n",
       "              )\n",
       "            )\n",
       "            (intermediate): BertIntermediate(\n",
       "              (dense): Linear(in_features=768, out_features=3072, bias=True)\n",
       "            )\n",
       "            (output): BertOutput(\n",
       "              (dense): Linear(in_features=3072, out_features=768, bias=True)\n",
       "              (LayerNorm): LayerNorm((768,), eps=1e-05, elementwise_affine=True)\n",
       "              (dropout): Dropout(p=0.1, inplace=False)\n",
       "            )\n",
       "          )\n",
       "          (6): BertLayer(\n",
       "            (attention): BertAttention(\n",
       "              (self): BertSelfAttention(\n",
       "                (query): Linear(in_features=768, out_features=768, bias=True)\n",
       "                (key): Linear(in_features=768, out_features=768, bias=True)\n",
       "                (value): Linear(in_features=768, out_features=768, bias=True)\n",
       "                (dropout): Dropout(p=0.1, inplace=False)\n",
       "              )\n",
       "              (output): BertSelfOutput(\n",
       "                (dense): Linear(in_features=768, out_features=768, bias=True)\n",
       "                (LayerNorm): LayerNorm((768,), eps=1e-05, elementwise_affine=True)\n",
       "                (dropout): Dropout(p=0.1, inplace=False)\n",
       "              )\n",
       "            )\n",
       "            (intermediate): BertIntermediate(\n",
       "              (dense): Linear(in_features=768, out_features=3072, bias=True)\n",
       "            )\n",
       "            (output): BertOutput(\n",
       "              (dense): Linear(in_features=3072, out_features=768, bias=True)\n",
       "              (LayerNorm): LayerNorm((768,), eps=1e-05, elementwise_affine=True)\n",
       "              (dropout): Dropout(p=0.1, inplace=False)\n",
       "            )\n",
       "          )\n",
       "          (7): BertLayer(\n",
       "            (attention): BertAttention(\n",
       "              (self): BertSelfAttention(\n",
       "                (query): Linear(in_features=768, out_features=768, bias=True)\n",
       "                (key): Linear(in_features=768, out_features=768, bias=True)\n",
       "                (value): Linear(in_features=768, out_features=768, bias=True)\n",
       "                (dropout): Dropout(p=0.1, inplace=False)\n",
       "              )\n",
       "              (output): BertSelfOutput(\n",
       "                (dense): Linear(in_features=768, out_features=768, bias=True)\n",
       "                (LayerNorm): LayerNorm((768,), eps=1e-05, elementwise_affine=True)\n",
       "                (dropout): Dropout(p=0.1, inplace=False)\n",
       "              )\n",
       "            )\n",
       "            (intermediate): BertIntermediate(\n",
       "              (dense): Linear(in_features=768, out_features=3072, bias=True)\n",
       "            )\n",
       "            (output): BertOutput(\n",
       "              (dense): Linear(in_features=3072, out_features=768, bias=True)\n",
       "              (LayerNorm): LayerNorm((768,), eps=1e-05, elementwise_affine=True)\n",
       "              (dropout): Dropout(p=0.1, inplace=False)\n",
       "            )\n",
       "          )\n",
       "          (8): BertLayer(\n",
       "            (attention): BertAttention(\n",
       "              (self): BertSelfAttention(\n",
       "                (query): Linear(in_features=768, out_features=768, bias=True)\n",
       "                (key): Linear(in_features=768, out_features=768, bias=True)\n",
       "                (value): Linear(in_features=768, out_features=768, bias=True)\n",
       "                (dropout): Dropout(p=0.1, inplace=False)\n",
       "              )\n",
       "              (output): BertSelfOutput(\n",
       "                (dense): Linear(in_features=768, out_features=768, bias=True)\n",
       "                (LayerNorm): LayerNorm((768,), eps=1e-05, elementwise_affine=True)\n",
       "                (dropout): Dropout(p=0.1, inplace=False)\n",
       "              )\n",
       "            )\n",
       "            (intermediate): BertIntermediate(\n",
       "              (dense): Linear(in_features=768, out_features=3072, bias=True)\n",
       "            )\n",
       "            (output): BertOutput(\n",
       "              (dense): Linear(in_features=3072, out_features=768, bias=True)\n",
       "              (LayerNorm): LayerNorm((768,), eps=1e-05, elementwise_affine=True)\n",
       "              (dropout): Dropout(p=0.1, inplace=False)\n",
       "            )\n",
       "          )\n",
       "          (9): BertLayer(\n",
       "            (attention): BertAttention(\n",
       "              (self): BertSelfAttention(\n",
       "                (query): Linear(in_features=768, out_features=768, bias=True)\n",
       "                (key): Linear(in_features=768, out_features=768, bias=True)\n",
       "                (value): Linear(in_features=768, out_features=768, bias=True)\n",
       "                (dropout): Dropout(p=0.1, inplace=False)\n",
       "              )\n",
       "              (output): BertSelfOutput(\n",
       "                (dense): Linear(in_features=768, out_features=768, bias=True)\n",
       "                (LayerNorm): LayerNorm((768,), eps=1e-05, elementwise_affine=True)\n",
       "                (dropout): Dropout(p=0.1, inplace=False)\n",
       "              )\n",
       "            )\n",
       "            (intermediate): BertIntermediate(\n",
       "              (dense): Linear(in_features=768, out_features=3072, bias=True)\n",
       "            )\n",
       "            (output): BertOutput(\n",
       "              (dense): Linear(in_features=3072, out_features=768, bias=True)\n",
       "              (LayerNorm): LayerNorm((768,), eps=1e-05, elementwise_affine=True)\n",
       "              (dropout): Dropout(p=0.1, inplace=False)\n",
       "            )\n",
       "          )\n",
       "          (10): BertLayer(\n",
       "            (attention): BertAttention(\n",
       "              (self): BertSelfAttention(\n",
       "                (query): Linear(in_features=768, out_features=768, bias=True)\n",
       "                (key): Linear(in_features=768, out_features=768, bias=True)\n",
       "                (value): Linear(in_features=768, out_features=768, bias=True)\n",
       "                (dropout): Dropout(p=0.1, inplace=False)\n",
       "              )\n",
       "              (output): BertSelfOutput(\n",
       "                (dense): Linear(in_features=768, out_features=768, bias=True)\n",
       "                (LayerNorm): LayerNorm((768,), eps=1e-05, elementwise_affine=True)\n",
       "                (dropout): Dropout(p=0.1, inplace=False)\n",
       "              )\n",
       "            )\n",
       "            (intermediate): BertIntermediate(\n",
       "              (dense): Linear(in_features=768, out_features=3072, bias=True)\n",
       "            )\n",
       "            (output): BertOutput(\n",
       "              (dense): Linear(in_features=3072, out_features=768, bias=True)\n",
       "              (LayerNorm): LayerNorm((768,), eps=1e-05, elementwise_affine=True)\n",
       "              (dropout): Dropout(p=0.1, inplace=False)\n",
       "            )\n",
       "          )\n",
       "          (11): BertLayer(\n",
       "            (attention): BertAttention(\n",
       "              (self): BertSelfAttention(\n",
       "                (query): Linear(in_features=768, out_features=768, bias=True)\n",
       "                (key): Linear(in_features=768, out_features=768, bias=True)\n",
       "                (value): Linear(in_features=768, out_features=768, bias=True)\n",
       "                (dropout): Dropout(p=0.1, inplace=False)\n",
       "              )\n",
       "              (output): BertSelfOutput(\n",
       "                (dense): Linear(in_features=768, out_features=768, bias=True)\n",
       "                (LayerNorm): LayerNorm((768,), eps=1e-05, elementwise_affine=True)\n",
       "                (dropout): Dropout(p=0.1, inplace=False)\n",
       "              )\n",
       "            )\n",
       "            (intermediate): BertIntermediate(\n",
       "              (dense): Linear(in_features=768, out_features=3072, bias=True)\n",
       "            )\n",
       "            (output): BertOutput(\n",
       "              (dense): Linear(in_features=3072, out_features=768, bias=True)\n",
       "              (LayerNorm): LayerNorm((768,), eps=1e-05, elementwise_affine=True)\n",
       "              (dropout): Dropout(p=0.1, inplace=False)\n",
       "            )\n",
       "          )\n",
       "        )\n",
       "      )\n",
       "      (pooler): BertPooler(\n",
       "        (dense): Linear(in_features=768, out_features=768, bias=True)\n",
       "        (activation): Tanh()\n",
       "      )\n",
       "    )\n",
       "    (classifier): RobertaClassificationHead(\n",
       "      (dense): Linear(in_features=768, out_features=768, bias=True)\n",
       "      (dropout): Dropout(p=0.1, inplace=False)\n",
       "      (out_proj): Linear(in_features=768, out_features=2, bias=True)\n",
       "    )\n",
       "  )\n",
       ")"
      ]
     },
     "execution_count": 20,
     "metadata": {
      "tags": []
     },
     "output_type": "execute_result"
    }
   ],
   "source": [
    " learn.model"
   ]
  },
  {
   "cell_type": "code",
   "execution_count": 21,
   "metadata": {
    "colab": {
     "base_uri": "https://localhost:8080/",
     "height": 300
    },
    "colab_type": "code",
    "executionInfo": {
     "elapsed": 73805,
     "status": "ok",
     "timestamp": 1590060287987,
     "user": {
      "displayName": "Harish Vadlamani",
      "photoUrl": "https://lh3.googleusercontent.com/a-/AOh14GjvtEs9ilUiox4zq4735m_LYCl9UMPSdSRbubWz-A=s64",
      "userId": "12704981055162716897"
     },
     "user_tz": -330
    },
    "id": "ZmIWrV8G986O",
    "outputId": "9b758e2f-9368-45cc-b09a-8940fb35a544"
   },
   "outputs": [
    {
     "data": {
      "text/html": [],
      "text/plain": [
       "<IPython.core.display.HTML object>"
      ]
     },
     "metadata": {
      "tags": []
     },
     "output_type": "display_data"
    },
    {
     "data": {
      "text/plain": [
       "SuggestedLRs(lr_min=2.7542287170945203e-07, lr_steep=0.002511886414140463)"
      ]
     },
     "execution_count": 21,
     "metadata": {
      "tags": []
     },
     "output_type": "execute_result"
    },
    {
     "data": {
      "image/png": "[encoded data removed]",
      "text/plain": [
       "<Figure size 432x288 with 1 Axes>"
      ]
     },
     "metadata": {
      "needs_background": "light",
      "tags": []
     },
     "output_type": "display_data"
    }
   ],
   "source": [
    "learn.lr_find()"
   ]
  },
  {
   "cell_type": "code",
   "execution_count": 35,
   "metadata": {
    "colab": {
     "base_uri": "https://localhost:8080/",
     "height": 143
    },
    "colab_type": "code",
    "executionInfo": {
     "elapsed": 37506,
     "status": "ok",
     "timestamp": 1590060820937,
     "user": {
      "displayName": "Harish Vadlamani",
      "photoUrl": "https://lh3.googleusercontent.com/a-/AOh14GjvtEs9ilUiox4zq4735m_LYCl9UMPSdSRbubWz-A=s64",
      "userId": "12704981055162716897"
     },
     "user_tz": -330
    },
    "id": "r4Cci9y9-NF3",
    "outputId": "f5b6e870-377f-47d5-d5f6-1fe230b5bc13"
   },
   "outputs": [
    {
     "data": {
      "text/html": [
       "<table border=\"1\" class=\"dataframe\">\n",
       "  <thead>\n",
       "    <tr style=\"text-align: left;\">\n",
       "      <th>epoch</th>\n",
       "      <th>train_loss</th>\n",
       "      <th>valid_loss</th>\n",
       "      <th>accuracy</th>\n",
       "      <th>time</th>\n",
       "    </tr>\n",
       "  </thead>\n",
       "  <tbody>\n",
       "    <tr>\n",
       "      <td>0</td>\n",
       "      <td>0.716790</td>\n",
       "      <td>0.660889</td>\n",
       "      <td>0.545000</td>\n",
       "      <td>00:12</td>\n",
       "    </tr>\n",
       "    <tr>\n",
       "      <td>1</td>\n",
       "      <td>0.604187</td>\n",
       "      <td>0.597321</td>\n",
       "      <td>0.625000</td>\n",
       "      <td>00:12</td>\n",
       "    </tr>\n",
       "    <tr>\n",
       "      <td>2</td>\n",
       "      <td>0.555799</td>\n",
       "      <td>0.548570</td>\n",
       "      <td>0.790000</td>\n",
       "      <td>00:12</td>\n",
       "    </tr>\n",
       "  </tbody>\n",
       "</table>"
      ],
      "text/plain": [
       "<IPython.core.display.HTML object>"
      ]
     },
     "metadata": {
      "tags": []
     },
     "output_type": "display_data"
    }
   ],
   "source": [
    "learn.fit_one_cycle(3, 1e-3)"
   ]
  },
  {
   "cell_type": "code",
   "execution_count": 36,
   "metadata": {
    "colab": {
     "base_uri": "https://localhost:8080/",
     "height": 300
    },
    "colab_type": "code",
    "executionInfo": {
     "elapsed": 15727,
     "status": "ok",
     "timestamp": 1590060848732,
     "user": {
      "displayName": "Harish Vadlamani",
      "photoUrl": "https://lh3.googleusercontent.com/a-/AOh14GjvtEs9ilUiox4zq4735m_LYCl9UMPSdSRbubWz-A=s64",
      "userId": "12704981055162716897"
     },
     "user_tz": -330
    },
    "id": "SGLgg94i-tI9",
    "outputId": "0d03c7ff-697f-4a35-a910-7f171867fac3"
   },
   "outputs": [
    {
     "data": {
      "text/html": [],
      "text/plain": [
       "<IPython.core.display.HTML object>"
      ]
     },
     "metadata": {
      "tags": []
     },
     "output_type": "display_data"
    },
    {
     "data": {
      "text/plain": [
       "SuggestedLRs(lr_min=6.309573450380412e-08, lr_steep=0.013182567432522774)"
      ]
     },
     "execution_count": 36,
     "metadata": {
      "tags": []
     },
     "output_type": "execute_result"
    },
    {
     "data": {
      "image/png": "[encoded data removed]",
      "text/plain": [
       "<Figure size 432x288 with 1 Axes>"
      ]
     },
     "metadata": {
      "needs_background": "light",
      "tags": []
     },
     "output_type": "display_data"
    }
   ],
   "source": [
    "learn.unfreeze()\n",
    "learn.lr_find()"
   ]
  },
  {
   "cell_type": "code",
   "execution_count": 37,
   "metadata": {
    "colab": {
     "base_uri": "https://localhost:8080/",
     "height": 206
    },
    "colab_type": "code",
    "executionInfo": {
     "elapsed": 186494,
     "status": "ok",
     "timestamp": 1590061058245,
     "user": {
      "displayName": "Harish Vadlamani",
      "photoUrl": "https://lh3.googleusercontent.com/a-/AOh14GjvtEs9ilUiox4zq4735m_LYCl9UMPSdSRbubWz-A=s64",
      "userId": "12704981055162716897"
     },
     "user_tz": -330
    },
    "id": "VEe88_j0_DO_",
    "outputId": "600f753e-552b-4e5d-ad2b-4ab013a18092"
   },
   "outputs": [
    {
     "data": {
      "text/html": [
       "<table border=\"1\" class=\"dataframe\">\n",
       "  <thead>\n",
       "    <tr style=\"text-align: left;\">\n",
       "      <th>epoch</th>\n",
       "      <th>train_loss</th>\n",
       "      <th>valid_loss</th>\n",
       "      <th>accuracy</th>\n",
       "      <th>time</th>\n",
       "    </tr>\n",
       "  </thead>\n",
       "  <tbody>\n",
       "    <tr>\n",
       "      <td>0</td>\n",
       "      <td>0.504427</td>\n",
       "      <td>0.502335</td>\n",
       "      <td>0.845000</td>\n",
       "      <td>00:38</td>\n",
       "    </tr>\n",
       "    <tr>\n",
       "      <td>1</td>\n",
       "      <td>0.404284</td>\n",
       "      <td>0.399035</td>\n",
       "      <td>0.885000</td>\n",
       "      <td>00:36</td>\n",
       "    </tr>\n",
       "    <tr>\n",
       "      <td>2</td>\n",
       "      <td>0.355813</td>\n",
       "      <td>0.362559</td>\n",
       "      <td>0.915000</td>\n",
       "      <td>00:36</td>\n",
       "    </tr>\n",
       "    <tr>\n",
       "      <td>3</td>\n",
       "      <td>0.347731</td>\n",
       "      <td>0.368689</td>\n",
       "      <td>0.895000</td>\n",
       "      <td>00:36</td>\n",
       "    </tr>\n",
       "    <tr>\n",
       "      <td>4</td>\n",
       "      <td>0.316477</td>\n",
       "      <td>0.371630</td>\n",
       "      <td>0.895000</td>\n",
       "      <td>00:37</td>\n",
       "    </tr>\n",
       "  </tbody>\n",
       "</table>"
      ],
      "text/plain": [
       "<IPython.core.display.HTML object>"
      ]
     },
     "metadata": {
      "tags": []
     },
     "output_type": "display_data"
    }
   ],
   "source": [
    "learn.fit_one_cycle(5, lr_max=slice(1e-6, 1e-5))"
   ]
  },
  {
   "cell_type": "code",
   "execution_count": 38,
   "metadata": {
    "colab": {
     "base_uri": "https://localhost:8080/",
     "height": 265
    },
    "colab_type": "code",
    "executionInfo": {
     "elapsed": 1491,
     "status": "ok",
     "timestamp": 1590061059751,
     "user": {
      "displayName": "Harish Vadlamani",
      "photoUrl": "https://lh3.googleusercontent.com/a-/AOh14GjvtEs9ilUiox4zq4735m_LYCl9UMPSdSRbubWz-A=s64",
      "userId": "12704981055162716897"
     },
     "user_tz": -330
    },
    "id": "BGWKMXc3_I0G",
    "outputId": "76778447-d034-421e-d1b8-799b4167346f"
   },
   "outputs": [
    {
     "data": {
      "image/png": "[encoded data removed]",
      "text/plain": [
       "<Figure size 432x288 with 1 Axes>"
      ]
     },
     "metadata": {
      "needs_background": "light",
      "tags": []
     },
     "output_type": "display_data"
    }
   ],
   "source": [
    "learn.recorder.plot_loss()"
   ]
  },
  {
   "cell_type": "code",
   "execution_count": 32,
   "metadata": {
    "colab": {
     "base_uri": "https://localhost:8080/",
     "height": 34
    },
    "colab_type": "code",
    "executionInfo": {
     "elapsed": 1039,
     "status": "ok",
     "timestamp": 1590060733461,
     "user": {
      "displayName": "Harish Vadlamani",
      "photoUrl": "https://lh3.googleusercontent.com/a-/AOh14GjvtEs9ilUiox4zq4735m_LYCl9UMPSdSRbubWz-A=s64",
      "userId": "12704981055162716897"
     },
     "user_tz": -330
    },
    "id": "lAToWGZr_rn2",
    "outputId": "79c1f4c6-e3b4-4851-9428-213694da244a"
   },
   "outputs": [
    {
     "data": {
      "text/html": [],
      "text/plain": [
       "<IPython.core.display.HTML object>"
      ]
     },
     "metadata": {
      "tags": []
     },
     "output_type": "display_data"
    },
    {
     "data": {
      "text/plain": [
       "('negative', tensor(0), tensor([0.6742, 0.3258]))"
      ]
     },
     "execution_count": 32,
     "metadata": {
      "tags": []
     },
     "output_type": "execute_result"
    }
   ],
   "source": [
    "learn.predict('The movie was great despite the overall delivery being ok.')"
   ]
  },
  {
   "cell_type": "markdown",
   "metadata": {
    "colab_type": "text",
    "id": "S8nSHqG__z62"
   },
   "source": [
    "---\n",
    "---"
   ]
  }
 ],
 "metadata": {
  "accelerator": "GPU",
  "colab": {
   "authorship_tag": "ABX9TyPakUpCklO9fykf4tBzUBmx",
   "name": "Sentiment Analysis using Transformers.ipynb",
   "provenance": []
  },
  "kernelspec": {
   "display_name": "Python 3 (ipykernel)",
   "language": "python",
   "name": "python3"
  },
  "language_info": {
   "codemirror_mode": {
    "name": "ipython",
    "version": 3
   },
   "file_extension": ".py",
   "mimetype": "text/x-python",
   "name": "python",
   "nbconvert_exporter": "python",
   "pygments_lexer": "ipython3",
   "version": "3.8.10"
  },
  "widgets": {
   "application/vnd.jupyter.widget-state+json": {
    "0391c617ae4849899c44ea870eeb07d1": {
     "model_module": "@jupyter-widgets/base",
     "model_name": "LayoutModel",
     "state": {
      "_model_module": "@jupyter-widgets/base",
      "_model_module_version": "1.2.0",
      "_model_name": "LayoutModel",
      "_view_count": null,
      "_view_module": "@jupyter-widgets/base",
      "_view_module_version": "1.2.0",
      "_view_name": "LayoutView",
      "align_content": null,
      "align_items": null,
      "align_self": null,
      "border": null,
      "bottom": null,
      "display": null,
      "flex": null,
      "flex_flow": null,
      "grid_area": null,
      "grid_auto_columns": null,
      "grid_auto_flow": null,
      "grid_auto_rows": null,
      "grid_column": null,
      "grid_gap": null,
      "grid_row": null,
      "grid_template_areas": null,
      "grid_template_columns": null,
      "grid_template_rows": null,
      "height": null,
      "justify_content": null,
      "justify_items": null,
      "left": null,
      "margin": null,
      "max_height": null,
      "max_width": null,
      "min_height": null,
      "min_width": null,
      "object_fit": null,
      "object_position": null,
      "order": null,
      "overflow": null,
      "overflow_x": null,
      "overflow_y": null,
      "padding": null,
      "right": null,
      "top": null,
      "visibility": null,
      "width": null
     }
    },
    "0a7889ec6c0a4fa78c3f85b4607a8609": {
     "model_module": "@jupyter-widgets/base",
     "model_name": "LayoutModel",
     "state": {
      "_model_module": "@jupyter-widgets/base",
      "_model_module_version": "1.2.0",
      "_model_name": "LayoutModel",
      "_view_count": null,
      "_view_module": "@jupyter-widgets/base",
      "_view_module_version": "1.2.0",
      "_view_name": "LayoutView",
      "align_content": null,
      "align_items": null,
      "align_self": null,
      "border": null,
      "bottom": null,
      "display": null,
      "flex": null,
      "flex_flow": null,
      "grid_area": null,
      "grid_auto_columns": null,
      "grid_auto_flow": null,
      "grid_auto_rows": null,
      "grid_column": null,
      "grid_gap": null,
      "grid_row": null,
      "grid_template_areas": null,
      "grid_template_columns": null,
      "grid_template_rows": null,
      "height": null,
      "justify_content": null,
      "justify_items": null,
      "left": null,
      "margin": null,
      "max_height": null,
      "max_width": null,
      "min_height": null,
      "min_width": null,
      "object_fit": null,
      "object_position": null,
      "order": null,
      "overflow": null,
      "overflow_x": null,
      "overflow_y": null,
      "padding": null,
      "right": null,
      "top": null,
      "visibility": null,
      "width": null
     }
    },
    "0ca8b62c653d4563b7cc5ef029b7a9b7": {
     "model_module": "@jupyter-widgets/controls",
     "model_name": "ProgressStyleModel",
     "state": {
      "_model_module": "@jupyter-widgets/controls",
      "_model_module_version": "1.5.0",
      "_model_name": "ProgressStyleModel",
      "_view_count": null,
      "_view_module": "@jupyter-widgets/base",
      "_view_module_version": "1.2.0",
      "_view_name": "StyleView",
      "bar_color": null,
      "description_width": "initial"
     }
    },
    "0e32ef806c964c49878c7b94c2c41774": {
     "model_module": "@jupyter-widgets/controls",
     "model_name": "HBoxModel",
     "state": {
      "_dom_classes": [],
      "_model_module": "@jupyter-widgets/controls",
      "_model_module_version": "1.5.0",
      "_model_name": "HBoxModel",
      "_view_count": null,
      "_view_module": "@jupyter-widgets/controls",
      "_view_module_version": "1.5.0",
      "_view_name": "HBoxView",
      "box_style": "",
      "children": [
       "IPY_MODEL_2c3dc4b26ad746df94995c0ec48b9aca",
       "IPY_MODEL_a2f2481855d740819c88371adc4cc54d"
      ],
      "layout": "IPY_MODEL_619b89ba1f7b4aadaf0dc8244e38d4c5"
     }
    },
    "2c3dc4b26ad746df94995c0ec48b9aca": {
     "model_module": "@jupyter-widgets/controls",
     "model_name": "FloatProgressModel",
     "state": {
      "_dom_classes": [],
      "_model_module": "@jupyter-widgets/controls",
      "_model_module_version": "1.5.0",
      "_model_name": "FloatProgressModel",
      "_view_count": null,
      "_view_module": "@jupyter-widgets/controls",
      "_view_module_version": "1.5.0",
      "_view_name": "ProgressView",
      "bar_style": "success",
      "description": "Downloading: 100%",
      "description_tooltip": null,
      "layout": "IPY_MODEL_33a5aef3b276471188a904e599271a54",
      "max": 481,
      "min": 0,
      "orientation": "horizontal",
      "style": "IPY_MODEL_d5d06203a56e456a8dc739ea36508ced",
      "value": 481
     }
    },
    "2f59db4e21f44f4481bb9ea2f2167411": {
     "model_module": "@jupyter-widgets/base",
     "model_name": "LayoutModel",
     "state": {
      "_model_module": "@jupyter-widgets/base",
      "_model_module_version": "1.2.0",
      "_model_name": "LayoutModel",
      "_view_count": null,
      "_view_module": "@jupyter-widgets/base",
      "_view_module_version": "1.2.0",
      "_view_name": "LayoutView",
      "align_content": null,
      "align_items": null,
      "align_self": null,
      "border": null,
      "bottom": null,
      "display": null,
      "flex": null,
      "flex_flow": null,
      "grid_area": null,
      "grid_auto_columns": null,
      "grid_auto_flow": null,
      "grid_auto_rows": null,
      "grid_column": null,
      "grid_gap": null,
      "grid_row": null,
      "grid_template_areas": null,
      "grid_template_columns": null,
      "grid_template_rows": null,
      "height": null,
      "justify_content": null,
      "justify_items": null,
      "left": null,
      "margin": null,
      "max_height": null,
      "max_width": null,
      "min_height": null,
      "min_width": null,
      "object_fit": null,
      "object_position": null,
      "order": null,
      "overflow": null,
      "overflow_x": null,
      "overflow_y": null,
      "padding": null,
      "right": null,
      "top": null,
      "visibility": null,
      "width": null
     }
    },
    "33a5aef3b276471188a904e599271a54": {
     "model_module": "@jupyter-widgets/base",
     "model_name": "LayoutModel",
     "state": {
      "_model_module": "@jupyter-widgets/base",
      "_model_module_version": "1.2.0",
      "_model_name": "LayoutModel",
      "_view_count": null,
      "_view_module": "@jupyter-widgets/base",
      "_view_module_version": "1.2.0",
      "_view_name": "LayoutView",
      "align_content": null,
      "align_items": null,
      "align_self": null,
      "border": null,
      "bottom": null,
      "display": null,
      "flex": null,
      "flex_flow": null,
      "grid_area": null,
      "grid_auto_columns": null,
      "grid_auto_flow": null,
      "grid_auto_rows": null,
      "grid_column": null,
      "grid_gap": null,
      "grid_row": null,
      "grid_template_areas": null,
      "grid_template_columns": null,
      "grid_template_rows": null,
      "height": null,
      "justify_content": null,
      "justify_items": null,
      "left": null,
      "margin": null,
      "max_height": null,
      "max_width": null,
      "min_height": null,
      "min_width": null,
      "object_fit": null,
      "object_position": null,
      "order": null,
      "overflow": null,
      "overflow_x": null,
      "overflow_y": null,
      "padding": null,
      "right": null,
      "top": null,
      "visibility": null,
      "width": null
     }
    },
    "4d8ad93106274153bd7997a9f096be4a": {
     "model_module": "@jupyter-widgets/controls",
     "model_name": "FloatProgressModel",
     "state": {
      "_dom_classes": [],
      "_model_module": "@jupyter-widgets/controls",
      "_model_module_version": "1.5.0",
      "_model_name": "FloatProgressModel",
      "_view_count": null,
      "_view_module": "@jupyter-widgets/controls",
      "_view_module_version": "1.5.0",
      "_view_name": "ProgressView",
      "bar_style": "success",
      "description": "Downloading: 100%",
      "description_tooltip": null,
      "layout": "IPY_MODEL_2f59db4e21f44f4481bb9ea2f2167411",
      "max": 898823,
      "min": 0,
      "orientation": "horizontal",
      "style": "IPY_MODEL_5eec02398f4e40768689693f2837d25f",
      "value": 898823
     }
    },
    "53991bdbf7bd4037adeee60c4c1280b6": {
     "model_module": "@jupyter-widgets/base",
     "model_name": "LayoutModel",
     "state": {
      "_model_module": "@jupyter-widgets/base",
      "_model_module_version": "1.2.0",
      "_model_name": "LayoutModel",
      "_view_count": null,
      "_view_module": "@jupyter-widgets/base",
      "_view_module_version": "1.2.0",
      "_view_name": "LayoutView",
      "align_content": null,
      "align_items": null,
      "align_self": null,
      "border": null,
      "bottom": null,
      "display": null,
      "flex": null,
      "flex_flow": null,
      "grid_area": null,
      "grid_auto_columns": null,
      "grid_auto_flow": null,
      "grid_auto_rows": null,
      "grid_column": null,
      "grid_gap": null,
      "grid_row": null,
      "grid_template_areas": null,
      "grid_template_columns": null,
      "grid_template_rows": null,
      "height": null,
      "justify_content": null,
      "justify_items": null,
      "left": null,
      "margin": null,
      "max_height": null,
      "max_width": null,
      "min_height": null,
      "min_width": null,
      "object_fit": null,
      "object_position": null,
      "order": null,
      "overflow": null,
      "overflow_x": null,
      "overflow_y": null,
      "padding": null,
      "right": null,
      "top": null,
      "visibility": null,
      "width": null
     }
    },
    "5eec02398f4e40768689693f2837d25f": {
     "model_module": "@jupyter-widgets/controls",
     "model_name": "ProgressStyleModel",
     "state": {
      "_model_module": "@jupyter-widgets/controls",
      "_model_module_version": "1.5.0",
      "_model_name": "ProgressStyleModel",
      "_view_count": null,
      "_view_module": "@jupyter-widgets/base",
      "_view_module_version": "1.2.0",
      "_view_name": "StyleView",
      "bar_color": null,
      "description_width": "initial"
     }
    },
    "619b89ba1f7b4aadaf0dc8244e38d4c5": {
     "model_module": "@jupyter-widgets/base",
     "model_name": "LayoutModel",
     "state": {
      "_model_module": "@jupyter-widgets/base",
      "_model_module_version": "1.2.0",
      "_model_name": "LayoutModel",
      "_view_count": null,
      "_view_module": "@jupyter-widgets/base",
      "_view_module_version": "1.2.0",
      "_view_name": "LayoutView",
      "align_content": null,
      "align_items": null,
      "align_self": null,
      "border": null,
      "bottom": null,
      "display": null,
      "flex": null,
      "flex_flow": null,
      "grid_area": null,
      "grid_auto_columns": null,
      "grid_auto_flow": null,
      "grid_auto_rows": null,
      "grid_column": null,
      "grid_gap": null,
      "grid_row": null,
      "grid_template_areas": null,
      "grid_template_columns": null,
      "grid_template_rows": null,
      "height": null,
      "justify_content": null,
      "justify_items": null,
      "left": null,
      "margin": null,
      "max_height": null,
      "max_width": null,
      "min_height": null,
      "min_width": null,
      "object_fit": null,
      "object_position": null,
      "order": null,
      "overflow": null,
      "overflow_x": null,
      "overflow_y": null,
      "padding": null,
      "right": null,
      "top": null,
      "visibility": null,
      "width": null
     }
    },
    "6f462555009349d9a2c4f8c8ff54e356": {
     "model_module": "@jupyter-widgets/controls",
     "model_name": "HTMLModel",
     "state": {
      "_dom_classes": [],
      "_model_module": "@jupyter-widgets/controls",
      "_model_module_version": "1.5.0",
      "_model_name": "HTMLModel",
      "_view_count": null,
      "_view_module": "@jupyter-widgets/controls",
      "_view_module_version": "1.5.0",
      "_view_name": "HTMLView",
      "description": "",
      "description_tooltip": null,
      "layout": "IPY_MODEL_53991bdbf7bd4037adeee60c4c1280b6",
      "placeholder": "​",
      "style": "IPY_MODEL_8211324815b64a3d830addc5edf17502",
      "value": " 456k/456k [00:00&lt;00:00, 3.48MB/s]"
     }
    },
    "74bd55b2325e4460ac842b1cfb194d12": {
     "model_module": "@jupyter-widgets/controls",
     "model_name": "FloatProgressModel",
     "state": {
      "_dom_classes": [],
      "_model_module": "@jupyter-widgets/controls",
      "_model_module_version": "1.5.0",
      "_model_name": "FloatProgressModel",
      "_view_count": null,
      "_view_module": "@jupyter-widgets/controls",
      "_view_module_version": "1.5.0",
      "_view_name": "ProgressView",
      "bar_style": "success",
      "description": "Downloading: 100%",
      "description_tooltip": null,
      "layout": "IPY_MODEL_0391c617ae4849899c44ea870eeb07d1",
      "max": 456318,
      "min": 0,
      "orientation": "horizontal",
      "style": "IPY_MODEL_0ca8b62c653d4563b7cc5ef029b7a9b7",
      "value": 456318
     }
    },
    "8211324815b64a3d830addc5edf17502": {
     "model_module": "@jupyter-widgets/controls",
     "model_name": "DescriptionStyleModel",
     "state": {
      "_model_module": "@jupyter-widgets/controls",
      "_model_module_version": "1.5.0",
      "_model_name": "DescriptionStyleModel",
      "_view_count": null,
      "_view_module": "@jupyter-widgets/base",
      "_view_module_version": "1.2.0",
      "_view_name": "StyleView",
      "description_width": ""
     }
    },
    "8ae6f4ccae454217a7441e307dc6f330": {
     "model_module": "@jupyter-widgets/controls",
     "model_name": "HTMLModel",
     "state": {
      "_dom_classes": [],
      "_model_module": "@jupyter-widgets/controls",
      "_model_module_version": "1.5.0",
      "_model_name": "HTMLModel",
      "_view_count": null,
      "_view_module": "@jupyter-widgets/controls",
      "_view_module_version": "1.5.0",
      "_view_name": "HTMLView",
      "description": "",
      "description_tooltip": null,
      "layout": "IPY_MODEL_de178370e05f47f28ba5ab51b11a09cc",
      "placeholder": "​",
      "style": "IPY_MODEL_fa751991e9a44d6da1db4576fa073424",
      "value": " 899k/899k [00:00&lt;00:00, 1.82MB/s]"
     }
    },
    "8dac9bd211ac4620b9a588924c60eabb": {
     "model_module": "@jupyter-widgets/controls",
     "model_name": "DescriptionStyleModel",
     "state": {
      "_model_module": "@jupyter-widgets/controls",
      "_model_module_version": "1.5.0",
      "_model_name": "DescriptionStyleModel",
      "_view_count": null,
      "_view_module": "@jupyter-widgets/base",
      "_view_module_version": "1.2.0",
      "_view_name": "StyleView",
      "description_width": ""
     }
    },
    "975826f816a240878fc6380bba45c861": {
     "model_module": "@jupyter-widgets/base",
     "model_name": "LayoutModel",
     "state": {
      "_model_module": "@jupyter-widgets/base",
      "_model_module_version": "1.2.0",
      "_model_name": "LayoutModel",
      "_view_count": null,
      "_view_module": "@jupyter-widgets/base",
      "_view_module_version": "1.2.0",
      "_view_name": "LayoutView",
      "align_content": null,
      "align_items": null,
      "align_self": null,
      "border": null,
      "bottom": null,
      "display": null,
      "flex": null,
      "flex_flow": null,
      "grid_area": null,
      "grid_auto_columns": null,
      "grid_auto_flow": null,
      "grid_auto_rows": null,
      "grid_column": null,
      "grid_gap": null,
      "grid_row": null,
      "grid_template_areas": null,
      "grid_template_columns": null,
      "grid_template_rows": null,
      "height": null,
      "justify_content": null,
      "justify_items": null,
      "left": null,
      "margin": null,
      "max_height": null,
      "max_width": null,
      "min_height": null,
      "min_width": null,
      "object_fit": null,
      "object_position": null,
      "order": null,
      "overflow": null,
      "overflow_x": null,
      "overflow_y": null,
      "padding": null,
      "right": null,
      "top": null,
      "visibility": null,
      "width": null
     }
    },
    "a2f2481855d740819c88371adc4cc54d": {
     "model_module": "@jupyter-widgets/controls",
     "model_name": "HTMLModel",
     "state": {
      "_dom_classes": [],
      "_model_module": "@jupyter-widgets/controls",
      "_model_module_version": "1.5.0",
      "_model_name": "HTMLModel",
      "_view_count": null,
      "_view_module": "@jupyter-widgets/controls",
      "_view_module_version": "1.5.0",
      "_view_name": "HTMLView",
      "description": "",
      "description_tooltip": null,
      "layout": "IPY_MODEL_0a7889ec6c0a4fa78c3f85b4607a8609",
      "placeholder": "​",
      "style": "IPY_MODEL_8dac9bd211ac4620b9a588924c60eabb",
      "value": " 481/481 [00:00&lt;00:00, 3.59kB/s]"
     }
    },
    "c13ab613f9854e0f9e60c78bb1b10769": {
     "model_module": "@jupyter-widgets/controls",
     "model_name": "HBoxModel",
     "state": {
      "_dom_classes": [],
      "_model_module": "@jupyter-widgets/controls",
      "_model_module_version": "1.5.0",
      "_model_name": "HBoxModel",
      "_view_count": null,
      "_view_module": "@jupyter-widgets/controls",
      "_view_module_version": "1.5.0",
      "_view_name": "HBoxView",
      "box_style": "",
      "children": [
       "IPY_MODEL_74bd55b2325e4460ac842b1cfb194d12",
       "IPY_MODEL_6f462555009349d9a2c4f8c8ff54e356"
      ],
      "layout": "IPY_MODEL_975826f816a240878fc6380bba45c861"
     }
    },
    "d5d06203a56e456a8dc739ea36508ced": {
     "model_module": "@jupyter-widgets/controls",
     "model_name": "ProgressStyleModel",
     "state": {
      "_model_module": "@jupyter-widgets/controls",
      "_model_module_version": "1.5.0",
      "_model_name": "ProgressStyleModel",
      "_view_count": null,
      "_view_module": "@jupyter-widgets/base",
      "_view_module_version": "1.2.0",
      "_view_name": "StyleView",
      "bar_color": null,
      "description_width": "initial"
     }
    },
    "dbd1c4ff990646bf8276daf012ff751f": {
     "model_module": "@jupyter-widgets/base",
     "model_name": "LayoutModel",
     "state": {
      "_model_module": "@jupyter-widgets/base",
      "_model_module_version": "1.2.0",
      "_model_name": "LayoutModel",
      "_view_count": null,
      "_view_module": "@jupyter-widgets/base",
      "_view_module_version": "1.2.0",
      "_view_name": "LayoutView",
      "align_content": null,
      "align_items": null,
      "align_self": null,
      "border": null,
      "bottom": null,
      "display": null,
      "flex": null,
      "flex_flow": null,
      "grid_area": null,
      "grid_auto_columns": null,
      "grid_auto_flow": null,
      "grid_auto_rows": null,
      "grid_column": null,
      "grid_gap": null,
      "grid_row": null,
      "grid_template_areas": null,
      "grid_template_columns": null,
      "grid_template_rows": null,
      "height": null,
      "justify_content": null,
      "justify_items": null,
      "left": null,
      "margin": null,
      "max_height": null,
      "max_width": null,
      "min_height": null,
      "min_width": null,
      "object_fit": null,
      "object_position": null,
      "order": null,
      "overflow": null,
      "overflow_x": null,
      "overflow_y": null,
      "padding": null,
      "right": null,
      "top": null,
      "visibility": null,
      "width": null
     }
    },
    "de178370e05f47f28ba5ab51b11a09cc": {
     "model_module": "@jupyter-widgets/base",
     "model_name": "LayoutModel",
     "state": {
      "_model_module": "@jupyter-widgets/base",
      "_model_module_version": "1.2.0",
      "_model_name": "LayoutModel",
      "_view_count": null,
      "_view_module": "@jupyter-widgets/base",
      "_view_module_version": "1.2.0",
      "_view_name": "LayoutView",
      "align_content": null,
      "align_items": null,
      "align_self": null,
      "border": null,
      "bottom": null,
      "display": null,
      "flex": null,
      "flex_flow": null,
      "grid_area": null,
      "grid_auto_columns": null,
      "grid_auto_flow": null,
      "grid_auto_rows": null,
      "grid_column": null,
      "grid_gap": null,
      "grid_row": null,
      "grid_template_areas": null,
      "grid_template_columns": null,
      "grid_template_rows": null,
      "height": null,
      "justify_content": null,
      "justify_items": null,
      "left": null,
      "margin": null,
      "max_height": null,
      "max_width": null,
      "min_height": null,
      "min_width": null,
      "object_fit": null,
      "object_position": null,
      "order": null,
      "overflow": null,
      "overflow_x": null,
      "overflow_y": null,
      "padding": null,
      "right": null,
      "top": null,
      "visibility": null,
      "width": null
     }
    },
    "eb7ecb4de2204b0780fc227cb85ea6cc": {
     "model_module": "@jupyter-widgets/controls",
     "model_name": "HBoxModel",
     "state": {
      "_dom_classes": [],
      "_model_module": "@jupyter-widgets/controls",
      "_model_module_version": "1.5.0",
      "_model_name": "HBoxModel",
      "_view_count": null,
      "_view_module": "@jupyter-widgets/controls",
      "_view_module_version": "1.5.0",
      "_view_name": "HBoxView",
      "box_style": "",
      "children": [
       "IPY_MODEL_4d8ad93106274153bd7997a9f096be4a",
       "IPY_MODEL_8ae6f4ccae454217a7441e307dc6f330"
      ],
      "layout": "IPY_MODEL_dbd1c4ff990646bf8276daf012ff751f"
     }
    },
    "fa751991e9a44d6da1db4576fa073424": {
     "model_module": "@jupyter-widgets/controls",
     "model_name": "DescriptionStyleModel",
     "state": {
      "_model_module": "@jupyter-widgets/controls",
      "_model_module_version": "1.5.0",
      "_model_name": "DescriptionStyleModel",
      "_view_count": null,
      "_view_module": "@jupyter-widgets/base",
      "_view_module_version": "1.2.0",
      "_view_name": "StyleView",
      "description_width": ""
     }
    }
   }
  }
 },
 "nbformat": 4,
 "nbformat_minor": 4
}
