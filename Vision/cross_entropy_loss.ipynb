{
 "cells": [
  {
   "cell_type": "markdown",
   "metadata": {
    "colab_type": "text",
    "id": "srvk1E9axAw7"
   },
   "source": [
    "# Cross Entropy Loss"
   ]
  },
  {
   "cell_type": "code",
   "execution_count": 1,
   "metadata": {
    "colab": {},
    "colab_type": "code",
    "id": "xIr7m05qxdDj"
   },
   "outputs": [],
   "source": [
    "from fastai.vision.all import *"
   ]
  },
  {
   "cell_type": "markdown",
   "metadata": {
    "colab_type": "text",
    "id": "P-t95Iyq1Sqn"
   },
   "source": [
    "Let's just use some random numbers with a standard deviation of 2 (so we multiply randn by 2) for this example, assuming we have six images and two possible categories (where the first columns represents \"3\"s and the second is \"7\"s):"
   ]
  },
  {
   "cell_type": "code",
   "execution_count": 2,
   "metadata": {
    "colab": {
     "base_uri": "https://localhost:8080/"
    },
    "colab_type": "code",
    "executionInfo": {
     "elapsed": 1261,
     "status": "ok",
     "timestamp": 1587035243138,
     "user": {
      "displayName": "Harish Vadlamani",
      "photoUrl": "https://lh3.googleusercontent.com/a-/AOh14GjvtEs9ilUiox4zq4735m_LYCl9UMPSdSRbubWz-A=s64",
      "userId": "12704981055162716897"
     },
     "user_tz": -330
    },
    "id": "viEeY3IKxFrm",
    "outputId": "304db8e2-d27a-4d59-a016-e88507bd3ccb"
   },
   "outputs": [
    {
     "data": {
      "text/plain": [
       "tensor([[ 0.6896, -0.8912],\n",
       "        [-0.8046,  2.6453],\n",
       "        [-2.0471, -1.1733],\n",
       "        [-0.0234,  1.6463],\n",
       "        [ 1.3168,  0.7801],\n",
       "        [ 0.2347, -0.3501]])"
      ]
     },
     "execution_count": 2,
     "metadata": {},
     "output_type": "execute_result"
    }
   ],
   "source": [
    "# Creating random activations for simulation of cross-entropy loss\n",
    "acts = torch.randn((6,2))*2\n",
    "acts"
   ]
  },
  {
   "cell_type": "code",
   "execution_count": 3,
   "metadata": {
    "colab": {},
    "colab_type": "code",
    "id": "7oK6zIS4x2Hd"
   },
   "outputs": [],
   "source": [
    "# Defining random labels for the 6 images\n",
    "targ = tensor([0,1,0,1,1,0])"
   ]
  },
  {
   "cell_type": "code",
   "execution_count": 4,
   "metadata": {
    "colab": {
     "base_uri": "https://localhost:8080/"
    },
    "colab_type": "code",
    "executionInfo": {
     "elapsed": 1245,
     "status": "ok",
     "timestamp": 1587035243140,
     "user": {
      "displayName": "Harish Vadlamani",
      "photoUrl": "https://lh3.googleusercontent.com/a-/AOh14GjvtEs9ilUiox4zq4735m_LYCl9UMPSdSRbubWz-A=s64",
      "userId": "12704981055162716897"
     },
     "user_tz": -330
    },
    "id": "gf-6RAvnxRdb",
    "outputId": "3ccfc8a5-a15e-47de-8e40-d8a851076295"
   },
   "outputs": [
    {
     "data": {
      "text/plain": [
       "tensor([[0.8293, 0.1707],\n",
       "        [0.0308, 0.9692],\n",
       "        [0.2945, 0.7055],\n",
       "        [0.1585, 0.8415],\n",
       "        [0.6310, 0.3690],\n",
       "        [0.6422, 0.3578]])"
      ]
     },
     "execution_count": 4,
     "metadata": {},
     "output_type": "execute_result"
    }
   ],
   "source": [
    "# Step 1: Calculate the softmax of the activations/logits\n",
    "sm_acts = torch.softmax(acts, dim=1)\n",
    "sm_acts"
   ]
  },
  {
   "cell_type": "code",
   "execution_count": 5,
   "metadata": {
    "colab": {
     "base_uri": "https://localhost:8080/"
    },
    "colab_type": "code",
    "executionInfo": {
     "elapsed": 1232,
     "status": "ok",
     "timestamp": 1587035243140,
     "user": {
      "displayName": "Harish Vadlamani",
      "photoUrl": "https://lh3.googleusercontent.com/a-/AOh14GjvtEs9ilUiox4zq4735m_LYCl9UMPSdSRbubWz-A=s64",
      "userId": "12704981055162716897"
     },
     "user_tz": -330
    },
    "id": "wrKKs4xk7ved",
    "outputId": "0e243f6e-1559-4f33-e4be-391499cf07d4"
   },
   "outputs": [
    {
     "data": {
      "text/plain": [
       "tensor([1., 1., 1., 1., 1., 1.])"
      ]
     },
     "execution_count": 5,
     "metadata": {},
     "output_type": "execute_result"
    }
   ],
   "source": [
    "sm_acts.sum(axis=1)"
   ]
  },
  {
   "cell_type": "code",
   "execution_count": 6,
   "metadata": {
    "colab": {
     "base_uri": "https://localhost:8080/"
    },
    "colab_type": "code",
    "executionInfo": {
     "elapsed": 1221,
     "status": "ok",
     "timestamp": 1587035243141,
     "user": {
      "displayName": "Harish Vadlamani",
      "photoUrl": "https://lh3.googleusercontent.com/a-/AOh14GjvtEs9ilUiox4zq4735m_LYCl9UMPSdSRbubWz-A=s64",
      "userId": "12704981055162716897"
     },
     "user_tz": -330
    },
    "id": "XWgYkioLxUTO",
    "outputId": "3df6defc-3a39-4c8c-e1be-bb292c07a998"
   },
   "outputs": [
    {
     "data": {
      "text/plain": [
       "tensor([[-0.1871, -1.7680],\n",
       "        [-3.4811, -0.0313],\n",
       "        [-1.2226, -0.3488],\n",
       "        [-1.8422, -0.1725],\n",
       "        [-0.4604, -0.9971],\n",
       "        [-0.4429, -1.0278]])"
      ]
     },
     "execution_count": 6,
     "metadata": {},
     "output_type": "execute_result"
    }
   ],
   "source": [
    "# Step 2: Apply the log to change probabilitiy values from 0 to 1 to negative infinity to infinity range \n",
    "# in order to get a distinction between values like 0.9 and 0.99 which is ten times better\n",
    "log_sm_acts = torch.log(sm_acts)\n",
    "log_sm_acts"
   ]
  },
  {
   "cell_type": "code",
   "execution_count": 7,
   "metadata": {
    "colab": {
     "base_uri": "https://localhost:8080/"
    },
    "colab_type": "code",
    "executionInfo": {
     "elapsed": 1210,
     "status": "ok",
     "timestamp": 1587035243142,
     "user": {
      "displayName": "Harish Vadlamani",
      "photoUrl": "https://lh3.googleusercontent.com/a-/AOh14GjvtEs9ilUiox4zq4735m_LYCl9UMPSdSRbubWz-A=s64",
      "userId": "12704981055162716897"
     },
     "user_tz": -330
    },
    "id": "XsDHD1NTxmSh",
    "outputId": "cafb9934-78f4-4773-ab98-93bd2e026856"
   },
   "outputs": [
    {
     "data": {
      "text/plain": [
       "tensor([0.1871, 0.0313, 1.2226, 0.1725, 0.9971, 0.4429])"
      ]
     },
     "execution_count": 7,
     "metadata": {},
     "output_type": "execute_result"
    }
   ],
   "source": [
    "# Applying negative log likelihood\n",
    "nll_loss = F.nll_loss(log_sm_acts, targ, reduction='none')\n",
    "nll_loss"
   ]
  },
  {
   "cell_type": "code",
   "execution_count": 8,
   "metadata": {
    "colab": {
     "base_uri": "https://localhost:8080/"
    },
    "colab_type": "code",
    "executionInfo": {
     "elapsed": 1197,
     "status": "ok",
     "timestamp": 1587035243142,
     "user": {
      "displayName": "Harish Vadlamani",
      "photoUrl": "https://lh3.googleusercontent.com/a-/AOh14GjvtEs9ilUiox4zq4735m_LYCl9UMPSdSRbubWz-A=s64",
      "userId": "12704981055162716897"
     },
     "user_tz": -330
    },
    "id": "Mf5w4rkT0RoR",
    "outputId": "98113f7b-87cc-45d0-8259-6d81fb2b3fa4"
   },
   "outputs": [
    {
     "data": {
      "text/plain": [
       "tensor([0.1871, 0.0313, 1.2226, 0.1725, 0.9971, 0.4429])"
      ]
     },
     "execution_count": 8,
     "metadata": {},
     "output_type": "execute_result"
    }
   ],
   "source": [
    "# The above NLL loss is same as below\n",
    "idx = range(6)\n",
    "-log_sm_acts[idx, targ]"
   ]
  },
  {
   "cell_type": "code",
   "execution_count": 9,
   "metadata": {
    "colab": {
     "base_uri": "https://localhost:8080/"
    },
    "colab_type": "code",
    "executionInfo": {
     "elapsed": 1185,
     "status": "ok",
     "timestamp": 1587035243143,
     "user": {
      "displayName": "Harish Vadlamani",
      "photoUrl": "https://lh3.googleusercontent.com/a-/AOh14GjvtEs9ilUiox4zq4735m_LYCl9UMPSdSRbubWz-A=s64",
      "userId": "12704981055162716897"
     },
     "user_tz": -330
    },
    "id": "NYDnoWehx4eG",
    "outputId": "ed7af8f9-1ca1-4269-d3ac-f87c1a6020f7"
   },
   "outputs": [
    {
     "data": {
      "text/plain": [
       "tensor([0.1871, 0.0313, 1.2226, 0.1725, 0.9971, 0.4429])"
      ]
     },
     "execution_count": 9,
     "metadata": {},
     "output_type": "execute_result"
    }
   ],
   "source": [
    "# All the above steps can be done in one using F.cross_entropy method\n",
    "F.cross_entropy(acts, targ, reduction='none')"
   ]
  },
  {
   "cell_type": "markdown",
   "metadata": {
    "colab_type": "text",
    "id": "RSQHDAWryEJ0"
   },
   "source": [
    "---"
   ]
  },
  {
   "cell_type": "markdown",
   "metadata": {
    "colab_type": "text",
    "id": "VyWZWru31OZy"
   },
   "source": [
    "## Applying Cross Entropy to one batch of Pets dataset"
   ]
  },
  {
   "cell_type": "code",
   "execution_count": 10,
   "metadata": {
    "colab": {},
    "colab_type": "code",
    "id": "HOYNhSSb4X6m"
   },
   "outputs": [],
   "source": [
    "from fastai.vision.all import *\n",
    "path = untar_data(URLs.PETS)"
   ]
  },
  {
   "cell_type": "code",
   "execution_count": 11,
   "metadata": {
    "colab": {},
    "colab_type": "code",
    "id": "HAszIwua4gOd"
   },
   "outputs": [
    {
     "name": "stderr",
     "output_type": "stream",
     "text": [
      "/home/harish/miniconda3/envs/fastai/lib/python3.7/site-packages/torch/_tensor.py:1051: UserWarning: torch.solve is deprecated in favor of torch.linalg.solveand will be removed in a future PyTorch release.\n",
      "torch.linalg.solve has its arguments reversed and does not return the LU factorization.\n",
      "To get the LU factorization see torch.lu, which can be used with torch.lu_solve or torch.lu_unpack.\n",
      "X = torch.solve(B, A).solution\n",
      "should be replaced with\n",
      "X = torch.linalg.solve(A, B) (Triggered internally at  /opt/conda/conda-bld/pytorch_1639180594101/work/aten/src/ATen/native/BatchLinearAlgebra.cpp:766.)\n",
      "  ret = func(*args, **kwargs)\n"
     ]
    }
   ],
   "source": [
    "pets = DataBlock(blocks = (ImageBlock, CategoryBlock),\n",
    "                 get_items=get_image_files, \n",
    "                 splitter=RandomSplitter(seed=42),\n",
    "                 get_y=using_attr(RegexLabeller(r'(.+)_\\d+.jpg$'), 'name'),\n",
    "                 item_tfms=Resize(460),\n",
    "                 batch_tfms=aug_transforms(size=224, min_scale=0.75))\n",
    "dls = pets.dataloaders(path/\"images\")"
   ]
  },
  {
   "cell_type": "code",
   "execution_count": 12,
   "metadata": {
    "colab": {
     "base_uri": "https://localhost:8080/",
     "height": 195
    },
    "colab_type": "code",
    "executionInfo": {
     "elapsed": 3705,
     "status": "ok",
     "timestamp": 1587038389628,
     "user": {
      "displayName": "Harish Vadlamani",
      "photoUrl": "https://lh3.googleusercontent.com/a-/AOh14GjvtEs9ilUiox4zq4735m_LYCl9UMPSdSRbubWz-A=s64",
      "userId": "12704981055162716897"
     },
     "user_tz": -330
    },
    "id": "_aTI1tFZ4hAg",
    "outputId": "cfd264bf-72ee-407e-c3f9-177258999862"
   },
   "outputs": [
    {
     "data": {
      "image/png": "[encoded data removed]",
      "text/plain": [
       "<Figure size 648x216 with 3 Axes>"
      ]
     },
     "metadata": {
      "needs_background": "light"
     },
     "output_type": "display_data"
    }
   ],
   "source": [
    "dls.show_batch(nrows=1, ncols=3)"
   ]
  },
  {
   "cell_type": "code",
   "execution_count": 13,
   "metadata": {
    "colab": {},
    "colab_type": "code",
    "id": "WTHA39o94hNL"
   },
   "outputs": [],
   "source": [
    "learn = cnn_learner(dls, resnet34, metrics=error_rate)"
   ]
  },
  {
   "cell_type": "code",
   "execution_count": 14,
   "metadata": {
    "colab": {
     "base_uri": "https://localhost:8080/",
     "height": 1000
    },
    "colab_type": "code",
    "executionInfo": {
     "elapsed": 3683,
     "status": "ok",
     "timestamp": 1587038389630,
     "user": {
      "displayName": "Harish Vadlamani",
      "photoUrl": "https://lh3.googleusercontent.com/a-/AOh14GjvtEs9ilUiox4zq4735m_LYCl9UMPSdSRbubWz-A=s64",
      "userId": "12704981055162716897"
     },
     "user_tz": -330
    },
    "id": "mbMTxV23tVOw",
    "outputId": "919f4aee-2244-4789-d0e5-d01d997555a8"
   },
   "outputs": [
    {
     "data": {
      "text/html": [],
      "text/plain": [
       "<IPython.core.display.HTML object>"
      ]
     },
     "metadata": {},
     "output_type": "display_data"
    },
    {
     "data": {
      "text/plain": [
       "Sequential (Input shape: 64 x 3 x 224 x 224)\n",
       "============================================================================\n",
       "Layer (type)         Output Shape         Param #    Trainable \n",
       "============================================================================\n",
       "                     64 x 64 x 112 x 112 \n",
       "Conv2d                                    9408       False     \n",
       "BatchNorm2d                               128        True      \n",
       "ReLU                                                           \n",
       "____________________________________________________________________________\n",
       "                     64 x 64 x 56 x 56   \n",
       "MaxPool2d                                                      \n",
       "Conv2d                                    36864      False     \n",
       "BatchNorm2d                               128        True      \n",
       "ReLU                                                           \n",
       "Conv2d                                    36864      False     \n",
       "BatchNorm2d                               128        True      \n",
       "Conv2d                                    36864      False     \n",
       "BatchNorm2d                               128        True      \n",
       "ReLU                                                           \n",
       "Conv2d                                    36864      False     \n",
       "BatchNorm2d                               128        True      \n",
       "Conv2d                                    36864      False     \n",
       "BatchNorm2d                               128        True      \n",
       "ReLU                                                           \n",
       "Conv2d                                    36864      False     \n",
       "BatchNorm2d                               128        True      \n",
       "____________________________________________________________________________\n",
       "                     64 x 128 x 28 x 28  \n",
       "Conv2d                                    73728      False     \n",
       "BatchNorm2d                               256        True      \n",
       "ReLU                                                           \n",
       "Conv2d                                    147456     False     \n",
       "BatchNorm2d                               256        True      \n",
       "Conv2d                                    8192       False     \n",
       "BatchNorm2d                               256        True      \n",
       "Conv2d                                    147456     False     \n",
       "BatchNorm2d                               256        True      \n",
       "ReLU                                                           \n",
       "Conv2d                                    147456     False     \n",
       "BatchNorm2d                               256        True      \n",
       "Conv2d                                    147456     False     \n",
       "BatchNorm2d                               256        True      \n",
       "ReLU                                                           \n",
       "Conv2d                                    147456     False     \n",
       "BatchNorm2d                               256        True      \n",
       "Conv2d                                    147456     False     \n",
       "BatchNorm2d                               256        True      \n",
       "ReLU                                                           \n",
       "Conv2d                                    147456     False     \n",
       "BatchNorm2d                               256        True      \n",
       "____________________________________________________________________________\n",
       "                     64 x 256 x 14 x 14  \n",
       "Conv2d                                    294912     False     \n",
       "BatchNorm2d                               512        True      \n",
       "ReLU                                                           \n",
       "Conv2d                                    589824     False     \n",
       "BatchNorm2d                               512        True      \n",
       "Conv2d                                    32768      False     \n",
       "BatchNorm2d                               512        True      \n",
       "Conv2d                                    589824     False     \n",
       "BatchNorm2d                               512        True      \n",
       "ReLU                                                           \n",
       "Conv2d                                    589824     False     \n",
       "BatchNorm2d                               512        True      \n",
       "Conv2d                                    589824     False     \n",
       "BatchNorm2d                               512        True      \n",
       "ReLU                                                           \n",
       "Conv2d                                    589824     False     \n",
       "BatchNorm2d                               512        True      \n",
       "Conv2d                                    589824     False     \n",
       "BatchNorm2d                               512        True      \n",
       "ReLU                                                           \n",
       "Conv2d                                    589824     False     \n",
       "BatchNorm2d                               512        True      \n",
       "Conv2d                                    589824     False     \n",
       "BatchNorm2d                               512        True      \n",
       "ReLU                                                           \n",
       "Conv2d                                    589824     False     \n",
       "BatchNorm2d                               512        True      \n",
       "Conv2d                                    589824     False     \n",
       "BatchNorm2d                               512        True      \n",
       "ReLU                                                           \n",
       "Conv2d                                    589824     False     \n",
       "BatchNorm2d                               512        True      \n",
       "____________________________________________________________________________\n",
       "                     64 x 512 x 7 x 7    \n",
       "Conv2d                                    1179648    False     \n",
       "BatchNorm2d                               1024       True      \n",
       "ReLU                                                           \n",
       "Conv2d                                    2359296    False     \n",
       "BatchNorm2d                               1024       True      \n",
       "Conv2d                                    131072     False     \n",
       "BatchNorm2d                               1024       True      \n",
       "Conv2d                                    2359296    False     \n",
       "BatchNorm2d                               1024       True      \n",
       "ReLU                                                           \n",
       "Conv2d                                    2359296    False     \n",
       "BatchNorm2d                               1024       True      \n",
       "Conv2d                                    2359296    False     \n",
       "BatchNorm2d                               1024       True      \n",
       "ReLU                                                           \n",
       "Conv2d                                    2359296    False     \n",
       "BatchNorm2d                               1024       True      \n",
       "____________________________________________________________________________\n",
       "                     64 x 512 x 1 x 1    \n",
       "AdaptiveAvgPool2d                                              \n",
       "AdaptiveMaxPool2d                                              \n",
       "____________________________________________________________________________\n",
       "                     64 x 1024           \n",
       "Flatten                                                        \n",
       "BatchNorm1d                               2048       True      \n",
       "Dropout                                                        \n",
       "____________________________________________________________________________\n",
       "                     64 x 512            \n",
       "Linear                                    524288     True      \n",
       "ReLU                                                           \n",
       "BatchNorm1d                               1024       True      \n",
       "Dropout                                                        \n",
       "____________________________________________________________________________\n",
       "                     64 x 37             \n",
       "Linear                                    18944      True      \n",
       "____________________________________________________________________________\n",
       "\n",
       "Total params: 21,830,976\n",
       "Total trainable params: 563,328\n",
       "Total non-trainable params: 21,267,648\n",
       "\n",
       "Optimizer used: <function Adam at 0x7fcdb7792050>\n",
       "Loss function: FlattenedLoss of CrossEntropyLoss()\n",
       "\n",
       "Model frozen up to parameter group #2\n",
       "\n",
       "Callbacks:\n",
       "  - TrainEvalCallback\n",
       "  - Recorder\n",
       "  - ProgressCallback"
      ]
     },
     "execution_count": 14,
     "metadata": {},
     "output_type": "execute_result"
    }
   ],
   "source": [
    "learn.summary()"
   ]
  },
  {
   "cell_type": "code",
   "execution_count": 15,
   "metadata": {
    "colab": {
     "base_uri": "https://localhost:8080/",
     "height": 35
    },
    "colab_type": "code",
    "executionInfo": {
     "elapsed": 5466,
     "status": "ok",
     "timestamp": 1587038391425,
     "user": {
      "displayName": "Harish Vadlamani",
      "photoUrl": "https://lh3.googleusercontent.com/a-/AOh14GjvtEs9ilUiox4zq4735m_LYCl9UMPSdSRbubWz-A=s64",
      "userId": "12704981055162716897"
     },
     "user_tz": -330
    },
    "id": "mDwrFudk4hWE",
    "outputId": "5a2e5e39-6716-4a74-d224-c4141440c4bc"
   },
   "outputs": [
    {
     "data": {
      "text/plain": [
       "(torch.Size([64, 3, 224, 224]), torch.Size([64]))"
      ]
     },
     "execution_count": 15,
     "metadata": {},
     "output_type": "execute_result"
    }
   ],
   "source": [
    "x,y = dls.one_batch()\n",
    "x.shape, y.shape"
   ]
  },
  {
   "cell_type": "code",
   "execution_count": 16,
   "metadata": {
    "colab": {
     "base_uri": "https://localhost:8080/",
     "height": 158
    },
    "colab_type": "code",
    "executionInfo": {
     "elapsed": 5457,
     "status": "ok",
     "timestamp": 1587038391426,
     "user": {
      "displayName": "Harish Vadlamani",
      "photoUrl": "https://lh3.googleusercontent.com/a-/AOh14GjvtEs9ilUiox4zq4735m_LYCl9UMPSdSRbubWz-A=s64",
      "userId": "12704981055162716897"
     },
     "user_tz": -330
    },
    "id": "Af6ykXGS51-d",
    "outputId": "054fd400-b0b7-4167-94fb-91601f720b9c"
   },
   "outputs": [
    {
     "data": {
      "text/plain": [
       "TensorBase([[-1.1574, -2.0623, -0.7822,  ..., -1.8275, -1.5647, -1.7579],\n",
       "        [-3.4278, -2.3016,  0.1543,  ..., -1.8715, -9.3814,  3.2686],\n",
       "        [-0.7537,  2.0803, -4.8622,  ..., -2.8298, -6.3663,  1.1591],\n",
       "        ...,\n",
       "        [ 1.4665, -1.2018, -0.2555,  ...,  0.2192, -3.2029,  1.3626],\n",
       "        [ 1.5815, -2.0664, -1.1550,  ..., -1.6148, -3.6788,  1.6432],\n",
       "        [-1.7179, -1.2494, -3.5292,  ..., -0.0209, -8.0390,  3.8722]],\n",
       "       device='cuda:0', grad_fn=<AliasBackward0>)"
      ]
     },
     "execution_count": 16,
     "metadata": {},
     "output_type": "execute_result"
    }
   ],
   "source": [
    "# forward pass output\n",
    "activs = learn.model(x)\n",
    "activs"
   ]
  },
  {
   "cell_type": "code",
   "execution_count": 17,
   "metadata": {
    "colab": {
     "base_uri": "https://localhost:8080/",
     "height": 246
    },
    "colab_type": "code",
    "executionInfo": {
     "elapsed": 5446,
     "status": "ok",
     "timestamp": 1587038391426,
     "user": {
      "displayName": "Harish Vadlamani",
      "photoUrl": "https://lh3.googleusercontent.com/a-/AOh14GjvtEs9ilUiox4zq4735m_LYCl9UMPSdSRbubWz-A=s64",
      "userId": "12704981055162716897"
     },
     "user_tz": -330
    },
    "id": "3bMBkTZGtdyA",
    "outputId": "4c564244-ad0c-4afc-e1df-26266b1d8546"
   },
   "outputs": [
    {
     "data": {
      "text/plain": [
       "TensorBase([[6.6930e-04, 2.7079e-04, 9.7409e-04,  ..., 3.4247e-04, 4.4539e-04,\n",
       "         3.6716e-04],\n",
       "        [1.3467e-05, 4.1533e-05, 4.8413e-04,  ..., 6.3853e-05, 3.4967e-08,\n",
       "         1.0902e-02],\n",
       "        [7.0810e-05, 1.2047e-03, 1.1636e-06,  ..., 8.8814e-06, 2.5859e-07,\n",
       "         4.7952e-04],\n",
       "        ...,\n",
       "        [1.2288e-03, 8.5247e-05, 2.1960e-04,  ..., 3.5304e-04, 1.1524e-05,\n",
       "         1.1076e-03],\n",
       "        [1.0872e-02, 2.8315e-04, 7.0447e-04,  ..., 4.4479e-04, 5.6465e-05,\n",
       "         1.1563e-02],\n",
       "        [2.9061e-05, 4.6428e-05, 4.7499e-06,  ..., 1.5861e-04, 5.2250e-08,\n",
       "         7.7816e-03]], device='cuda:0', grad_fn=<AliasBackward0>)"
      ]
     },
     "execution_count": 17,
     "metadata": {},
     "output_type": "execute_result"
    }
   ],
   "source": [
    "preds = torch.softmax(activs, dim=1)\n",
    "preds"
   ]
  },
  {
   "cell_type": "code",
   "execution_count": 18,
   "metadata": {
    "colab": {
     "base_uri": "https://localhost:8080/",
     "height": 158
    },
    "colab_type": "code",
    "executionInfo": {
     "elapsed": 5437,
     "status": "ok",
     "timestamp": 1587038391427,
     "user": {
      "displayName": "Harish Vadlamani",
      "photoUrl": "https://lh3.googleusercontent.com/a-/AOh14GjvtEs9ilUiox4zq4735m_LYCl9UMPSdSRbubWz-A=s64",
      "userId": "12704981055162716897"
     },
     "user_tz": -330
    },
    "id": "zC_cav7U0bqn",
    "outputId": "21f172cd-1a02-4f6f-d34e-2028081685ca"
   },
   "outputs": [
    {
     "data": {
      "text/plain": [
       "TensorBase([1.0000, 1.0000, 1.0000, 1.0000, 1.0000, 1.0000, 1.0000, 1.0000, 1.0000,\n",
       "        1.0000, 1.0000, 1.0000, 1.0000, 1.0000, 1.0000, 1.0000, 1.0000, 1.0000,\n",
       "        1.0000, 1.0000, 1.0000, 1.0000, 1.0000, 1.0000, 1.0000, 1.0000, 1.0000,\n",
       "        1.0000, 1.0000, 1.0000, 1.0000, 1.0000, 1.0000, 1.0000, 1.0000, 1.0000,\n",
       "        1.0000, 1.0000, 1.0000, 1.0000, 1.0000, 1.0000, 1.0000, 1.0000, 1.0000,\n",
       "        1.0000, 1.0000, 1.0000, 1.0000, 1.0000, 1.0000, 1.0000, 1.0000, 1.0000,\n",
       "        1.0000, 1.0000, 1.0000, 1.0000, 1.0000, 1.0000, 1.0000, 1.0000, 1.0000,\n",
       "        1.0000], device='cuda:0', grad_fn=<AliasBackward0>)"
      ]
     },
     "execution_count": 18,
     "metadata": {},
     "output_type": "execute_result"
    }
   ],
   "source": [
    "preds.sum(axis=1)"
   ]
  },
  {
   "cell_type": "markdown",
   "metadata": {
    "colab_type": "text",
    "id": "ebDW791g6lSj"
   },
   "source": [
    "There are 64 images in a batch and each image has37 categories and hence the shape"
   ]
  },
  {
   "cell_type": "code",
   "execution_count": 19,
   "metadata": {
    "colab": {
     "base_uri": "https://localhost:8080/",
     "height": 35
    },
    "colab_type": "code",
    "executionInfo": {
     "elapsed": 5428,
     "status": "ok",
     "timestamp": 1587038391428,
     "user": {
      "displayName": "Harish Vadlamani",
      "photoUrl": "https://lh3.googleusercontent.com/a-/AOh14GjvtEs9ilUiox4zq4735m_LYCl9UMPSdSRbubWz-A=s64",
      "userId": "12704981055162716897"
     },
     "user_tz": -330
    },
    "id": "vVp2bIYN7GpE",
    "outputId": "91a75560-c4d8-42bd-db73-94ef6c8abdbf"
   },
   "outputs": [
    {
     "data": {
      "text/plain": [
       "torch.Size([64, 37])"
      ]
     },
     "execution_count": 19,
     "metadata": {},
     "output_type": "execute_result"
    }
   ],
   "source": [
    "log_preds = torch.log(preds)\n",
    "log_preds.shape"
   ]
  },
  {
   "cell_type": "code",
   "execution_count": 20,
   "metadata": {
    "colab": {
     "base_uri": "https://localhost:8080/",
     "height": 176
    },
    "colab_type": "code",
    "executionInfo": {
     "elapsed": 5418,
     "status": "ok",
     "timestamp": 1587038391429,
     "user": {
      "displayName": "Harish Vadlamani",
      "photoUrl": "https://lh3.googleusercontent.com/a-/AOh14GjvtEs9ilUiox4zq4735m_LYCl9UMPSdSRbubWz-A=s64",
      "userId": "12704981055162716897"
     },
     "user_tz": -330
    },
    "id": "rrIbDtC_7SY8",
    "outputId": "e582ae46-88e8-442a-d35f-e678301ae2d8"
   },
   "outputs": [
    {
     "data": {
      "text/plain": [
       "TensorCategory([ 7.8148,  7.2706, 14.0732, 10.7485, 16.6931, 11.4502,  7.1791,  3.4081,\n",
       "        10.6771,  9.7545, 13.2737,  8.9590,  7.3556, 13.5306,  6.1181, 13.1387,\n",
       "        10.4080,  8.1372,  5.1569,  4.5111,  5.9170, 16.4347,  4.6270,  5.4210,\n",
       "         5.4306, 10.9743,  7.2047, 10.0952,  3.7622, 11.7864,  9.8751,  0.4498,\n",
       "         2.0301, 11.3846,  3.5348,  0.6710, 14.1227,  9.3317, 19.3672, 13.1008,\n",
       "         8.8073,  8.5618,  6.3581, 14.8455, 11.9729,  9.8782, 12.7335, 12.6811,\n",
       "         7.1645,  8.0323, 15.1810,  9.3597,  7.6094, 23.3266, 14.3892, 15.1268,\n",
       "         0.6767, 14.1957, 15.1369,  9.7452, 10.2240, 12.9397,  1.8055,  9.9776],\n",
       "       device='cuda:0', grad_fn=<AliasBackward0>)"
      ]
     },
     "execution_count": 20,
     "metadata": {},
     "output_type": "execute_result"
    }
   ],
   "source": [
    "nll_loss = F.nll_loss(log_preds, y, reduction='none')\n",
    "nll_loss"
   ]
  },
  {
   "cell_type": "code",
   "execution_count": 21,
   "metadata": {
    "colab": {
     "base_uri": "https://localhost:8080/",
     "height": 176
    },
    "colab_type": "code",
    "executionInfo": {
     "elapsed": 5407,
     "status": "ok",
     "timestamp": 1587038391429,
     "user": {
      "displayName": "Harish Vadlamani",
      "photoUrl": "https://lh3.googleusercontent.com/a-/AOh14GjvtEs9ilUiox4zq4735m_LYCl9UMPSdSRbubWz-A=s64",
      "userId": "12704981055162716897"
     },
     "user_tz": -330
    },
    "id": "VdOxR9T7vnk4",
    "outputId": "59d1f76c-e470-45f4-9b1b-66ec7c00c99b"
   },
   "outputs": [
    {
     "data": {
      "text/plain": [
       "TensorCategory([ 7.8148,  7.2706, 14.0732, 10.7485, 16.6931, 11.4502,  7.1791,  3.4081,\n",
       "        10.6771,  9.7545, 13.2737,  8.9590,  7.3556, 13.5306,  6.1181, 13.1387,\n",
       "        10.4080,  8.1372,  5.1569,  4.5111,  5.9170, 16.4347,  4.6270,  5.4210,\n",
       "         5.4306, 10.9743,  7.2047, 10.0952,  3.7622, 11.7864,  9.8751,  0.4498,\n",
       "         2.0301, 11.3846,  3.5348,  0.6710, 14.1227,  9.3317, 19.3672, 13.1008,\n",
       "         8.8073,  8.5618,  6.3581, 14.8455, 11.9729,  9.8782, 12.7335, 12.6811,\n",
       "         7.1645,  8.0323, 15.1810,  9.3597,  7.6094, 23.3266, 14.3892, 15.1268,\n",
       "         0.6767, 14.1957, 15.1369,  9.7452, 10.2240, 12.9397,  1.8055,  9.9776],\n",
       "       device='cuda:0', grad_fn=<AliasBackward0>)"
      ]
     },
     "execution_count": 21,
     "metadata": {},
     "output_type": "execute_result"
    }
   ],
   "source": [
    "F.cross_entropy(activs, y, reduction='none')"
   ]
  },
  {
   "cell_type": "markdown",
   "metadata": {
    "colab_type": "text",
    "id": "yl9CdqSz0z4W"
   },
   "source": [
    "---\n",
    "\n",
    "## Multi-category cross-entropy loss: "
   ]
  },
  {
   "cell_type": "markdown",
   "metadata": {
    "colab_type": "text",
    "id": "HQKCN0-sSoMI"
   },
   "source": [
    "Using Pascal dataset"
   ]
  },
  {
   "cell_type": "code",
   "execution_count": 22,
   "metadata": {
    "colab": {
     "base_uri": "https://localhost:8080/",
     "height": 37
    },
    "colab_type": "code",
    "executionInfo": {
     "elapsed": 65164,
     "status": "ok",
     "timestamp": 1587544637953,
     "user": {
      "displayName": "Harish Vadlamani",
      "photoUrl": "https://lh3.googleusercontent.com/a-/AOh14GjvtEs9ilUiox4zq4735m_LYCl9UMPSdSRbubWz-A=s64",
      "userId": "12704981055162716897"
     },
     "user_tz": -330
    },
    "id": "9lckGFwN3lHs",
    "outputId": "090d828d-4f03-4501-9ff5-7ff79c4efebe"
   },
   "outputs": [],
   "source": [
    "path = untar_data(URLs.PASCAL_2007)"
   ]
  },
  {
   "cell_type": "code",
   "execution_count": 23,
   "metadata": {
    "colab": {
     "base_uri": "https://localhost:8080/",
     "height": 228
    },
    "colab_type": "code",
    "executionInfo": {
     "elapsed": 54885,
     "status": "ok",
     "timestamp": 1587544637955,
     "user": {
      "displayName": "Harish Vadlamani",
      "photoUrl": "https://lh3.googleusercontent.com/a-/AOh14GjvtEs9ilUiox4zq4735m_LYCl9UMPSdSRbubWz-A=s64",
      "userId": "12704981055162716897"
     },
     "user_tz": -330
    },
    "id": "ska-6h7-31ch",
    "outputId": "14513cc6-9fa3-4cb6-e638-1e1e68b2abe2"
   },
   "outputs": [
    {
     "data": {
      "text/html": [
       "<div>\n",
       "<style scoped>\n",
       "    .dataframe tbody tr th:only-of-type {\n",
       "        vertical-align: middle;\n",
       "    }\n",
       "\n",
       "    .dataframe tbody tr th {\n",
       "        vertical-align: top;\n",
       "    }\n",
       "\n",
       "    .dataframe thead th {\n",
       "        text-align: right;\n",
       "    }\n",
       "</style>\n",
       "<table border=\"1\" class=\"dataframe\">\n",
       "  <thead>\n",
       "    <tr style=\"text-align: right;\">\n",
       "      <th></th>\n",
       "      <th>fname</th>\n",
       "      <th>labels</th>\n",
       "      <th>is_valid</th>\n",
       "    </tr>\n",
       "  </thead>\n",
       "  <tbody>\n",
       "    <tr>\n",
       "      <th>0</th>\n",
       "      <td>000005.jpg</td>\n",
       "      <td>chair</td>\n",
       "      <td>True</td>\n",
       "    </tr>\n",
       "    <tr>\n",
       "      <th>1</th>\n",
       "      <td>000007.jpg</td>\n",
       "      <td>car</td>\n",
       "      <td>True</td>\n",
       "    </tr>\n",
       "    <tr>\n",
       "      <th>2</th>\n",
       "      <td>000009.jpg</td>\n",
       "      <td>horse person</td>\n",
       "      <td>True</td>\n",
       "    </tr>\n",
       "    <tr>\n",
       "      <th>3</th>\n",
       "      <td>000012.jpg</td>\n",
       "      <td>car</td>\n",
       "      <td>False</td>\n",
       "    </tr>\n",
       "    <tr>\n",
       "      <th>4</th>\n",
       "      <td>000016.jpg</td>\n",
       "      <td>bicycle</td>\n",
       "      <td>True</td>\n",
       "    </tr>\n",
       "  </tbody>\n",
       "</table>\n",
       "</div>"
      ],
      "text/plain": [
       "        fname        labels  is_valid\n",
       "0  000005.jpg         chair      True\n",
       "1  000007.jpg           car      True\n",
       "2  000009.jpg  horse person      True\n",
       "3  000012.jpg           car     False\n",
       "4  000016.jpg       bicycle      True"
      ]
     },
     "execution_count": 23,
     "metadata": {},
     "output_type": "execute_result"
    }
   ],
   "source": [
    "df = pd.read_csv(path/'train.csv')\n",
    "df.head()"
   ]
  },
  {
   "cell_type": "code",
   "execution_count": 24,
   "metadata": {
    "colab": {},
    "colab_type": "code",
    "id": "WI-33bKS35-P"
   },
   "outputs": [],
   "source": [
    "def get_x(r): return path/'train'/r['fname']\n",
    "def get_y(r): return r['labels'].split(' ')\n",
    "\n",
    "def splitter(df):\n",
    "    train = df.index[~df['is_valid']].tolist()\n",
    "    valid = df.index[df['is_valid']].tolist()\n",
    "    return train,valid\n",
    "\n",
    "dblock = DataBlock(blocks=(ImageBlock, MultiCategoryBlock),\n",
    "                   splitter=splitter,\n",
    "                   get_x=get_x, \n",
    "                   get_y=get_y,\n",
    "                   item_tfms = RandomResizedCrop(128, min_scale=0.35))\n",
    "dls = dblock.dataloaders(df)"
   ]
  },
  {
   "cell_type": "code",
   "execution_count": 25,
   "metadata": {
    "colab": {
     "base_uri": "https://localhost:8080/",
     "height": 215
    },
    "colab_type": "code",
    "executionInfo": {
     "elapsed": 9959,
     "status": "ok",
     "timestamp": 1587544740615,
     "user": {
      "displayName": "Harish Vadlamani",
      "photoUrl": "https://lh3.googleusercontent.com/a-/AOh14GjvtEs9ilUiox4zq4735m_LYCl9UMPSdSRbubWz-A=s64",
      "userId": "12704981055162716897"
     },
     "user_tz": -330
    },
    "id": "hJR8KDu44EMI",
    "outputId": "33668456-f318-4edc-bd68-465a2ee9cb60"
   },
   "outputs": [
    {
     "data": {
      "image/png": "[encoded data removed]",
      "text/plain": [
       "<Figure size 648x216 with 3 Axes>"
      ]
     },
     "metadata": {
      "needs_background": "light"
     },
     "output_type": "display_data"
    }
   ],
   "source": [
    "dls.show_batch(nrows=1, ncols=3)"
   ]
  },
  {
   "cell_type": "code",
   "execution_count": 26,
   "metadata": {
    "colab": {},
    "colab_type": "code",
    "id": "a-h_BjPu4VqW"
   },
   "outputs": [],
   "source": [
    "# Get one batch of data\n",
    "x,y = dls.train.one_batch()"
   ]
  },
  {
   "cell_type": "code",
   "execution_count": 27,
   "metadata": {
    "colab": {
     "base_uri": "https://localhost:8080/",
     "height": 55
    },
    "colab_type": "code",
    "executionInfo": {
     "elapsed": 1406,
     "status": "ok",
     "timestamp": 1587544774181,
     "user": {
      "displayName": "Harish Vadlamani",
      "photoUrl": "https://lh3.googleusercontent.com/a-/AOh14GjvtEs9ilUiox4zq4735m_LYCl9UMPSdSRbubWz-A=s64",
      "userId": "12704981055162716897"
     },
     "user_tz": -330
    },
    "id": "d1xepsOU7zfX",
    "outputId": "0552c923-ce4c-47b5-b7f4-0568a8c418bd"
   },
   "outputs": [
    {
     "data": {
      "text/plain": [
       "torch.Size([64, 3, 128, 128])"
      ]
     },
     "execution_count": 27,
     "metadata": {},
     "output_type": "execute_result"
    }
   ],
   "source": [
    "x.shape"
   ]
  },
  {
   "cell_type": "code",
   "execution_count": 28,
   "metadata": {
    "colab": {
     "base_uri": "https://localhost:8080/",
     "height": 55
    },
    "colab_type": "code",
    "executionInfo": {
     "elapsed": 1229,
     "status": "ok",
     "timestamp": 1587544776848,
     "user": {
      "displayName": "Harish Vadlamani",
      "photoUrl": "https://lh3.googleusercontent.com/a-/AOh14GjvtEs9ilUiox4zq4735m_LYCl9UMPSdSRbubWz-A=s64",
      "userId": "12704981055162716897"
     },
     "user_tz": -330
    },
    "id": "yH7m5o2s4liR",
    "outputId": "b5f108ff-0094-4e70-c96a-ca0743612877"
   },
   "outputs": [
    {
     "data": {
      "text/plain": [
       "TensorMultiCategory([12, 14], device='cuda:0')"
      ]
     },
     "execution_count": 28,
     "metadata": {},
     "output_type": "execute_result"
    }
   ],
   "source": [
    "# Using torch.where to see the multiple labels\n",
    "idxs = torch.where(y[0]==1.)[0]\n",
    "idxs"
   ]
  },
  {
   "cell_type": "code",
   "execution_count": 29,
   "metadata": {
    "colab": {
     "base_uri": "https://localhost:8080/",
     "height": 55
    },
    "colab_type": "code",
    "executionInfo": {
     "elapsed": 1221,
     "status": "ok",
     "timestamp": 1587544779799,
     "user": {
      "displayName": "Harish Vadlamani",
      "photoUrl": "https://lh3.googleusercontent.com/a-/AOh14GjvtEs9ilUiox4zq4735m_LYCl9UMPSdSRbubWz-A=s64",
      "userId": "12704981055162716897"
     },
     "user_tz": -330
    },
    "id": "v-hOIwW04Zqd",
    "outputId": "a0d9ffb0-d1e2-40b6-de4c-b3a42afcb5c0"
   },
   "outputs": [
    {
     "data": {
      "text/plain": [
       "(#2) ['horse','person']"
      ]
     },
     "execution_count": 29,
     "metadata": {},
     "output_type": "execute_result"
    }
   ],
   "source": [
    "# getting the respective labels from dls.vocab\n",
    "dls.train.vocab[idxs]"
   ]
  },
  {
   "cell_type": "code",
   "execution_count": 32,
   "metadata": {
    "colab": {
     "base_uri": "https://localhost:8080/",
     "height": 104,
     "referenced_widgets": [
      "51d97e397eec4b7ea22f56321e9d5563",
      "bcd834cb386742b7a2be4bdbba4db627",
      "fda1cba4d3944004a465307400c2ae58",
      "70bdd115cd2e4cbdb437fe921a47d336",
      "0e4cbcfaf56b43dfb2fc49c160076531",
      "c27019181f0846ffae35aa10b31af72a",
      "207d93cf2ab349978f4e745294f8f0db",
      "1b0d50ce066d4b158876bfbf14d28927"
     ]
    },
    "colab_type": "code",
    "executionInfo": {
     "elapsed": 1693,
     "status": "ok",
     "timestamp": 1587544783081,
     "user": {
      "displayName": "Harish Vadlamani",
      "photoUrl": "https://lh3.googleusercontent.com/a-/AOh14GjvtEs9ilUiox4zq4735m_LYCl9UMPSdSRbubWz-A=s64",
      "userId": "12704981055162716897"
     },
     "user_tz": -330
    },
    "id": "WAcrnLru5fxF",
    "outputId": "baa559c0-3a4e-4ede-b942-d1da7430bd3b"
   },
   "outputs": [
    {
     "name": "stderr",
     "output_type": "stream",
     "text": [
      "Downloading: \"https://download.pytorch.org/models/resnet18-f37072fd.pth\" to /home/harish/.cache/torch/hub/checkpoints/resnet18-f37072fd.pth\n"
     ]
    },
    {
     "ename": "ImportError",
     "evalue": "IProgress not found. Please update jupyter and ipywidgets. See https://ipywidgets.readthedocs.io/en/stable/user_install.html",
     "output_type": "error",
     "traceback": [
      "\u001b[0;31m---------------------------------------------------------------------------\u001b[0m",
      "\u001b[0;31mImportError\u001b[0m                               Traceback (most recent call last)",
      "\u001b[0;32m<ipython-input-32-f4e47452688e>\u001b[0m in \u001b[0;36m<module>\u001b[0;34m\u001b[0m\n\u001b[1;32m      1\u001b[0m \u001b[0;31m# Creating a learner\u001b[0m\u001b[0;34m\u001b[0m\u001b[0;34m\u001b[0m\u001b[0;34m\u001b[0m\u001b[0m\n\u001b[0;32m----> 2\u001b[0;31m \u001b[0mlearn\u001b[0m \u001b[0;34m=\u001b[0m \u001b[0mcnn_learner\u001b[0m\u001b[0;34m(\u001b[0m\u001b[0mdls\u001b[0m\u001b[0;34m,\u001b[0m \u001b[0mresnet18\u001b[0m\u001b[0;34m)\u001b[0m\u001b[0;34m\u001b[0m\u001b[0;34m\u001b[0m\u001b[0m\n\u001b[0m",
      "\u001b[0;32m~/miniconda3/envs/fastai/lib/python3.7/site-packages/fastai/vision/learner.py\u001b[0m in \u001b[0;36mcnn_learner\u001b[0;34m(dls, arch, normalize, n_out, pretrained, config, loss_func, opt_func, lr, splitter, cbs, metrics, path, model_dir, wd, wd_bn_bias, train_bn, moms, **kwargs)\u001b[0m\n\u001b[1;32m    177\u001b[0m     \u001b[0;32mif\u001b[0m \u001b[0mn_out\u001b[0m \u001b[0;32mis\u001b[0m \u001b[0;32mNone\u001b[0m\u001b[0;34m:\u001b[0m \u001b[0mn_out\u001b[0m \u001b[0;34m=\u001b[0m \u001b[0mget_c\u001b[0m\u001b[0;34m(\u001b[0m\u001b[0mdls\u001b[0m\u001b[0;34m)\u001b[0m\u001b[0;34m\u001b[0m\u001b[0;34m\u001b[0m\u001b[0m\n\u001b[1;32m    178\u001b[0m     \u001b[0;32massert\u001b[0m \u001b[0mn_out\u001b[0m\u001b[0;34m,\u001b[0m \u001b[0;34m\"`n_out` is not defined, and could not be inferred from data, set `dls.c` or pass `n_out`\"\u001b[0m\u001b[0;34m\u001b[0m\u001b[0;34m\u001b[0m\u001b[0m\n\u001b[0;32m--> 179\u001b[0;31m     \u001b[0mmodel\u001b[0m \u001b[0;34m=\u001b[0m \u001b[0mcreate_cnn_model\u001b[0m\u001b[0;34m(\u001b[0m\u001b[0march\u001b[0m\u001b[0;34m,\u001b[0m \u001b[0mn_out\u001b[0m\u001b[0;34m,\u001b[0m \u001b[0mpretrained\u001b[0m\u001b[0;34m=\u001b[0m\u001b[0mpretrained\u001b[0m\u001b[0;34m,\u001b[0m \u001b[0;34m**\u001b[0m\u001b[0mkwargs\u001b[0m\u001b[0;34m)\u001b[0m\u001b[0;34m\u001b[0m\u001b[0;34m\u001b[0m\u001b[0m\n\u001b[0m\u001b[1;32m    180\u001b[0m \u001b[0;34m\u001b[0m\u001b[0m\n\u001b[1;32m    181\u001b[0m     \u001b[0msplitter\u001b[0m\u001b[0;34m=\u001b[0m\u001b[0mifnone\u001b[0m\u001b[0;34m(\u001b[0m\u001b[0msplitter\u001b[0m\u001b[0;34m,\u001b[0m \u001b[0mmeta\u001b[0m\u001b[0;34m[\u001b[0m\u001b[0;34m'split'\u001b[0m\u001b[0;34m]\u001b[0m\u001b[0;34m)\u001b[0m\u001b[0;34m\u001b[0m\u001b[0;34m\u001b[0m\u001b[0m\n",
      "\u001b[0;32m~/miniconda3/envs/fastai/lib/python3.7/site-packages/fastai/vision/learner.py\u001b[0m in \u001b[0;36mcreate_cnn_model\u001b[0;34m(arch, n_out, pretrained, cut, n_in, init, custom_head, concat_pool, **kwargs)\u001b[0m\n\u001b[1;32m    141\u001b[0m     \u001b[0;34m\"Create custom convnet architecture\"\u001b[0m\u001b[0;34m\u001b[0m\u001b[0;34m\u001b[0m\u001b[0m\n\u001b[1;32m    142\u001b[0m     \u001b[0mmeta\u001b[0m \u001b[0;34m=\u001b[0m \u001b[0mmodel_meta\u001b[0m\u001b[0;34m.\u001b[0m\u001b[0mget\u001b[0m\u001b[0;34m(\u001b[0m\u001b[0march\u001b[0m\u001b[0;34m,\u001b[0m \u001b[0m_default_meta\u001b[0m\u001b[0;34m)\u001b[0m\u001b[0;34m\u001b[0m\u001b[0;34m\u001b[0m\u001b[0m\n\u001b[0;32m--> 143\u001b[0;31m     \u001b[0mbody\u001b[0m \u001b[0;34m=\u001b[0m \u001b[0mcreate_body\u001b[0m\u001b[0;34m(\u001b[0m\u001b[0march\u001b[0m\u001b[0;34m,\u001b[0m \u001b[0mn_in\u001b[0m\u001b[0;34m,\u001b[0m \u001b[0mpretrained\u001b[0m\u001b[0;34m,\u001b[0m \u001b[0mifnone\u001b[0m\u001b[0;34m(\u001b[0m\u001b[0mcut\u001b[0m\u001b[0;34m,\u001b[0m \u001b[0mmeta\u001b[0m\u001b[0;34m[\u001b[0m\u001b[0;34m'cut'\u001b[0m\u001b[0;34m]\u001b[0m\u001b[0;34m)\u001b[0m\u001b[0;34m)\u001b[0m\u001b[0;34m\u001b[0m\u001b[0;34m\u001b[0m\u001b[0m\n\u001b[0m\u001b[1;32m    144\u001b[0m     \u001b[0;32mif\u001b[0m \u001b[0mcustom_head\u001b[0m \u001b[0;32mis\u001b[0m \u001b[0;32mNone\u001b[0m\u001b[0;34m:\u001b[0m\u001b[0;34m\u001b[0m\u001b[0;34m\u001b[0m\u001b[0m\n\u001b[1;32m    145\u001b[0m         \u001b[0mnf\u001b[0m \u001b[0;34m=\u001b[0m \u001b[0mnum_features_model\u001b[0m\u001b[0;34m(\u001b[0m\u001b[0mnn\u001b[0m\u001b[0;34m.\u001b[0m\u001b[0mSequential\u001b[0m\u001b[0;34m(\u001b[0m\u001b[0;34m*\u001b[0m\u001b[0mbody\u001b[0m\u001b[0;34m.\u001b[0m\u001b[0mchildren\u001b[0m\u001b[0;34m(\u001b[0m\u001b[0;34m)\u001b[0m\u001b[0;34m)\u001b[0m\u001b[0;34m)\u001b[0m\u001b[0;34m\u001b[0m\u001b[0;34m\u001b[0m\u001b[0m\n",
      "\u001b[0;32m~/miniconda3/envs/fastai/lib/python3.7/site-packages/fastai/vision/learner.py\u001b[0m in \u001b[0;36mcreate_body\u001b[0;34m(arch, n_in, pretrained, cut)\u001b[0m\n\u001b[1;32m     63\u001b[0m \u001b[0;32mdef\u001b[0m \u001b[0mcreate_body\u001b[0m\u001b[0;34m(\u001b[0m\u001b[0march\u001b[0m\u001b[0;34m,\u001b[0m \u001b[0mn_in\u001b[0m\u001b[0;34m=\u001b[0m\u001b[0;36m3\u001b[0m\u001b[0;34m,\u001b[0m \u001b[0mpretrained\u001b[0m\u001b[0;34m=\u001b[0m\u001b[0;32mTrue\u001b[0m\u001b[0;34m,\u001b[0m \u001b[0mcut\u001b[0m\u001b[0;34m=\u001b[0m\u001b[0;32mNone\u001b[0m\u001b[0;34m)\u001b[0m\u001b[0;34m:\u001b[0m\u001b[0;34m\u001b[0m\u001b[0;34m\u001b[0m\u001b[0m\n\u001b[1;32m     64\u001b[0m     \u001b[0;34m\"Cut off the body of a typically pretrained `arch` as determined by `cut`\"\u001b[0m\u001b[0;34m\u001b[0m\u001b[0;34m\u001b[0m\u001b[0m\n\u001b[0;32m---> 65\u001b[0;31m     \u001b[0mmodel\u001b[0m \u001b[0;34m=\u001b[0m \u001b[0march\u001b[0m\u001b[0;34m(\u001b[0m\u001b[0mpretrained\u001b[0m\u001b[0;34m=\u001b[0m\u001b[0mpretrained\u001b[0m\u001b[0;34m)\u001b[0m\u001b[0;34m\u001b[0m\u001b[0;34m\u001b[0m\u001b[0m\n\u001b[0m\u001b[1;32m     66\u001b[0m     \u001b[0m_update_first_layer\u001b[0m\u001b[0;34m(\u001b[0m\u001b[0mmodel\u001b[0m\u001b[0;34m,\u001b[0m \u001b[0mn_in\u001b[0m\u001b[0;34m,\u001b[0m \u001b[0mpretrained\u001b[0m\u001b[0;34m)\u001b[0m\u001b[0;34m\u001b[0m\u001b[0;34m\u001b[0m\u001b[0m\n\u001b[1;32m     67\u001b[0m     \u001b[0;31m#cut = ifnone(cut, cnn_config(arch)['cut'])\u001b[0m\u001b[0;34m\u001b[0m\u001b[0;34m\u001b[0m\u001b[0;34m\u001b[0m\u001b[0m\n",
      "\u001b[0;32m~/miniconda3/envs/fastai/lib/python3.7/site-packages/torchvision/models/resnet.py\u001b[0m in \u001b[0;36mresnet18\u001b[0;34m(pretrained, progress, **kwargs)\u001b[0m\n\u001b[1;32m    275\u001b[0m     \"\"\"\n\u001b[1;32m    276\u001b[0m     return _resnet('resnet18', BasicBlock, [2, 2, 2, 2], pretrained, progress,\n\u001b[0;32m--> 277\u001b[0;31m                    **kwargs)\n\u001b[0m\u001b[1;32m    278\u001b[0m \u001b[0;34m\u001b[0m\u001b[0m\n\u001b[1;32m    279\u001b[0m \u001b[0;34m\u001b[0m\u001b[0m\n",
      "\u001b[0;32m~/miniconda3/envs/fastai/lib/python3.7/site-packages/torchvision/models/resnet.py\u001b[0m in \u001b[0;36m_resnet\u001b[0;34m(arch, block, layers, pretrained, progress, **kwargs)\u001b[0m\n\u001b[1;32m    261\u001b[0m     \u001b[0;32mif\u001b[0m \u001b[0mpretrained\u001b[0m\u001b[0;34m:\u001b[0m\u001b[0;34m\u001b[0m\u001b[0;34m\u001b[0m\u001b[0m\n\u001b[1;32m    262\u001b[0m         state_dict = load_state_dict_from_url(model_urls[arch],\n\u001b[0;32m--> 263\u001b[0;31m                                               progress=progress)\n\u001b[0m\u001b[1;32m    264\u001b[0m         \u001b[0mmodel\u001b[0m\u001b[0;34m.\u001b[0m\u001b[0mload_state_dict\u001b[0m\u001b[0;34m(\u001b[0m\u001b[0mstate_dict\u001b[0m\u001b[0;34m)\u001b[0m\u001b[0;34m\u001b[0m\u001b[0;34m\u001b[0m\u001b[0m\n\u001b[1;32m    265\u001b[0m     \u001b[0;32mreturn\u001b[0m \u001b[0mmodel\u001b[0m\u001b[0;34m\u001b[0m\u001b[0;34m\u001b[0m\u001b[0m\n",
      "\u001b[0;32m~/miniconda3/envs/fastai/lib/python3.7/site-packages/torch/hub.py\u001b[0m in \u001b[0;36mload_state_dict_from_url\u001b[0;34m(url, model_dir, map_location, progress, check_hash, file_name)\u001b[0m\n\u001b[1;32m    584\u001b[0m             \u001b[0mr\u001b[0m \u001b[0;34m=\u001b[0m \u001b[0mHASH_REGEX\u001b[0m\u001b[0;34m.\u001b[0m\u001b[0msearch\u001b[0m\u001b[0;34m(\u001b[0m\u001b[0mfilename\u001b[0m\u001b[0;34m)\u001b[0m  \u001b[0;31m# r is Optional[Match[str]]\u001b[0m\u001b[0;34m\u001b[0m\u001b[0;34m\u001b[0m\u001b[0m\n\u001b[1;32m    585\u001b[0m             \u001b[0mhash_prefix\u001b[0m \u001b[0;34m=\u001b[0m \u001b[0mr\u001b[0m\u001b[0;34m.\u001b[0m\u001b[0mgroup\u001b[0m\u001b[0;34m(\u001b[0m\u001b[0;36m1\u001b[0m\u001b[0;34m)\u001b[0m \u001b[0;32mif\u001b[0m \u001b[0mr\u001b[0m \u001b[0;32melse\u001b[0m \u001b[0;32mNone\u001b[0m\u001b[0;34m\u001b[0m\u001b[0;34m\u001b[0m\u001b[0m\n\u001b[0;32m--> 586\u001b[0;31m         \u001b[0mdownload_url_to_file\u001b[0m\u001b[0;34m(\u001b[0m\u001b[0murl\u001b[0m\u001b[0;34m,\u001b[0m \u001b[0mcached_file\u001b[0m\u001b[0;34m,\u001b[0m \u001b[0mhash_prefix\u001b[0m\u001b[0;34m,\u001b[0m \u001b[0mprogress\u001b[0m\u001b[0;34m=\u001b[0m\u001b[0mprogress\u001b[0m\u001b[0;34m)\u001b[0m\u001b[0;34m\u001b[0m\u001b[0;34m\u001b[0m\u001b[0m\n\u001b[0m\u001b[1;32m    587\u001b[0m \u001b[0;34m\u001b[0m\u001b[0m\n\u001b[1;32m    588\u001b[0m     \u001b[0;32mif\u001b[0m \u001b[0m_is_legacy_zip_format\u001b[0m\u001b[0;34m(\u001b[0m\u001b[0mcached_file\u001b[0m\u001b[0;34m)\u001b[0m\u001b[0;34m:\u001b[0m\u001b[0;34m\u001b[0m\u001b[0;34m\u001b[0m\u001b[0m\n",
      "\u001b[0;32m~/miniconda3/envs/fastai/lib/python3.7/site-packages/torch/hub.py\u001b[0m in \u001b[0;36mdownload_url_to_file\u001b[0;34m(url, dst, hash_prefix, progress)\u001b[0m\n\u001b[1;32m    470\u001b[0m             \u001b[0msha256\u001b[0m \u001b[0;34m=\u001b[0m \u001b[0mhashlib\u001b[0m\u001b[0;34m.\u001b[0m\u001b[0msha256\u001b[0m\u001b[0;34m(\u001b[0m\u001b[0;34m)\u001b[0m\u001b[0;34m\u001b[0m\u001b[0;34m\u001b[0m\u001b[0m\n\u001b[1;32m    471\u001b[0m         with tqdm(total=file_size, disable=not progress,\n\u001b[0;32m--> 472\u001b[0;31m                   unit='B', unit_scale=True, unit_divisor=1024) as pbar:\n\u001b[0m\u001b[1;32m    473\u001b[0m             \u001b[0;32mwhile\u001b[0m \u001b[0;32mTrue\u001b[0m\u001b[0;34m:\u001b[0m\u001b[0;34m\u001b[0m\u001b[0;34m\u001b[0m\u001b[0m\n\u001b[1;32m    474\u001b[0m                 \u001b[0mbuffer\u001b[0m \u001b[0;34m=\u001b[0m \u001b[0mu\u001b[0m\u001b[0;34m.\u001b[0m\u001b[0mread\u001b[0m\u001b[0;34m(\u001b[0m\u001b[0;36m8192\u001b[0m\u001b[0;34m)\u001b[0m\u001b[0;34m\u001b[0m\u001b[0;34m\u001b[0m\u001b[0m\n",
      "\u001b[0;32m~/miniconda3/envs/fastai/lib/python3.7/site-packages/tqdm/notebook.py\u001b[0m in \u001b[0;36m__init__\u001b[0;34m(self, *args, **kwargs)\u001b[0m\n\u001b[1;32m    240\u001b[0m         \u001b[0munit_scale\u001b[0m \u001b[0;34m=\u001b[0m \u001b[0;36m1\u001b[0m \u001b[0;32mif\u001b[0m \u001b[0mself\u001b[0m\u001b[0;34m.\u001b[0m\u001b[0munit_scale\u001b[0m \u001b[0;32mis\u001b[0m \u001b[0;32mTrue\u001b[0m \u001b[0;32melse\u001b[0m \u001b[0mself\u001b[0m\u001b[0;34m.\u001b[0m\u001b[0munit_scale\u001b[0m \u001b[0;32mor\u001b[0m \u001b[0;36m1\u001b[0m\u001b[0;34m\u001b[0m\u001b[0;34m\u001b[0m\u001b[0m\n\u001b[1;32m    241\u001b[0m         \u001b[0mtotal\u001b[0m \u001b[0;34m=\u001b[0m \u001b[0mself\u001b[0m\u001b[0;34m.\u001b[0m\u001b[0mtotal\u001b[0m \u001b[0;34m*\u001b[0m \u001b[0munit_scale\u001b[0m \u001b[0;32mif\u001b[0m \u001b[0mself\u001b[0m\u001b[0;34m.\u001b[0m\u001b[0mtotal\u001b[0m \u001b[0;32melse\u001b[0m \u001b[0mself\u001b[0m\u001b[0;34m.\u001b[0m\u001b[0mtotal\u001b[0m\u001b[0;34m\u001b[0m\u001b[0;34m\u001b[0m\u001b[0m\n\u001b[0;32m--> 242\u001b[0;31m         \u001b[0mself\u001b[0m\u001b[0;34m.\u001b[0m\u001b[0mcontainer\u001b[0m \u001b[0;34m=\u001b[0m \u001b[0mself\u001b[0m\u001b[0;34m.\u001b[0m\u001b[0mstatus_printer\u001b[0m\u001b[0;34m(\u001b[0m\u001b[0mself\u001b[0m\u001b[0;34m.\u001b[0m\u001b[0mfp\u001b[0m\u001b[0;34m,\u001b[0m \u001b[0mtotal\u001b[0m\u001b[0;34m,\u001b[0m \u001b[0mself\u001b[0m\u001b[0;34m.\u001b[0m\u001b[0mdesc\u001b[0m\u001b[0;34m,\u001b[0m \u001b[0mself\u001b[0m\u001b[0;34m.\u001b[0m\u001b[0mncols\u001b[0m\u001b[0;34m)\u001b[0m\u001b[0;34m\u001b[0m\u001b[0;34m\u001b[0m\u001b[0m\n\u001b[0m\u001b[1;32m    243\u001b[0m         \u001b[0mself\u001b[0m\u001b[0;34m.\u001b[0m\u001b[0mcontainer\u001b[0m\u001b[0;34m.\u001b[0m\u001b[0mpbar\u001b[0m \u001b[0;34m=\u001b[0m \u001b[0mproxy\u001b[0m\u001b[0;34m(\u001b[0m\u001b[0mself\u001b[0m\u001b[0;34m)\u001b[0m\u001b[0;34m\u001b[0m\u001b[0;34m\u001b[0m\u001b[0m\n\u001b[1;32m    244\u001b[0m         \u001b[0mself\u001b[0m\u001b[0;34m.\u001b[0m\u001b[0mdisplayed\u001b[0m \u001b[0;34m=\u001b[0m \u001b[0;32mFalse\u001b[0m\u001b[0;34m\u001b[0m\u001b[0;34m\u001b[0m\u001b[0m\n",
      "\u001b[0;32m~/miniconda3/envs/fastai/lib/python3.7/site-packages/tqdm/notebook.py\u001b[0m in \u001b[0;36mstatus_printer\u001b[0;34m(_, total, desc, ncols)\u001b[0m\n\u001b[1;32m    114\u001b[0m         \u001b[0;32mif\u001b[0m \u001b[0mIProgress\u001b[0m \u001b[0;32mis\u001b[0m \u001b[0;32mNone\u001b[0m\u001b[0;34m:\u001b[0m  \u001b[0;31m# #187 #451 #558 #872\u001b[0m\u001b[0;34m\u001b[0m\u001b[0;34m\u001b[0m\u001b[0m\n\u001b[1;32m    115\u001b[0m             raise ImportError(\n\u001b[0;32m--> 116\u001b[0;31m                 \u001b[0;34m\"IProgress not found. Please update jupyter and ipywidgets.\"\u001b[0m\u001b[0;34m\u001b[0m\u001b[0;34m\u001b[0m\u001b[0m\n\u001b[0m\u001b[1;32m    117\u001b[0m                 \u001b[0;34m\" See https://ipywidgets.readthedocs.io/en/stable\"\u001b[0m\u001b[0;34m\u001b[0m\u001b[0;34m\u001b[0m\u001b[0m\n\u001b[1;32m    118\u001b[0m                 \"/user_install.html\")\n",
      "\u001b[0;31mImportError\u001b[0m: IProgress not found. Please update jupyter and ipywidgets. See https://ipywidgets.readthedocs.io/en/stable/user_install.html"
     ]
    }
   ],
   "source": [
    "# Creating a learner\n",
    "learn = cnn_learner(dls, resnet18)"
   ]
  },
  {
   "cell_type": "code",
   "execution_count": 12,
   "metadata": {
    "colab": {
     "base_uri": "https://localhost:8080/",
     "height": 55
    },
    "colab_type": "code",
    "executionInfo": {
     "elapsed": 1257,
     "status": "ok",
     "timestamp": 1587544787594,
     "user": {
      "displayName": "Harish Vadlamani",
      "photoUrl": "https://lh3.googleusercontent.com/a-/AOh14GjvtEs9ilUiox4zq4735m_LYCl9UMPSdSRbubWz-A=s64",
      "userId": "12704981055162716897"
     },
     "user_tz": -330
    },
    "id": "6BqIPGk24irX",
    "outputId": "3066b8f1-d6f9-4807-aac5-8a5dbb05a89e"
   },
   "outputs": [
    {
     "data": {
      "text/plain": [
       "torch.Size([64, 20])"
      ]
     },
     "execution_count": 12,
     "metadata": {
      "tags": []
     },
     "output_type": "execute_result"
    }
   ],
   "source": [
    "# Forward pass\n",
    "activs = learn.model(x)\n",
    "activs.shape"
   ]
  },
  {
   "cell_type": "code",
   "execution_count": 13,
   "metadata": {
    "colab": {
     "base_uri": "https://localhost:8080/",
     "height": 55
    },
    "colab_type": "code",
    "executionInfo": {
     "elapsed": 1275,
     "status": "ok",
     "timestamp": 1587544796446,
     "user": {
      "displayName": "Harish Vadlamani",
      "photoUrl": "https://lh3.googleusercontent.com/a-/AOh14GjvtEs9ilUiox4zq4735m_LYCl9UMPSdSRbubWz-A=s64",
      "userId": "12704981055162716897"
     },
     "user_tz": -330
    },
    "id": "4wKnDD8d4_xz",
    "outputId": "56d8efd2-7201-4457-88da-a9e24be2da6d"
   },
   "outputs": [
    {
     "data": {
      "text/plain": [
       "(torch.Size([20]), torch.Size([20]))"
      ]
     },
     "execution_count": 13,
     "metadata": {
      "tags": []
     },
     "output_type": "execute_result"
    }
   ],
   "source": [
    "activs[0].shape, y[0].shape"
   ]
  },
  {
   "cell_type": "code",
   "execution_count": null,
   "metadata": {
    "colab": {},
    "colab_type": "code",
    "id": "9KkbHkn85A1S"
   },
   "outputs": [],
   "source": [
    "# Defining the loss\n",
    "def binary_cross_entropy(inputs, targets):\n",
    "    inputs = inputs.sigmoid()\n",
    "    return torch.where(targets==1, inputs, 1-inputs).log().mean()"
   ]
  },
  {
   "cell_type": "code",
   "execution_count": 15,
   "metadata": {
    "colab": {
     "base_uri": "https://localhost:8080/",
     "height": 55
    },
    "colab_type": "code",
    "executionInfo": {
     "elapsed": 1186,
     "status": "ok",
     "timestamp": 1587544801632,
     "user": {
      "displayName": "Harish Vadlamani",
      "photoUrl": "https://lh3.googleusercontent.com/a-/AOh14GjvtEs9ilUiox4zq4735m_LYCl9UMPSdSRbubWz-A=s64",
      "userId": "12704981055162716897"
     },
     "user_tz": -330
    },
    "id": "6LEWSGVU6Im4",
    "outputId": "def77127-08f4-4089-dc62-d9c74523ed64"
   },
   "outputs": [
    {
     "data": {
      "text/plain": [
       "tensor(-1.6980, device='cuda:0', grad_fn=<MeanBackward0>)"
      ]
     },
     "execution_count": 15,
     "metadata": {
      "tags": []
     },
     "output_type": "execute_result"
    }
   ],
   "source": [
    "binary_cross_entropy(activs[0], y[0])"
   ]
  },
  {
   "cell_type": "code",
   "execution_count": 16,
   "metadata": {
    "colab": {
     "base_uri": "https://localhost:8080/",
     "height": 55
    },
    "colab_type": "code",
    "executionInfo": {
     "elapsed": 727,
     "status": "ok",
     "timestamp": 1587544803452,
     "user": {
      "displayName": "Harish Vadlamani",
      "photoUrl": "https://lh3.googleusercontent.com/a-/AOh14GjvtEs9ilUiox4zq4735m_LYCl9UMPSdSRbubWz-A=s64",
      "userId": "12704981055162716897"
     },
     "user_tz": -330
    },
    "id": "P8-jSzVn5RGK",
    "outputId": "7120bd09-3883-47d0-c40c-785700d0daca"
   },
   "outputs": [
    {
     "data": {
      "text/plain": [
       "tensor(1.6980, device='cuda:0', grad_fn=<BinaryCrossEntropyWithLogitsBackward>)"
      ]
     },
     "execution_count": 16,
     "metadata": {
      "tags": []
     },
     "output_type": "execute_result"
    }
   ],
   "source": [
    "# Pytorch equivalent\n",
    "loss_func = nn.BCEWithLogitsLoss()\n",
    "loss = loss_func(activs[0], y[0])\n",
    "loss"
   ]
  },
  {
   "cell_type": "code",
   "execution_count": 17,
   "metadata": {
    "colab": {
     "base_uri": "https://localhost:8080/",
     "height": 55
    },
    "colab_type": "code",
    "executionInfo": {
     "elapsed": 1280,
     "status": "ok",
     "timestamp": 1587544807232,
     "user": {
      "displayName": "Harish Vadlamani",
      "photoUrl": "https://lh3.googleusercontent.com/a-/AOh14GjvtEs9ilUiox4zq4735m_LYCl9UMPSdSRbubWz-A=s64",
      "userId": "12704981055162716897"
     },
     "user_tz": -330
    },
    "id": "OvPE3b1_Qhra",
    "outputId": "32dca0e2-4ff2-4a57-f610-48c6c471a3c7"
   },
   "outputs": [
    {
     "data": {
      "text/plain": [
       "tensor(1.6980, device='cuda:0', grad_fn=<BinaryCrossEntropyBackward>)"
      ]
     },
     "execution_count": 17,
     "metadata": {
      "tags": []
     },
     "output_type": "execute_result"
    }
   ],
   "source": [
    "loss_func = nn.BCELoss()\n",
    "loss = loss_func(torch.sigmoid(activs[0]), y[0])\n",
    "loss"
   ]
  },
  {
   "cell_type": "code",
   "execution_count": null,
   "metadata": {
    "colab": {},
    "colab_type": "code",
    "id": "wlakc0MjYl-X"
   },
   "outputs": [],
   "source": [
    "def accuracy_multi(inp, targ, thresh=0.5, sigmoid=True):\n",
    "    \"Compute accuracy when `inp` and `targ` are the same size.\"\n",
    "    if sigmoid: inp = inp.sigmoid()\n",
    "    return ((inp>thresh)==targ.bool()).float().mean()"
   ]
  },
  {
   "cell_type": "code",
   "execution_count": 18,
   "metadata": {
    "colab": {
     "base_uri": "https://localhost:8080/",
     "height": 55
    },
    "colab_type": "code",
    "executionInfo": {
     "elapsed": 1299,
     "status": "ok",
     "timestamp": 1587545563185,
     "user": {
      "displayName": "Harish Vadlamani",
      "photoUrl": "https://lh3.googleusercontent.com/a-/AOh14GjvtEs9ilUiox4zq4735m_LYCl9UMPSdSRbubWz-A=s64",
      "userId": "12704981055162716897"
     },
     "user_tz": -330
    },
    "id": "pqXjtqGMYnJ6",
    "outputId": "446e2a34-a159-476b-cf8b-8ff684befe92"
   },
   "outputs": [
    {
     "data": {
      "text/plain": [
       "tensor(0.3500, device='cuda:0')"
      ]
     },
     "execution_count": 18,
     "metadata": {
      "tags": []
     },
     "output_type": "execute_result"
    }
   ],
   "source": [
    "accuracy_multi(activs[0], y[0])"
   ]
  },
  {
   "cell_type": "markdown",
   "metadata": {
    "colab_type": "text",
    "id": "B8QqOhTH6coW"
   },
   "source": [
    "---\n",
    "# Simulating a binary cross entropy\n",
    "---"
   ]
  },
  {
   "cell_type": "code",
   "execution_count": 19,
   "metadata": {
    "colab": {
     "base_uri": "https://localhost:8080/",
     "height": 143
    },
    "colab_type": "code",
    "executionInfo": {
     "elapsed": 1241,
     "status": "ok",
     "timestamp": 1587545596851,
     "user": {
      "displayName": "Harish Vadlamani",
      "photoUrl": "https://lh3.googleusercontent.com/a-/AOh14GjvtEs9ilUiox4zq4735m_LYCl9UMPSdSRbubWz-A=s64",
      "userId": "12704981055162716897"
     },
     "user_tz": -330
    },
    "id": "Ohebg5oxWrLs",
    "outputId": "7d57bce3-0da6-40e4-9b17-95153213fec6"
   },
   "outputs": [
    {
     "data": {
      "text/plain": [
       "tensor([[-0.0167,  0.7360,  0.0559],\n",
       "        [-0.6028, -2.6059, -0.4274],\n",
       "        [ 2.2700,  1.5193, -1.7909],\n",
       "        [-2.1975,  4.0680, -2.1194],\n",
       "        [ 1.2259, -0.6581,  0.7091],\n",
       "        [ 1.8555,  0.9128, -2.0179]])"
      ]
     },
     "execution_count": 19,
     "metadata": {
      "tags": []
     },
     "output_type": "execute_result"
    }
   ],
   "source": [
    "# Creating random activations for simulation of cross-entropy loss fro 6 images\n",
    "acts = torch.randn((6,3))*2\n",
    "acts"
   ]
  },
  {
   "cell_type": "code",
   "execution_count": null,
   "metadata": {
    "colab": {},
    "colab_type": "code",
    "id": "pjrrbNC8Wy90"
   },
   "outputs": [],
   "source": [
    "# Defining random labels for the 6 images\n",
    "targ = tensor([0,0,1],\n",
    "              [1,0,1],\n",
    "              [0,1,1],\n",
    "              [1,1,1],\n",
    "              [1,1,0],\n",
    "              [0,0,0],)"
   ]
  },
  {
   "cell_type": "code",
   "execution_count": 21,
   "metadata": {
    "colab": {
     "base_uri": "https://localhost:8080/",
     "height": 143
    },
    "colab_type": "code",
    "executionInfo": {
     "elapsed": 1278,
     "status": "ok",
     "timestamp": 1587545603297,
     "user": {
      "displayName": "Harish Vadlamani",
      "photoUrl": "https://lh3.googleusercontent.com/a-/AOh14GjvtEs9ilUiox4zq4735m_LYCl9UMPSdSRbubWz-A=s64",
      "userId": "12704981055162716897"
     },
     "user_tz": -330
    },
    "id": "FT5BWUMzXNH0",
    "outputId": "1d3d09f2-77cb-4158-e0ce-95ab59792be6"
   },
   "outputs": [
    {
     "data": {
      "text/plain": [
       "tensor([[0.4958, 0.6761, 0.5140],\n",
       "        [0.3537, 0.0688, 0.3947],\n",
       "        [0.9064, 0.8204, 0.1430],\n",
       "        [0.1000, 0.9832, 0.1072],\n",
       "        [0.7731, 0.3412, 0.6702],\n",
       "        [0.8648, 0.7136, 0.1173]])"
      ]
     },
     "execution_count": 21,
     "metadata": {
      "tags": []
     },
     "output_type": "execute_result"
    }
   ],
   "source": [
    "# Step 1: Calculate the sigmoid of the activations/logits\n",
    "sm_acts = torch.sigmoid(acts)\n",
    "sm_acts"
   ]
  },
  {
   "cell_type": "code",
   "execution_count": null,
   "metadata": {
    "colab": {
     "base_uri": "https://localhost:8080/",
     "height": 123
    },
    "colab_type": "code",
    "executionInfo": {
     "elapsed": 7535,
     "status": "ok",
     "timestamp": 1587047250521,
     "user": {
      "displayName": "Harish Vadlamani",
      "photoUrl": "https://lh3.googleusercontent.com/a-/AOh14GjvtEs9ilUiox4zq4735m_LYCl9UMPSdSRbubWz-A=s64",
      "userId": "12704981055162716897"
     },
     "user_tz": -330
    },
    "id": "Rzy64t9iXtiX",
    "outputId": "dd308605-2514-4f7e-ccd5-82af6aa9317f"
   },
   "outputs": [
    {
     "data": {
      "text/plain": [
       "tensor([[-0.4642, -2.6249, -0.4227],\n",
       "        [-0.8705, -0.2727, -0.0619],\n",
       "        [-0.1276, -0.1197, -4.6744],\n",
       "        [-0.2842, -1.5288, -2.7371],\n",
       "        [-0.8247, -0.2131, -0.0996],\n",
       "        [-2.4289, -0.7816, -0.8502]])"
      ]
     },
     "execution_count": 32,
     "metadata": {
      "tags": []
     },
     "output_type": "execute_result"
    }
   ],
   "source": [
    "inputs = sm_acts\n",
    "torch.where(targ==1, inputs, inputs).log()"
   ]
  },
  {
   "cell_type": "code",
   "execution_count": null,
   "metadata": {
    "colab": {
     "base_uri": "https://localhost:8080/",
     "height": 123
    },
    "colab_type": "code",
    "executionInfo": {
     "elapsed": 7521,
     "status": "ok",
     "timestamp": 1587047250521,
     "user": {
      "displayName": "Harish Vadlamani",
      "photoUrl": "https://lh3.googleusercontent.com/a-/AOh14GjvtEs9ilUiox4zq4735m_LYCl9UMPSdSRbubWz-A=s64",
      "userId": "12704981055162716897"
     },
     "user_tz": -330
    },
    "id": "N_bDAYgsX9Dp",
    "outputId": "7974be73-a799-40a6-d564-f21abb18c20d"
   },
   "outputs": [
    {
     "data": {
      "text/plain": [
       "tensor([[0, 0, 1],\n",
       "        [1, 0, 1],\n",
       "        [0, 1, 1],\n",
       "        [1, 1, 1],\n",
       "        [1, 1, 0],\n",
       "        [0, 0, 0]])"
      ]
     },
     "execution_count": 33,
     "metadata": {
      "tags": []
     },
     "output_type": "execute_result"
    }
   ],
   "source": [
    "targ"
   ]
  },
  {
   "cell_type": "code",
   "execution_count": null,
   "metadata": {
    "colab": {
     "base_uri": "https://localhost:8080/",
     "height": 35
    },
    "colab_type": "code",
    "executionInfo": {
     "elapsed": 7509,
     "status": "ok",
     "timestamp": 1587047250522,
     "user": {
      "displayName": "Harish Vadlamani",
      "photoUrl": "https://lh3.googleusercontent.com/a-/AOh14GjvtEs9ilUiox4zq4735m_LYCl9UMPSdSRbubWz-A=s64",
      "userId": "12704981055162716897"
     },
     "user_tz": -330
    },
    "id": "w2UxZb-QYURY",
    "outputId": "f77f6ebd-d063-412e-b573-eea3360edce2"
   },
   "outputs": [
    {
     "data": {
      "text/plain": [
       "tensor(0.5000)"
      ]
     },
     "execution_count": 34,
     "metadata": {
      "tags": []
     },
     "output_type": "execute_result"
    }
   ],
   "source": [
    "# checking the accuracy of the forward pass\n",
    "accuracy_multi(acts, targ)"
   ]
  },
  {
   "cell_type": "code",
   "execution_count": null,
   "metadata": {
    "colab": {},
    "colab_type": "code",
    "id": "BkI6pVUAYcOq"
   },
   "outputs": [],
   "source": []
  }
 ],
 "metadata": {
  "accelerator": "GPU",
  "colab": {
   "authorship_tag": "ABX9TyM3kCP3ucL5gmX+cu2zgtft",
   "collapsed_sections": [],
   "name": "cross_entropy_loss.ipynb",
   "provenance": []
  },
  "kernelspec": {
   "display_name": "fastai",
   "language": "python",
   "name": "fastai"
  },
  "language_info": {
   "codemirror_mode": {
    "name": "ipython",
    "version": 3
   },
   "file_extension": ".py",
   "mimetype": "text/x-python",
   "name": "python",
   "nbconvert_exporter": "python",
   "pygments_lexer": "ipython3",
   "version": "3.7.12"
  },
  "widgets": {
   "application/vnd.jupyter.widget-state+json": {
    "0e4cbcfaf56b43dfb2fc49c160076531": {
     "model_module": "@jupyter-widgets/controls",
     "model_name": "ProgressStyleModel",
     "state": {
      "_model_module": "@jupyter-widgets/controls",
      "_model_module_version": "1.5.0",
      "_model_name": "ProgressStyleModel",
      "_view_count": null,
      "_view_module": "@jupyter-widgets/base",
      "_view_module_version": "1.2.0",
      "_view_name": "StyleView",
      "bar_color": null,
      "description_width": "initial"
     }
    },
    "1b0d50ce066d4b158876bfbf14d28927": {
     "model_module": "@jupyter-widgets/base",
     "model_name": "LayoutModel",
     "state": {
      "_model_module": "@jupyter-widgets/base",
      "_model_module_version": "1.2.0",
      "_model_name": "LayoutModel",
      "_view_count": null,
      "_view_module": "@jupyter-widgets/base",
      "_view_module_version": "1.2.0",
      "_view_name": "LayoutView",
      "align_content": null,
      "align_items": null,
      "align_self": null,
      "border": null,
      "bottom": null,
      "display": null,
      "flex": null,
      "flex_flow": null,
      "grid_area": null,
      "grid_auto_columns": null,
      "grid_auto_flow": null,
      "grid_auto_rows": null,
      "grid_column": null,
      "grid_gap": null,
      "grid_row": null,
      "grid_template_areas": null,
      "grid_template_columns": null,
      "grid_template_rows": null,
      "height": null,
      "justify_content": null,
      "justify_items": null,
      "left": null,
      "margin": null,
      "max_height": null,
      "max_width": null,
      "min_height": null,
      "min_width": null,
      "object_fit": null,
      "object_position": null,
      "order": null,
      "overflow": null,
      "overflow_x": null,
      "overflow_y": null,
      "padding": null,
      "right": null,
      "top": null,
      "visibility": null,
      "width": null
     }
    },
    "207d93cf2ab349978f4e745294f8f0db": {
     "model_module": "@jupyter-widgets/controls",
     "model_name": "DescriptionStyleModel",
     "state": {
      "_model_module": "@jupyter-widgets/controls",
      "_model_module_version": "1.5.0",
      "_model_name": "DescriptionStyleModel",
      "_view_count": null,
      "_view_module": "@jupyter-widgets/base",
      "_view_module_version": "1.2.0",
      "_view_name": "StyleView",
      "description_width": ""
     }
    },
    "51d97e397eec4b7ea22f56321e9d5563": {
     "model_module": "@jupyter-widgets/controls",
     "model_name": "HBoxModel",
     "state": {
      "_dom_classes": [],
      "_model_module": "@jupyter-widgets/controls",
      "_model_module_version": "1.5.0",
      "_model_name": "HBoxModel",
      "_view_count": null,
      "_view_module": "@jupyter-widgets/controls",
      "_view_module_version": "1.5.0",
      "_view_name": "HBoxView",
      "box_style": "",
      "children": [
       "IPY_MODEL_fda1cba4d3944004a465307400c2ae58",
       "IPY_MODEL_70bdd115cd2e4cbdb437fe921a47d336"
      ],
      "layout": "IPY_MODEL_bcd834cb386742b7a2be4bdbba4db627"
     }
    },
    "70bdd115cd2e4cbdb437fe921a47d336": {
     "model_module": "@jupyter-widgets/controls",
     "model_name": "HTMLModel",
     "state": {
      "_dom_classes": [],
      "_model_module": "@jupyter-widgets/controls",
      "_model_module_version": "1.5.0",
      "_model_name": "HTMLModel",
      "_view_count": null,
      "_view_module": "@jupyter-widgets/controls",
      "_view_module_version": "1.5.0",
      "_view_name": "HTMLView",
      "description": "",
      "description_tooltip": null,
      "layout": "IPY_MODEL_1b0d50ce066d4b158876bfbf14d28927",
      "placeholder": "​",
      "style": "IPY_MODEL_207d93cf2ab349978f4e745294f8f0db",
      "value": " 44.7M/44.7M [00:00&lt;00:00, 126MB/s]"
     }
    },
    "bcd834cb386742b7a2be4bdbba4db627": {
     "model_module": "@jupyter-widgets/base",
     "model_name": "LayoutModel",
     "state": {
      "_model_module": "@jupyter-widgets/base",
      "_model_module_version": "1.2.0",
      "_model_name": "LayoutModel",
      "_view_count": null,
      "_view_module": "@jupyter-widgets/base",
      "_view_module_version": "1.2.0",
      "_view_name": "LayoutView",
      "align_content": null,
      "align_items": null,
      "align_self": null,
      "border": null,
      "bottom": null,
      "display": null,
      "flex": null,
      "flex_flow": null,
      "grid_area": null,
      "grid_auto_columns": null,
      "grid_auto_flow": null,
      "grid_auto_rows": null,
      "grid_column": null,
      "grid_gap": null,
      "grid_row": null,
      "grid_template_areas": null,
      "grid_template_columns": null,
      "grid_template_rows": null,
      "height": null,
      "justify_content": null,
      "justify_items": null,
      "left": null,
      "margin": null,
      "max_height": null,
      "max_width": null,
      "min_height": null,
      "min_width": null,
      "object_fit": null,
      "object_position": null,
      "order": null,
      "overflow": null,
      "overflow_x": null,
      "overflow_y": null,
      "padding": null,
      "right": null,
      "top": null,
      "visibility": null,
      "width": null
     }
    },
    "c27019181f0846ffae35aa10b31af72a": {
     "model_module": "@jupyter-widgets/base",
     "model_name": "LayoutModel",
     "state": {
      "_model_module": "@jupyter-widgets/base",
      "_model_module_version": "1.2.0",
      "_model_name": "LayoutModel",
      "_view_count": null,
      "_view_module": "@jupyter-widgets/base",
      "_view_module_version": "1.2.0",
      "_view_name": "LayoutView",
      "align_content": null,
      "align_items": null,
      "align_self": null,
      "border": null,
      "bottom": null,
      "display": null,
      "flex": null,
      "flex_flow": null,
      "grid_area": null,
      "grid_auto_columns": null,
      "grid_auto_flow": null,
      "grid_auto_rows": null,
      "grid_column": null,
      "grid_gap": null,
      "grid_row": null,
      "grid_template_areas": null,
      "grid_template_columns": null,
      "grid_template_rows": null,
      "height": null,
      "justify_content": null,
      "justify_items": null,
      "left": null,
      "margin": null,
      "max_height": null,
      "max_width": null,
      "min_height": null,
      "min_width": null,
      "object_fit": null,
      "object_position": null,
      "order": null,
      "overflow": null,
      "overflow_x": null,
      "overflow_y": null,
      "padding": null,
      "right": null,
      "top": null,
      "visibility": null,
      "width": null
     }
    },
    "fda1cba4d3944004a465307400c2ae58": {
     "model_module": "@jupyter-widgets/controls",
     "model_name": "IntProgressModel",
     "state": {
      "_dom_classes": [],
      "_model_module": "@jupyter-widgets/controls",
      "_model_module_version": "1.5.0",
      "_model_name": "IntProgressModel",
      "_view_count": null,
      "_view_module": "@jupyter-widgets/controls",
      "_view_module_version": "1.5.0",
      "_view_name": "ProgressView",
      "bar_style": "success",
      "description": "100%",
      "description_tooltip": null,
      "layout": "IPY_MODEL_c27019181f0846ffae35aa10b31af72a",
      "max": 46827520,
      "min": 0,
      "orientation": "horizontal",
      "style": "IPY_MODEL_0e4cbcfaf56b43dfb2fc49c160076531",
      "value": 46827520
     }
    }
   }
  }
 },
 "nbformat": 4,
 "nbformat_minor": 4
}
