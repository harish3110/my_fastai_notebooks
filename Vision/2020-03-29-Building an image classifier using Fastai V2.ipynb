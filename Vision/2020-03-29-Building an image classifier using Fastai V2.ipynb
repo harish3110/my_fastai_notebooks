{
 "cells": [
  {
   "cell_type": "markdown",
   "metadata": {},
   "source": [
    "# Building an image classifier using Fastai V2\n",
    "> Harnessing the power of fastai to build state-of-the-art deep learning models.\n",
    "\n",
    "- toc: true\n",
    "- branch: master\n",
    "- badges: true\n",
    "- comments: true\n",
    "- author: Harish Vadlamani\n",
    "- categories: [fastai, image classification]\n"
   ]
  },
  {
   "cell_type": "markdown",
   "metadata": {},
   "source": [
    "---\n",
    "\n",
    "I would like to start these series of posts with an introduction to the [fastai v2](http://dev.fast.ai) library in the application of vision, which is arguably the most common application in the field, and definitely, the most worked on. \n",
    "\n",
    "---"
   ]
  },
  {
   "cell_type": "markdown",
   "metadata": {},
   "source": [
    "\n",
    "### Importing the library and necessary modules"
   ]
  },
  {
   "cell_type": "code",
   "execution_count": 1,
   "metadata": {},
   "outputs": [],
   "source": [
    "from data.utils import *\n",
    "from fastai2.vision.all import *\n",
    "%matplotlib inline"
   ]
  },
  {
   "cell_type": "markdown",
   "metadata": {},
   "source": [
    "***Note:*** The first line imports some helper functions from utils.py as used in the [fastbook](https://github.com/fastai/fastbook) repo which provides great visualization options. "
   ]
  },
  {
   "cell_type": "markdown",
   "metadata": {},
   "source": [
    "---\n",
    "### About the dataset\n",
    "Let's start with the Flowers [dataset](https://www.robots.ox.ac.uk/~vgg/data/flowers/), which is a common dataset for image classification tasks. The dataset is a collection of images of 102 different types of flowers, which is nicely curated. The images are of fairly reasonable size shot in different angles and lighting conditions.\n",
    "\n",
    "Here's a [list](https://www.robots.ox.ac.uk/~vgg/data/flowers/102/categories.html) of the 102 different categories of flowers in this dataset for your reference."
   ]
  },
  {
   "cell_type": "markdown",
   "metadata": {},
   "source": [
    "---\n",
    "### Getting and exploring the dataset\n",
    "\n",
    "Now that we have our arsenal set up and have an understanding of the data we are working. Let's download it and explore it.\n",
    "\n",
    "About 90% of the work done by data scientist revolves around clearly gathering data. For simplicity, let's begin with commonly available datasets.\n",
    "\n",
    "Fastai library makes it extremely easy to get common well-know [datasets](http://dev.fast.ai/data.external.html)  and is stored in Amazon S3 buckets for fast retrieval and use. They're all stored in the `URLs` global constant."
   ]
  },
  {
   "cell_type": "code",
   "execution_count": 2,
   "metadata": {},
   "outputs": [
    {
     "data": {
      "text/plain": [
       "'https://s3.amazonaws.com/fast-ai-imageclas/oxford-102-flowers.tgz'"
      ]
     },
     "execution_count": 2,
     "metadata": {},
     "output_type": "execute_result"
    }
   ],
   "source": [
    "flowers_link = URLs.FLOWERS\n",
    "flowers_link"
   ]
  },
  {
   "cell_type": "code",
   "execution_count": 3,
   "metadata": {},
   "outputs": [
    {
     "data": {
      "text/plain": [
       "(#4) [Path('/home/jupyter/.fastai/data/oxford-102-flowers/valid.txt'),Path('/home/jupyter/.fastai/data/oxford-102-flowers/test.txt'),Path('/home/jupyter/.fastai/data/oxford-102-flowers/jpg'),Path('/home/jupyter/.fastai/data/oxford-102-flowers/train.txt')]"
      ]
     },
     "execution_count": 3,
     "metadata": {},
     "output_type": "execute_result"
    }
   ],
   "source": [
    "path = untar_data(flowers_link)\n",
    "path.ls()"
   ]
  },
  {
   "cell_type": "markdown",
   "metadata": {},
   "source": [
    "The above response may appear like a datastructure similar to a list in Python, but it's a built-in fastai data structure called 'L.' You can think of it as a data structure, which is an amalgamation of lists and dicts in Python.\n",
    "\n",
    "The above output begins with a tuple '#4', which indicates that the path has 4 sub-directories in it and then displays those directories as an array."
   ]
  },
  {
   "cell_type": "markdown",
   "metadata": {},
   "source": [
    "To see the directories better, let's just see the base path of the sub directories instead of the entire path."
   ]
  },
  {
   "cell_type": "code",
   "execution_count": 4,
   "metadata": {},
   "outputs": [
    {
     "data": {
      "text/plain": [
       "(#4) [Path('valid.txt'),Path('test.txt'),Path('jpg'),Path('train.txt')]"
      ]
     },
     "execution_count": 4,
     "metadata": {},
     "output_type": "execute_result"
    }
   ],
   "source": [
    "Path.BASE_PATH = path\n",
    "path.ls()"
   ]
  },
  {
   "cell_type": "code",
   "execution_count": 5,
   "metadata": {},
   "outputs": [
    {
     "name": "stdout",
     "output_type": "stream",
     "text": [
      "/home/jupyter/.fastai/data/oxford-102-flowers\r\n",
      "└── jpg\r\n",
      "\r\n",
      "1 directory\r\n"
     ]
    }
   ],
   "source": [
    "# !pip install tree\n",
    "!tree -d {path}"
   ]
  },
  {
   "cell_type": "markdown",
   "metadata": {},
   "source": [
    "Now we can clearly see that the directory has one folder and three .txt files:\n",
    "\n",
    "- jpg: A folder containing all the images of the dataset\n",
    "- txt files: 3 text files indicating train, test, and validation. "
   ]
  },
  {
   "cell_type": "markdown",
   "metadata": {},
   "source": [
    "Let's look into the 'jpg' folder:\n",
    "\n",
    "Fastai provides an in-built function, `get_image_files` to get all image files in a folder as an 'L'."
   ]
  },
  {
   "cell_type": "code",
   "execution_count": 6,
   "metadata": {},
   "outputs": [
    {
     "data": {
      "text/plain": [
       "(#8189) [Path('jpg/image_03449.jpg'),Path('jpg/image_05274.jpg'),Path('jpg/image_03731.jpg'),Path('jpg/image_07311.jpg'),Path('jpg/image_05189.jpg'),Path('jpg/image_06695.jpg'),Path('jpg/image_06706.jpg'),Path('jpg/image_04746.jpg'),Path('jpg/image_04017.jpg'),Path('jpg/image_06632.jpg')...]"
      ]
     },
     "execution_count": 6,
     "metadata": {},
     "output_type": "execute_result"
    }
   ],
   "source": [
    "files = get_image_files(path/'jpg')\n",
    "files"
   ]
  },
  {
   "cell_type": "markdown",
   "metadata": {},
   "source": [
    "We can see that there are 8189 images in the dataset available to us. Let's look at one of the images."
   ]
  },
  {
   "cell_type": "code",
   "execution_count": 7,
   "metadata": {},
   "outputs": [
    {
     "data": {
      "text/plain": [
       "<matplotlib.axes._subplots.AxesSubplot at 0x7f43495984d0>"
      ]
     },
     "execution_count": 7,
     "metadata": {},
     "output_type": "execute_result"
    },
    {
     "data": {
      "image/png": "[encoded data removed]",
      "text/plain": [
       "<Figure size 360x360 with 1 Axes>"
      ]
     },
     "metadata": {
      "needs_background": "light"
     },
     "output_type": "display_data"
    }
   ],
   "source": [
    "img = PILImage.create(files[0])\n",
    "img.show()"
   ]
  },
  {
   "cell_type": "markdown",
   "metadata": {},
   "source": [
    "Now let's look at the .txt files using pandas. Pandas is the go-to method for dealing with a tabular structure in python and is an essential skill for all data scientists using python. \n",
    "\n",
    "Pandas can read many formats of data such as CSV, Excel, as well as text files very quickly by creating a pandas dataframe for manipulating it accordingly. "
   ]
  },
  {
   "cell_type": "code",
   "execution_count": 8,
   "metadata": {},
   "outputs": [
    {
     "data": {
      "text/html": [
       "<div>\n",
       "<style scoped>\n",
       "    .dataframe tbody tr th:only-of-type {\n",
       "        vertical-align: middle;\n",
       "    }\n",
       "\n",
       "    .dataframe tbody tr th {\n",
       "        vertical-align: top;\n",
       "    }\n",
       "\n",
       "    .dataframe thead th {\n",
       "        text-align: right;\n",
       "    }\n",
       "</style>\n",
       "<table border=\"1\" class=\"dataframe\">\n",
       "  <thead>\n",
       "    <tr style=\"text-align: right;\">\n",
       "      <th></th>\n",
       "      <th>0</th>\n",
       "      <th>1</th>\n",
       "    </tr>\n",
       "  </thead>\n",
       "  <tbody>\n",
       "    <tr>\n",
       "      <th>0</th>\n",
       "      <td>jpg/image_03860.jpg</td>\n",
       "      <td>16</td>\n",
       "    </tr>\n",
       "    <tr>\n",
       "      <th>1</th>\n",
       "      <td>jpg/image_06092.jpg</td>\n",
       "      <td>13</td>\n",
       "    </tr>\n",
       "    <tr>\n",
       "      <th>2</th>\n",
       "      <td>jpg/image_02400.jpg</td>\n",
       "      <td>42</td>\n",
       "    </tr>\n",
       "    <tr>\n",
       "      <th>3</th>\n",
       "      <td>jpg/image_02852.jpg</td>\n",
       "      <td>55</td>\n",
       "    </tr>\n",
       "    <tr>\n",
       "      <th>4</th>\n",
       "      <td>jpg/image_07710.jpg</td>\n",
       "      <td>96</td>\n",
       "    </tr>\n",
       "  </tbody>\n",
       "</table>\n",
       "</div>"
      ],
      "text/plain": [
       "                     0   1\n",
       "0  jpg/image_03860.jpg  16\n",
       "1  jpg/image_06092.jpg  13\n",
       "2  jpg/image_02400.jpg  42\n",
       "3  jpg/image_02852.jpg  55\n",
       "4  jpg/image_07710.jpg  96"
      ]
     },
     "execution_count": 8,
     "metadata": {},
     "output_type": "execute_result"
    }
   ],
   "source": [
    "train = pd.read_csv(path/'train.txt', header=None, sep=' ')\n",
    "train.head() #head displays the first 5 rows of the dataframe"
   ]
  },
  {
   "cell_type": "markdown",
   "metadata": {},
   "source": [
    "We can see that the file contains the image file name and its corresponding labels. So let's label the columns of the pandas dataframe accordingly."
   ]
  },
  {
   "cell_type": "code",
   "execution_count": 9,
   "metadata": {},
   "outputs": [
    {
     "data": {
      "text/html": [
       "<div>\n",
       "<style scoped>\n",
       "    .dataframe tbody tr th:only-of-type {\n",
       "        vertical-align: middle;\n",
       "    }\n",
       "\n",
       "    .dataframe tbody tr th {\n",
       "        vertical-align: top;\n",
       "    }\n",
       "\n",
       "    .dataframe thead th {\n",
       "        text-align: right;\n",
       "    }\n",
       "</style>\n",
       "<table border=\"1\" class=\"dataframe\">\n",
       "  <thead>\n",
       "    <tr style=\"text-align: right;\">\n",
       "      <th></th>\n",
       "      <th>name</th>\n",
       "      <th>label</th>\n",
       "    </tr>\n",
       "  </thead>\n",
       "  <tbody>\n",
       "    <tr>\n",
       "      <th>0</th>\n",
       "      <td>jpg/image_03860.jpg</td>\n",
       "      <td>16</td>\n",
       "    </tr>\n",
       "    <tr>\n",
       "      <th>1</th>\n",
       "      <td>jpg/image_06092.jpg</td>\n",
       "      <td>13</td>\n",
       "    </tr>\n",
       "    <tr>\n",
       "      <th>2</th>\n",
       "      <td>jpg/image_02400.jpg</td>\n",
       "      <td>42</td>\n",
       "    </tr>\n",
       "    <tr>\n",
       "      <th>3</th>\n",
       "      <td>jpg/image_02852.jpg</td>\n",
       "      <td>55</td>\n",
       "    </tr>\n",
       "    <tr>\n",
       "      <th>4</th>\n",
       "      <td>jpg/image_07710.jpg</td>\n",
       "      <td>96</td>\n",
       "    </tr>\n",
       "  </tbody>\n",
       "</table>\n",
       "</div>"
      ],
      "text/plain": [
       "                  name  label\n",
       "0  jpg/image_03860.jpg     16\n",
       "1  jpg/image_06092.jpg     13\n",
       "2  jpg/image_02400.jpg     42\n",
       "3  jpg/image_02852.jpg     55\n",
       "4  jpg/image_07710.jpg     96"
      ]
     },
     "execution_count": 9,
     "metadata": {},
     "output_type": "execute_result"
    }
   ],
   "source": [
    "cols = ['name', 'label']\n",
    "train.columns = cols\n",
    "train.head()"
   ]
  },
  {
   "cell_type": "markdown",
   "metadata": {},
   "source": [
    "Now that we have an organized structuring for our training files. Let's do the same to create a validation and test dataframe."
   ]
  },
  {
   "cell_type": "code",
   "execution_count": 10,
   "metadata": {},
   "outputs": [],
   "source": [
    "# validation df\n",
    "valid = pd.read_csv(path/'valid.txt', sep=\" \", names= cols )\n",
    "# test df\n",
    "test = pd.read_csv(path/'test.txt', sep=\" \", names= cols )"
   ]
  },
  {
   "cell_type": "code",
   "execution_count": 11,
   "metadata": {},
   "outputs": [
    {
     "data": {
      "text/html": [
       "<div>\n",
       "<style scoped>\n",
       "    .dataframe tbody tr th:only-of-type {\n",
       "        vertical-align: middle;\n",
       "    }\n",
       "\n",
       "    .dataframe tbody tr th {\n",
       "        vertical-align: top;\n",
       "    }\n",
       "\n",
       "    .dataframe thead th {\n",
       "        text-align: right;\n",
       "    }\n",
       "</style>\n",
       "<table border=\"1\" class=\"dataframe\">\n",
       "  <thead>\n",
       "    <tr style=\"text-align: right;\">\n",
       "      <th></th>\n",
       "      <th>name</th>\n",
       "      <th>label</th>\n",
       "    </tr>\n",
       "  </thead>\n",
       "  <tbody>\n",
       "    <tr>\n",
       "      <th>0</th>\n",
       "      <td>jpg/image_04467.jpg</td>\n",
       "      <td>89</td>\n",
       "    </tr>\n",
       "    <tr>\n",
       "      <th>1</th>\n",
       "      <td>jpg/image_07129.jpg</td>\n",
       "      <td>44</td>\n",
       "    </tr>\n",
       "    <tr>\n",
       "      <th>2</th>\n",
       "      <td>jpg/image_05166.jpg</td>\n",
       "      <td>4</td>\n",
       "    </tr>\n",
       "    <tr>\n",
       "      <th>3</th>\n",
       "      <td>jpg/image_07002.jpg</td>\n",
       "      <td>34</td>\n",
       "    </tr>\n",
       "    <tr>\n",
       "      <th>4</th>\n",
       "      <td>jpg/image_02007.jpg</td>\n",
       "      <td>79</td>\n",
       "    </tr>\n",
       "  </tbody>\n",
       "</table>\n",
       "</div>"
      ],
      "text/plain": [
       "                  name  label\n",
       "0  jpg/image_04467.jpg     89\n",
       "1  jpg/image_07129.jpg     44\n",
       "2  jpg/image_05166.jpg      4\n",
       "3  jpg/image_07002.jpg     34\n",
       "4  jpg/image_02007.jpg     79"
      ]
     },
     "execution_count": 11,
     "metadata": {},
     "output_type": "execute_result"
    }
   ],
   "source": [
    "valid.head()"
   ]
  },
  {
   "cell_type": "code",
   "execution_count": 12,
   "metadata": {
    "scrolled": true
   },
   "outputs": [
    {
     "data": {
      "text/html": [
       "<div>\n",
       "<style scoped>\n",
       "    .dataframe tbody tr th:only-of-type {\n",
       "        vertical-align: middle;\n",
       "    }\n",
       "\n",
       "    .dataframe tbody tr th {\n",
       "        vertical-align: top;\n",
       "    }\n",
       "\n",
       "    .dataframe thead th {\n",
       "        text-align: right;\n",
       "    }\n",
       "</style>\n",
       "<table border=\"1\" class=\"dataframe\">\n",
       "  <thead>\n",
       "    <tr style=\"text-align: right;\">\n",
       "      <th></th>\n",
       "      <th>name</th>\n",
       "      <th>label</th>\n",
       "    </tr>\n",
       "  </thead>\n",
       "  <tbody>\n",
       "    <tr>\n",
       "      <th>0</th>\n",
       "      <td>jpg/image_06977.jpg</td>\n",
       "      <td>34</td>\n",
       "    </tr>\n",
       "    <tr>\n",
       "      <th>1</th>\n",
       "      <td>jpg/image_00800.jpg</td>\n",
       "      <td>80</td>\n",
       "    </tr>\n",
       "    <tr>\n",
       "      <th>2</th>\n",
       "      <td>jpg/image_05038.jpg</td>\n",
       "      <td>58</td>\n",
       "    </tr>\n",
       "    <tr>\n",
       "      <th>3</th>\n",
       "      <td>jpg/image_06759.jpg</td>\n",
       "      <td>0</td>\n",
       "    </tr>\n",
       "    <tr>\n",
       "      <th>4</th>\n",
       "      <td>jpg/image_01133.jpg</td>\n",
       "      <td>45</td>\n",
       "    </tr>\n",
       "  </tbody>\n",
       "</table>\n",
       "</div>"
      ],
      "text/plain": [
       "                  name  label\n",
       "0  jpg/image_06977.jpg     34\n",
       "1  jpg/image_00800.jpg     80\n",
       "2  jpg/image_05038.jpg     58\n",
       "3  jpg/image_06759.jpg      0\n",
       "4  jpg/image_01133.jpg     45"
      ]
     },
     "execution_count": 12,
     "metadata": {},
     "output_type": "execute_result"
    }
   ],
   "source": [
    "test.head()"
   ]
  },
  {
   "cell_type": "markdown",
   "metadata": {},
   "source": [
    "Let's see the count of images in each one of the train, validation and test datasets. "
   ]
  },
  {
   "cell_type": "code",
   "execution_count": 13,
   "metadata": {},
   "outputs": [
    {
     "name": "stdout",
     "output_type": "stream",
     "text": [
      "The number of images in training set are:1020\n",
      "The number of images in validation set are:1020\n",
      "The number of images in test set are:1020\n"
     ]
    }
   ],
   "source": [
    "print(f\"The number of images in training set are:{len(train)}\")\n",
    "print(f\"The number of images in validation set are:{len(valid)}\")\n",
    "print(f\"The number of images in test set are:{len(valid)}\")"
   ]
  },
  {
   "cell_type": "markdown",
   "metadata": {},
   "source": [
    "We can see that we have a total of around 8000 labelled images to build our flower classifier of 102 different clases. Since the data we have ain't that much let's utilize all the data available to build our model. To do so let's first merge the 3 dataframes into one.\n"
   ]
  },
  {
   "cell_type": "code",
   "execution_count": 14,
   "metadata": {},
   "outputs": [
    {
     "data": {
      "text/html": [
       "<div>\n",
       "<style scoped>\n",
       "    .dataframe tbody tr th:only-of-type {\n",
       "        vertical-align: middle;\n",
       "    }\n",
       "\n",
       "    .dataframe tbody tr th {\n",
       "        vertical-align: top;\n",
       "    }\n",
       "\n",
       "    .dataframe thead th {\n",
       "        text-align: right;\n",
       "    }\n",
       "</style>\n",
       "<table border=\"1\" class=\"dataframe\">\n",
       "  <thead>\n",
       "    <tr style=\"text-align: right;\">\n",
       "      <th></th>\n",
       "      <th>name</th>\n",
       "      <th>label</th>\n",
       "    </tr>\n",
       "  </thead>\n",
       "  <tbody>\n",
       "    <tr>\n",
       "      <th>0</th>\n",
       "      <td>jpg/image_03860.jpg</td>\n",
       "      <td>16</td>\n",
       "    </tr>\n",
       "    <tr>\n",
       "      <th>1</th>\n",
       "      <td>jpg/image_06092.jpg</td>\n",
       "      <td>13</td>\n",
       "    </tr>\n",
       "    <tr>\n",
       "      <th>2</th>\n",
       "      <td>jpg/image_02400.jpg</td>\n",
       "      <td>42</td>\n",
       "    </tr>\n",
       "    <tr>\n",
       "      <th>3</th>\n",
       "      <td>jpg/image_02852.jpg</td>\n",
       "      <td>55</td>\n",
       "    </tr>\n",
       "    <tr>\n",
       "      <th>4</th>\n",
       "      <td>jpg/image_07710.jpg</td>\n",
       "      <td>96</td>\n",
       "    </tr>\n",
       "  </tbody>\n",
       "</table>\n",
       "</div>"
      ],
      "text/plain": [
       "                  name  label\n",
       "0  jpg/image_03860.jpg     16\n",
       "1  jpg/image_06092.jpg     13\n",
       "2  jpg/image_02400.jpg     42\n",
       "3  jpg/image_02852.jpg     55\n",
       "4  jpg/image_07710.jpg     96"
      ]
     },
     "execution_count": 14,
     "metadata": {},
     "output_type": "execute_result"
    }
   ],
   "source": [
    "df = pd.concat([train, valid, test], axis=0)\n",
    "df.head()"
   ]
  },
  {
   "cell_type": "code",
   "execution_count": 15,
   "metadata": {},
   "outputs": [
    {
     "name": "stdout",
     "output_type": "stream",
     "text": [
      "The main dataframe consists of 8189 labeled images.\n"
     ]
    }
   ],
   "source": [
    "#hide_input\n",
    "print(f'The main dataframe consists of {len(df)} labeled images.')"
   ]
  },
  {
   "cell_type": "markdown",
   "metadata": {},
   "source": [
    "By looking at the above dataframe we can see that the images and numerically labelled by the creators of the datset, probably for easier mapping. This would make visualization pretty bad since we won't what flower we are seeing in the end. So let's get the mpping of the labels to the numerical assignemnt given here.\n",
    "\n",
    "If you look at the main source of the dataset, the labels are provided in a .mat file and would be quite cumbersome to fetch. Luckily enough [JosephKJ](https://gist.github.com/JosephKJ) did the labelling and generously made it available for us [here](https://gist.github.com/JosephKJ/94c7728ed1a8e0cd87fe6a029769cde1). I downloaded the .txt file and will read it using pandas. "
   ]
  },
  {
   "cell_type": "code",
   "execution_count": 16,
   "metadata": {},
   "outputs": [
    {
     "data": {
      "text/html": [
       "<div>\n",
       "<style scoped>\n",
       "    .dataframe tbody tr th:only-of-type {\n",
       "        vertical-align: middle;\n",
       "    }\n",
       "\n",
       "    .dataframe tbody tr th {\n",
       "        vertical-align: top;\n",
       "    }\n",
       "\n",
       "    .dataframe thead th {\n",
       "        text-align: right;\n",
       "    }\n",
       "</style>\n",
       "<table border=\"1\" class=\"dataframe\">\n",
       "  <thead>\n",
       "    <tr style=\"text-align: right;\">\n",
       "      <th></th>\n",
       "      <th>labels</th>\n",
       "    </tr>\n",
       "  </thead>\n",
       "  <tbody>\n",
       "    <tr>\n",
       "      <th>0</th>\n",
       "      <td>pink primrose</td>\n",
       "    </tr>\n",
       "    <tr>\n",
       "      <th>1</th>\n",
       "      <td>hard-leaved pocket orchid</td>\n",
       "    </tr>\n",
       "    <tr>\n",
       "      <th>2</th>\n",
       "      <td>canterbury bells</td>\n",
       "    </tr>\n",
       "    <tr>\n",
       "      <th>3</th>\n",
       "      <td>sweet pea</td>\n",
       "    </tr>\n",
       "    <tr>\n",
       "      <th>4</th>\n",
       "      <td>english marigold</td>\n",
       "    </tr>\n",
       "  </tbody>\n",
       "</table>\n",
       "</div>"
      ],
      "text/plain": [
       "                       labels\n",
       "0               pink primrose\n",
       "1   hard-leaved pocket orchid\n",
       "2            canterbury bells\n",
       "3                   sweet pea\n",
       "4            english marigold"
      ]
     },
     "execution_count": 16,
     "metadata": {},
     "output_type": "execute_result"
    }
   ],
   "source": [
    "labels = pd.read_csv('data/labels.txt', header=None, names = ['labels'])\n",
    "labels['labels'] = labels['labels'].apply(lambda x: x.replace(\"'\", \"\"))\n",
    "labels.head()"
   ]
  },
  {
   "cell_type": "markdown",
   "metadata": {},
   "source": [
    "Now creating labels dictionary where key is the number and value is the respective name of the flower. "
   ]
  },
  {
   "cell_type": "code",
   "execution_count": 17,
   "metadata": {},
   "outputs": [],
   "source": [
    "labels_dict = dict(zip(list(range(len(labels))), labels['labels']))"
   ]
  },
  {
   "cell_type": "markdown",
   "metadata": {},
   "source": [
    "Let's use the all powerful pandas `apply` function again to map the numerical labels in `df` with the `labels_dict`"
   ]
  },
  {
   "cell_type": "code",
   "execution_count": 18,
   "metadata": {},
   "outputs": [
    {
     "data": {
      "text/html": [
       "<div>\n",
       "<style scoped>\n",
       "    .dataframe tbody tr th:only-of-type {\n",
       "        vertical-align: middle;\n",
       "    }\n",
       "\n",
       "    .dataframe tbody tr th {\n",
       "        vertical-align: top;\n",
       "    }\n",
       "\n",
       "    .dataframe thead th {\n",
       "        text-align: right;\n",
       "    }\n",
       "</style>\n",
       "<table border=\"1\" class=\"dataframe\">\n",
       "  <thead>\n",
       "    <tr style=\"text-align: right;\">\n",
       "      <th></th>\n",
       "      <th>name</th>\n",
       "      <th>label</th>\n",
       "      <th>class</th>\n",
       "    </tr>\n",
       "  </thead>\n",
       "  <tbody>\n",
       "    <tr>\n",
       "      <th>0</th>\n",
       "      <td>jpg/image_03860.jpg</td>\n",
       "      <td>16</td>\n",
       "      <td>purple coneflower</td>\n",
       "    </tr>\n",
       "    <tr>\n",
       "      <th>1</th>\n",
       "      <td>jpg/image_06092.jpg</td>\n",
       "      <td>13</td>\n",
       "      <td>spear thistle</td>\n",
       "    </tr>\n",
       "    <tr>\n",
       "      <th>2</th>\n",
       "      <td>jpg/image_02400.jpg</td>\n",
       "      <td>42</td>\n",
       "      <td>sword lily</td>\n",
       "    </tr>\n",
       "    <tr>\n",
       "      <th>3</th>\n",
       "      <td>jpg/image_02852.jpg</td>\n",
       "      <td>55</td>\n",
       "      <td>bishop of llandaff</td>\n",
       "    </tr>\n",
       "    <tr>\n",
       "      <th>4</th>\n",
       "      <td>jpg/image_07710.jpg</td>\n",
       "      <td>96</td>\n",
       "      <td>mallow</td>\n",
       "    </tr>\n",
       "  </tbody>\n",
       "</table>\n",
       "</div>"
      ],
      "text/plain": [
       "                  name  label                class\n",
       "0  jpg/image_03860.jpg     16    purple coneflower\n",
       "1  jpg/image_06092.jpg     13        spear thistle\n",
       "2  jpg/image_02400.jpg     42           sword lily\n",
       "3  jpg/image_02852.jpg     55   bishop of llandaff\n",
       "4  jpg/image_07710.jpg     96               mallow"
      ]
     },
     "execution_count": 18,
     "metadata": {},
     "output_type": "execute_result"
    }
   ],
   "source": [
    "# Creating a new column 'class' using the existing label of images\n",
    "df['class'] = df['label'].apply(lambda x: labels_dict[x])\n",
    "df.head()"
   ]
  },
  {
   "cell_type": "markdown",
   "metadata": {},
   "source": [
    "Let's now save this dataframe  as a CSV file for ease of access later on."
   ]
  },
  {
   "cell_type": "code",
   "execution_count": 19,
   "metadata": {},
   "outputs": [],
   "source": [
    "df.to_csv('data/df.csv')"
   ]
  },
  {
   "cell_type": "markdown",
   "metadata": {},
   "source": [
    "Now that we have arranged our data exactly as we want it, let's move ahead to model building using fastai library. "
   ]
  },
  {
   "cell_type": "markdown",
   "metadata": {},
   "source": [
    "---\n",
    "\n",
    "### The DataBlock API\n",
    "\n",
    "We have our data structured well and exactly as we want. It's now time to feed it into the fastai library. This can be done using the [DataBlocks](http://dev.fast.ai/data.block) API. \n",
    "\n",
    "> The DataBlocks API is the Fastai solution to simplifying the most time-consuming task in a data science pipeline, `Data Preparation.` It's easy to use, highly hackable and can be be used for a wide variety of data on applications such as vision, tabular, and text. \n",
    "\n",
    "This DataBlock API is a much-needed addition to the fastai v2, which makes it super easy to load in data as needed for deep learning models."
   ]
  },
  {
   "cell_type": "code",
   "execution_count": 20,
   "metadata": {},
   "outputs": [],
   "source": [
    "def get_x(r): return path/r['name']\n",
    "def get_y(r): return r['class']\n",
    "\n",
    "dblock = DataBlock(blocks=(ImageBlock, CategoryBlock),\n",
    "                   splitter=RandomSplitter(seed=42),\n",
    "                   get_x= get_x,\n",
    "                   get_y= get_y, \n",
    "                   item_tfms = Resize(224))\n",
    "dls = dblock.dataloaders(df) "
   ]
  },
  {
   "cell_type": "markdown",
   "metadata": {},
   "source": [
    "Let's get a basic understanding of what's happening in the above code. Creating data which can be fed to a model requires two steps:\n",
    "\n",
    "#### 1. Create a DataBlock: \n",
    "\n",
    "A `Datablock` can be considered as a series of sequential functions all collated into one function. For people who have used sci-kit-learn, this can be considered similar to a pipeline. \n",
    "\n",
    "The DataBlock API requires some methods to get the input data in the desired format for model building and training:\n",
    "\n",
    "- `blocks`: \n",
    "This is used to define the input and output of the model. In the above code, the type of input i.e. the independent variable, which are images and hence `ImageBlock.` The output, i.e., dependant variable, are categories of flowers and hence `CategoryBlock.`\n",
    "    \n",
    "- `splitter`: \n",
    "Splitters are used to divide our data into training and validation. This is of utmost importance because we don't want our model to train and memorize all the training images. We want a subset of images to validate how good our model is doing. In this case, we use a method that randomly splits data in train and validation. \n",
    "    \n",
    "- `getters`:\n",
    "Getters are used to get the independent and dependant variables in the right order. The two getters used are `get_x` and `get_y.` Here we defined `get_x` by grabbing the name of the image file from `df` and adding the path to it, and we set `get_y` by getting the `class` column from df. \n",
    "    \n",
    "- `transforms`: \n",
    "Transforms are used to perform data augmentation techniques on our input data either on the entire data(`item_tfms`) on the CPU or on the data passed as batches(`batch_tfms`) when passing it through the architecture on the GPU. In this case, we are just resizing all images to `224`, which is mandatory as deep learning models need all our training images to be of the same size. \n",
    "    \n",
    "    \n",
    "#### 2. Call the dataloaders method on your data:\n",
    "\n",
    "A `dataloaders` is a method called on the DataBlock where we pass in our dataframe `df` to perform all the steps mentioned in the DataBlock, which finally returns the data in the required format for modeling. "
   ]
  },
  {
   "cell_type": "markdown",
   "metadata": {},
   "source": [
    "---\n",
    "### Visualizing the data"
   ]
  },
  {
   "cell_type": "markdown",
   "metadata": {},
   "source": [
    "Now that we have made our data ready and in the format to be ingested by the fastai library, let's visualize our data. \n",
    "\n",
    "We can use `show_batch` method from our dataloader created to visualize a batch of images and their labels."
   ]
  },
  {
   "cell_type": "code",
   "execution_count": null,
   "metadata": {},
   "outputs": [],
   "source": [
    "dls.show_batch()"
   ]
  },
  {
   "cell_type": "markdown",
   "metadata": {},
   "source": [
    "---\n",
    "### Building the model\n",
    "\n",
    "Let's build a deep learning model on our dataset using a ***Convolutional Neural Netwok(CNN)*** model. \n",
    "\n",
    "\n",
    "#### Basic understanding of CNN's\n",
    "\n",
    "Here's the general architecture of every CNN model\n",
    "\n",
    "![](images/cnn_understanding.jpeg)"
   ]
  },
  {
   "cell_type": "markdown",
   "metadata": {},
   "source": [
    "Every CNN architecture consists of 4 parts:\n",
    "\n",
    "- Input layer: \n",
    "    The input i.e. the image dataset with 'n' classes which are correctly labeled on which our image classification model is built on. \n",
    "    \n",
    "- Feature extraction: \n",
    "    This is the crux of the CNN model. It learns various features of the classes in your data and how to distinguish between them during the training process. \n",
    "    For instance, during the training process, if images of dogs are passed in, the initial layers learn simple features such as lines, edges, circles. Still, as we move to later layers of the model, the model learns complex features like ears, nose, and eyes of the dog. In machine language, all these features are represented numerically, and we refer to all these learned features as `parameters` of the model. \n",
    "    \n",
    "- Classification:\n",
    "    This part of the model is used to pool in the different features learned and associate it with the corresponding class. \n",
    "    Continuing the example of our dog, it could mean that we pool in the features learned about the dog, such as its nose, eyes, tail, etc. and associate it with the output label, which is a dog.\n",
    "   \n",
    "- Output:\n",
    "    This is the part that associates an input image to class as labeled in our training set. When a new image of a dog is sent through a trained model, the output class of the model will get activated and indicate that the input image is that of a dog. \n",
    "    \n",
    "The entire structure of the model built above is referred to as a model `architecture` in deep learning. \n",
    "\n",
    "\n",
    "Now, we can build flower classifier from scratch, but since we only have 8000 odd images for 102 different classes. We can safely say that we don't have enough data to build a beautiful model from scratch. \n",
    "\n",
    "Instead, let's use the biggest weapon in the deep learning arsenal available at our disposal, ***Transfer Learning***. "
   ]
  },
  {
   "cell_type": "markdown",
   "metadata": {},
   "source": [
    "---\n",
    "#### Transfer Learning\n",
    "\n",
    "Transfer Learning is a method that uses the work done by other researchers who spend days on end to build appropriate `architectures` which train on large datasets for specific tasks. For instance, the ImageNet dataset, which consists of  1.3 million images of various sizes around 500 pixels across in 1000 categories, takes a few days to train. \n",
    "\n",
    "The main idea is as follows, the ImageNet dataset has 1000 different everyday categories, and the parameters and features it learns for each one of the categories can be applied to make the building blocks of the flowers dataset we are working on. The initial ***feature extraction*** layers that learn simple features line lines, edges, circles, etc. can be applied to flowers as well, and we can fine-tune the final layers to distinguish between the different classes of flowers. \n",
    "\n",
    "The final output layer(which is trained on 1000 categories) also needs to be removed and replaced with the 102 different classes of flowers. \n",
    "\n",
    "---\n",
    "#### Defining the learner\n",
    "\n",
    "In fastai, to build a model, we use the `cnn_learner` class. We need to pass in the following details to the `cnn_learner` to train the model:\n",
    "\n",
    "- ***Dataloaders object:***\n",
    "   The `dls` dataloader we created according to how fastai needs the input data.  \n",
    "- ***Model Architecture:***\n",
    "    This is the architecture we would like to use. Since we are making use of transfer learning, we'll use a `pretrained model,` in this case, the famous resnet34 architecture. \n",
    "- ***Metrics:***\n",
    "    This is how you would like to keep track of your training progress. In this case, we'll use `accuracy,` which indicates how well our model classifies all the classes in our data overall. "
   ]
  },
  {
   "cell_type": "code",
   "execution_count": null,
   "metadata": {},
   "outputs": [],
   "source": [
    "learn = cnn_learner(dls, resnet34, metrics=accuracy)"
   ]
  },
  {
   "cell_type": "markdown",
   "metadata": {},
   "source": [
    "Let's visualize the model architecture used i.e the resnet34 architecture"
   ]
  },
  {
   "cell_type": "code",
   "execution_count": null,
   "metadata": {},
   "outputs": [],
   "source": [
    "learn.summary()"
   ]
  },
  {
   "cell_type": "markdown",
   "metadata": {},
   "source": [
    "If you scroll down and read the summary, in the end, you can see that there are a total of around 21 million parameters, but only around 600k parameters are trainable. \n",
    "\n",
    "This is because we have inherited a model trained extensively on the ImageNet dataset and are using the parameters learned by that model to train our model on 102 classes of flowers. \n",
    "\n",
    "This means that the parameters learned early on in the model to distinguish various objects are kept as is, and the final layers are replaced to classify."
   ]
  },
  {
   "cell_type": "markdown",
   "metadata": {},
   "source": [
    "#### Fine-tuning pretrained model\n",
    "\n",
    "Once we have created our learner based on a pretrained resnet34 model, let's train our learner on classifying the flowers. In fastai there's a learner method specifically to train a pretrained model called `fine_tune` quickly. \n",
    "\n",
    "`fine_tune` by default trains the `head,` i.e. the additional part to the model we added for our classification of 102 flowers for one epoch and then unfreezes the all the weights and optimizes the entire model including the weights in the starting phase. \n",
    "\n",
    "So in the first epoch, the model learns the 600k trainable parameters such that all 21 million parameters are trained roughly. In the consecutive 2 epochs, it optimizes the all these weights specifically for the task in hand, i.e. classifying 102 types of flowers.  "
   ]
  },
  {
   "cell_type": "code",
   "execution_count": null,
   "metadata": {
    "scrolled": true
   },
   "outputs": [],
   "source": [
    "learn.fine_tune(3)"
   ]
  },
  {
   "cell_type": "markdown",
   "metadata": {},
   "source": [
    "We can see that by using the power of transfer learning, in 2 lines of code and 3 steps of training(epochs) which took about 30 seconds to train on small GPU we are able to build a flowers classifier which can classify between 102 types of flowers with greater than 96% accuracy! \n",
    "\n",
    "This blows the original [paper](https://www.robots.ox.ac.uk/~vgg/publications/2008/Nilsback08/nilsback08.pdf) out of the water which came out in 2008 which used a non-DL approach to tackle this problem and received an accuracy of about 72.8%\n",
    "\n",
    "![](images/og_flowers_results.png)\n",
    "\n",
    "But this isn't really a fair comparison, so if we compare our basic model the current [leaderboard](https://paperswithcode.com/sota/image-classification-on-flowers-102) for the flowers-102 dataset, we can see that the best accuracy on the entire dataset is about 99.7%. \n",
    "\n",
    "So, this is a good starting point. This will act as our baseline model for future improvements and experimentation in order to come closer to the current benchmark. \n",
    "\n",
    "So let's save this model so that we can build on from here form next time. "
   ]
  },
  {
   "cell_type": "code",
   "execution_count": null,
   "metadata": {},
   "outputs": [],
   "source": [
    "learn.save('flowers-baseline')"
   ]
  },
  {
   "cell_type": "markdown",
   "metadata": {},
   "source": [
    "We'll slowly build upon this and make this model better while learning more about building state-of-the-art models in the upcoming posts."
   ]
  },
  {
   "cell_type": "markdown",
   "metadata": {},
   "source": [
    "---\n",
    "### Learning resources\n",
    "\n",
    "1. Corey Schafer's [Python Tutorials](https://www.youtube.com/watch?v=YYXdXT2l-Gg&list=PL-osiE80TeTt2d9bfVyTiXJA-UTHn6WwU)\n",
    "2. Corey Schafer's [Pandas Tutorials](https://www.youtube.com/watch?v=ZyhVh-qRZPA&list=PL-osiE80TeTsWmV9i9c58mdDCSskIFdDS)\n",
    "3. Fastai v2 [Documentation]()\n",
    "\n",
    "4. [Fastbook](https://github.com/fastai/fastbook) i.e Deep Learning for Coders with Fastai and Pytorch: AI Applications Without a PhD by Jeremy Howard and Sylvain Gugger\n",
    "\n",
    "5. [Fastai DataBlock API walkthrough](https://t.co/b1ZFLpJ1DN?amp=1) blog by [Zach Mueller](https://forums.fast.ai/u/muellerzr/summary)\n",
    "\n",
    "---\n",
    "\n",
    "Happy learning, stay at home and stay safe! :)"
   ]
  },
  {
   "cell_type": "markdown",
   "metadata": {},
   "source": [
    "---"
   ]
  }
 ],
 "metadata": {
  "kernelspec": {
   "display_name": "Python 3",
   "language": "python",
   "name": "python3"
  },
  "language_info": {
   "codemirror_mode": {
    "name": "ipython",
    "version": 3
   },
   "file_extension": ".py",
   "mimetype": "text/x-python",
   "name": "python",
   "nbconvert_exporter": "python",
   "pygments_lexer": "ipython3",
   "version": "3.7.6"
  }
 },
 "nbformat": 4,
 "nbformat_minor": 4
}
